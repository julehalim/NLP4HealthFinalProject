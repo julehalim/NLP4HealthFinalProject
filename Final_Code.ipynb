{
 "cells": [
  {
   "cell_type": "markdown",
   "metadata": {},
   "source": [
    "# Preprocessing"
   ]
  },
  {
   "cell_type": "code",
   "execution_count": 998,
   "metadata": {},
   "outputs": [],
   "source": [
    "## Packages\n",
    "##Imports\n",
    "import pandas as pd\n",
    "import transformers\n",
    "import openpyxl\n",
    "import numpy\n",
    "import torch\n",
    "\n",
    "# Does augmenting classifiers with structured data help?\n",
    "# Do it for both the baseline classical ML and transformers then compare\n",
    "# Try it with just structured data [0s and 1s]"
   ]
  },
  {
   "cell_type": "code",
   "execution_count": 999,
   "metadata": {},
   "outputs": [
    {
     "name": "stdout",
     "output_type": "stream",
     "text": [
      "Looking in indexes: https://download.pytorch.org/whl/cu121\n",
      "Requirement already satisfied: torch in c:\\users\\julev\\anaconda3\\envs\\cudaenv\\lib\\site-packages (2.3.0+cu121)\n",
      "Requirement already satisfied: torchvision in c:\\users\\julev\\anaconda3\\envs\\cudaenv\\lib\\site-packages (0.18.0+cu121)\n",
      "Requirement already satisfied: torchaudio in c:\\users\\julev\\anaconda3\\envs\\cudaenv\\lib\\site-packages (2.3.0+cu121)\n",
      "Requirement already satisfied: filelock in c:\\users\\julev\\anaconda3\\envs\\cudaenv\\lib\\site-packages (from torch) (3.14.0)\n",
      "Requirement already satisfied: typing-extensions>=4.8.0 in c:\\users\\julev\\anaconda3\\envs\\cudaenv\\lib\\site-packages (from torch) (4.11.0)\n",
      "Requirement already satisfied: sympy in c:\\users\\julev\\anaconda3\\envs\\cudaenv\\lib\\site-packages (from torch) (1.12)\n",
      "Requirement already satisfied: networkx in c:\\users\\julev\\anaconda3\\envs\\cudaenv\\lib\\site-packages (from torch) (3.3)\n",
      "Requirement already satisfied: jinja2 in c:\\users\\julev\\anaconda3\\envs\\cudaenv\\lib\\site-packages (from torch) (3.1.4)\n",
      "Requirement already satisfied: fsspec in c:\\users\\julev\\anaconda3\\envs\\cudaenv\\lib\\site-packages (from torch) (2024.3.1)\n",
      "Requirement already satisfied: mkl<=2021.4.0,>=2021.1.1 in c:\\users\\julev\\anaconda3\\envs\\cudaenv\\lib\\site-packages (from torch) (2021.4.0)\n",
      "Requirement already satisfied: numpy in c:\\users\\julev\\anaconda3\\envs\\cudaenv\\lib\\site-packages (from torchvision) (1.26.4)\n",
      "Requirement already satisfied: pillow!=8.3.*,>=5.3.0 in c:\\users\\julev\\anaconda3\\envs\\cudaenv\\lib\\site-packages (from torchvision) (10.2.0)\n",
      "Requirement already satisfied: intel-openmp==2021.* in c:\\users\\julev\\anaconda3\\envs\\cudaenv\\lib\\site-packages (from mkl<=2021.4.0,>=2021.1.1->torch) (2021.4.0)\n",
      "Requirement already satisfied: tbb==2021.* in c:\\users\\julev\\anaconda3\\envs\\cudaenv\\lib\\site-packages (from mkl<=2021.4.0,>=2021.1.1->torch) (2021.12.0)\n",
      "Requirement already satisfied: MarkupSafe>=2.0 in c:\\users\\julev\\anaconda3\\envs\\cudaenv\\lib\\site-packages (from jinja2->torch) (2.1.5)\n",
      "Requirement already satisfied: mpmath>=0.19 in c:\\users\\julev\\anaconda3\\envs\\cudaenv\\lib\\site-packages (from sympy->torch) (1.3.0)\n"
     ]
    }
   ],
   "source": [
    "!pip3 install torch torchvision torchaudio --index-url https://download.pytorch.org/whl/cu121"
   ]
  },
  {
   "cell_type": "code",
   "execution_count": 1000,
   "metadata": {},
   "outputs": [
    {
     "data": {
      "text/plain": [
       "True"
      ]
     },
     "execution_count": 1000,
     "metadata": {},
     "output_type": "execute_result"
    }
   ],
   "source": [
    "torch.cuda.is_available()"
   ]
  },
  {
   "cell_type": "code",
   "execution_count": 1001,
   "metadata": {},
   "outputs": [
    {
     "data": {
      "text/plain": [
       "'NVIDIA GeForce RTX 3060 Ti'"
      ]
     },
     "execution_count": 1001,
     "metadata": {},
     "output_type": "execute_result"
    }
   ],
   "source": [
    "torch.cuda.get_device_name(0)"
   ]
  },
  {
   "cell_type": "code",
   "execution_count": 1002,
   "metadata": {},
   "outputs": [
    {
     "name": "stdout",
     "output_type": "stream",
     "text": [
      "Sheet Name: Sample\n",
      "Sheet Name: Sentence_Labeling\n",
      "Sheet Name: ADR_Identified\n",
      "Sheet Name: ADR_Mapped\n",
      "Sheet Name: WD_Identified\n",
      "Sheet Name: WD-Mapped \n",
      "Sheet Name: SSI_Identified\n",
      "Sheet Name: SSI_Mapped\n",
      "Sheet Name: DI_Identified\n",
      "Sheet Name: DI_Mapped\n"
     ]
    }
   ],
   "source": [
    "## Reading in the PSYTar data set and parsing it\n",
    "\n",
    "## Use sentence_labelling sheet\n",
    "\n",
    "fileName=\".\\ONLINE_FORA\\PsyTAR_dataset.xlsx\"\n",
    "data=pd.ExcelFile(fileName)\n",
    "sheets={}\n",
    "for sheet in data.sheet_names:\n",
    "    sheets[sheet]=data.parse(sheet)\n",
    "\n",
    "## Remove the first two sheets (License and read_me)\n",
    "sheets.pop('License',None)\n",
    "sheets.pop('read_me',None)\n",
    "\n",
    "## This will print out the sheet names for the whole excel\n",
    "for sheet in sheets.keys():\n",
    "    print(f\"Sheet Name: {sheet}\")\n",
    "\n",
    "#To access a sheet, perform sheet['Sheet_Name']; e.g., sheets['Sample']"
   ]
  },
  {
   "cell_type": "code",
   "execution_count": 1003,
   "metadata": {},
   "outputs": [
    {
     "name": "stdout",
     "output_type": "stream",
     "text": [
      "  (0, 2183)\t0.3560733570424169\n",
      "  (0, 2858)\t0.5335210557775061\n",
      "  (0, 2980)\t0.33695305203929327\n",
      "  (0, 4715)\t0.3577130194209486\n",
      "  (0, 4193)\t0.36113778160835414\n",
      "  (0, 2071)\t0.2627216248356759\n",
      "  (0, 5156)\t0.2390135798252401\n",
      "  (0, 1829)\t0.30083291559032393\n",
      "  (1, 2765)\t0.4585168729312828\n",
      "  (1, 1351)\t0.8886857021677111\n",
      "  (2, 2263)\t0.2708094866549267\n",
      "  (2, 4586)\t0.4316846093641784\n",
      "  (2, 5071)\t0.44358904667953863\n",
      "  (2, 4827)\t0.2570546169681927\n",
      "  (2, 3078)\t0.23875893121623276\n",
      "  (2, 4151)\t0.3207489298964512\n",
      "  (2, 1492)\t0.29911785906957045\n",
      "  (2, 1201)\t0.35264280744022497\n",
      "  (2, 4287)\t0.3220996041881179\n",
      "  (3, 4012)\t0.534375375933816\n",
      "  (3, 3326)\t0.5729355939201095\n",
      "  (3, 1018)\t0.39488574070665183\n",
      "  (3, 1237)\t0.3054771887014283\n",
      "  (3, 5)\t0.3700495936825698\n",
      "  (4, 4801)\t0.3601630582861626\n",
      "  :\t:\n",
      "  (6006, 3810)\t0.266723700884449\n",
      "  (6006, 278)\t0.30278988091992165\n",
      "  (6006, 4033)\t0.24160419308016043\n",
      "  (6006, 1558)\t0.24160419308016043\n",
      "  (6006, 2821)\t0.21617383387506503\n",
      "  (6006, 3470)\t0.20987895271102364\n",
      "  (6006, 1390)\t0.23609327417139986\n",
      "  (6006, 2098)\t0.1721949331238259\n",
      "  (6006, 2792)\t0.15461917912599263\n",
      "  (6007, 5221)\t0.40690224630890753\n",
      "  (6007, 1388)\t0.36244934695018927\n",
      "  (6007, 2358)\t0.40690224630890753\n",
      "  (6007, 987)\t0.36244934695018927\n",
      "  (6007, 5165)\t0.28822766104713454\n",
      "  (6007, 2896)\t0.29736053264983103\n",
      "  (6007, 1619)\t0.26742602182403663\n",
      "  (6007, 1809)\t0.3151406469723878\n",
      "  (6007, 2777)\t0.25257333627086354\n",
      "  (6008, 3452)\t0.462967378880836\n",
      "  (6008, 4290)\t0.4133719291682648\n",
      "  (6008, 1695)\t0.41770974043639536\n",
      "  (6008, 3642)\t0.462967378880836\n",
      "  (6008, 186)\t0.3151272227530411\n",
      "  (6008, 2777)\t0.24953491233016006\n",
      "  (6008, 5269)\t0.25375538243161966\n",
      "Number of Drug Types: 4\n",
      "          id  comment_id        drug_id  sentence_index  \\\n",
      "0        1.0         1.0      lexapro.1             1.0   \n",
      "1        2.0         1.0      lexapro.1             2.0   \n",
      "2        3.0         1.0      lexapro.1             3.0   \n",
      "3        4.0         1.0      lexapro.1             4.0   \n",
      "4        5.0         1.0      lexapro.1             5.0   \n",
      "...      ...         ...            ...             ...   \n",
      "6004  1545.0       228.0  effexorxr.228            14.0   \n",
      "6005  1546.0       228.0  effexorxr.228            15.0   \n",
      "6006  1547.0       228.0  effexorxr.228            16.0   \n",
      "6007  1548.0       228.0  effexorxr.228            17.0   \n",
      "6008  1549.0       228.0  effexorxr.228            18.0   \n",
      "\n",
      "                                              sentences  ADR   WD   EF  INF  \\\n",
      "0     extreme weight gain short-term memory loss hai...  1.0  0.0  0.0  0.0   \n",
      "1                                      detoxing lexapro  0.0  0.0  0.0  0.0   \n",
      "2     slowly cut dosage several months took vitamin ...  0.0  0.0  0.0  0.0   \n",
      "3                          10 days completely omg rough  0.0  0.0  0.0  0.0   \n",
      "4     flu-like symptoms dizziness major mood swings ...  0.0  1.0  0.0  0.0   \n",
      "...                                                 ...  ...  ...  ...  ...   \n",
      "6004                                increase dosage yet  0.0  0.0  0.0  0.0   \n",
      "6005           'm hoping able stay 75 mgs long possible  0.0  0.0  0.0  0.0   \n",
      "6006  reading withdrawals little scarey like said pe...  0.0  0.0  0.0  0.0   \n",
      "6007  effexor made huge difference life come experie...  0.0  0.0  1.0  0.0   \n",
      "6008              would small price pay able enjoy life  0.0  0.0  1.0  0.0   \n",
      "\n",
      "      SSI DI  Findings  others  rating category  drug_name  \n",
      "0     0.0  0       0.0       0     1.0     ssri    lexapro  \n",
      "1     0.0  0       0.0       0     1.0     ssri    lexapro  \n",
      "2     0.0  0       0.0       1     1.0     ssri    lexapro  \n",
      "3     0.0  0       0.0       1     1.0     ssri    lexapro  \n",
      "4     0.0  0       0.0       0     1.0     ssri    lexapro  \n",
      "...   ... ..       ...     ...     ...      ...        ...  \n",
      "6004  0.0  0       0.0       1     5.0     snri  effexorxr  \n",
      "6005  0.0  0       0.0       1     5.0     snri  effexorxr  \n",
      "6006  0.0  0       0.0       1     5.0     snri  effexorxr  \n",
      "6007  0.0  0       0.0       0     5.0     snri  effexorxr  \n",
      "6008  0.0  0       0.0       0     5.0     snri  effexorxr  \n",
      "\n",
      "[6009 rows x 16 columns]\n"
     ]
    }
   ],
   "source": [
    "## Vectorize data into TF-IDF and preprocess data\n",
    "\n",
    "import nltk\n",
    "import string\n",
    "from sklearn.feature_extraction.text import TfidfVectorizer\n",
    "\n",
    "\n",
    "def preprocess(text):\n",
    "    text=str(text)\n",
    "    tokens=nltk.word_tokenize(text.lower())\n",
    "    tokens_clean=[t for t in tokens if (t not in stop_words) and (t not in punctuations)]\n",
    "    return ' '.join(tokens_clean)\n",
    "    \n",
    "stop_words=nltk.corpus.stopwords.words('english')\n",
    "punctuations=string.punctuation\n",
    "\n",
    "df=data.parse('Sentence_Labeling')\n",
    "df.drop(df.tail(1).index,inplace=True)\n",
    "df['drug_id']=df['drug_id'].str.lower()\n",
    "df['drug_name']=df['drug_id'].str.replace(r'\\.\\d+','',regex=True)\n",
    "df['sentences']=df['sentences'].apply(preprocess)\n",
    "df.fillna(0,inplace=True)\n",
    "unique_drug_count=df['drug_name'].nunique()\n",
    "\n",
    "tfidf=TfidfVectorizer()\n",
    "tfidfSentences=tfidf.fit_transform(df['sentences'])\n",
    "\n",
    "print(tfidfSentences)\n",
    "\n",
    "print('Number of Drug Types:',unique_drug_count)\n",
    "print(df)\n",
    "\n",
    "## ADR: adverse drug reaction\n",
    "## WD: withdrawal symptom\n",
    "## EF: effective\n",
    "## INF: ineffective\n",
    "## SSI: Sign/symptom/illness - if report contains explicit SSI that patient experienced that are not a result of the drug\n",
    "## DI: drug indication - shows SSI that explicitly mentioned as being resolved because of drug consumption"
   ]
  },
  {
   "cell_type": "code",
   "execution_count": 1004,
   "metadata": {},
   "outputs": [
    {
     "name": "stdout",
     "output_type": "stream",
     "text": [
      "['00' '04' '06' ... 'zoning' 'zopiclone' 'zyprexa']\n",
      "[['00' 'paramedics' 'paralyzing' ... 'though' 'feel' 'even']\n",
      " ['easliy' 'snowball' 'smptoms' ... 'depression' 'effects' 'side']\n",
      " ['00' 'pantry' 'pant' ... 'side' 'effects' 'drug']\n",
      " ['kidney' 'nose' 'notable' ... 'day' 'first' 'taking']]\n"
     ]
    }
   ],
   "source": [
    "## Investigate K-means clustering to see whether certain medicines have different side effects - use as baseline to see if there is a significant difference with the transformer model\n",
    "from sklearn.cluster import KMeans\n",
    "\n",
    "vocabulary=tfidf.get_feature_names_out()\n",
    "print(vocabulary)\n",
    "\n",
    "num_clusters=4\n",
    "km = KMeans(n_clusters=num_clusters,random_state=42)\n",
    "km.fit(tfidfSentences)\n",
    "top_words=km.cluster_centers_.argsort()\n",
    "print(vocabulary[top_words])\n",
    "df['cluster']=km.labels_"
   ]
  },
  {
   "cell_type": "code",
   "execution_count": 1005,
   "metadata": {},
   "outputs": [
    {
     "name": "stdout",
     "output_type": "stream",
     "text": [
      "drug_name\n",
      "cymbalta     1707\n",
      "effexorxr    1549\n",
      "lexapro      1492\n",
      "zoloft       1261\n",
      "Name: count, dtype: int64\n",
      "drug_name  cymbalta  effexorxr  lexapro  zoloft\n",
      "cluster                                        \n",
      "0                45         45       23      21\n",
      "1              1326       1192     1178    1012\n",
      "2                97        122       55      54\n",
      "3               239        190      236     174\n"
     ]
    },
    {
     "data": {
      "image/png": "[encoded data removed]",
      "text/plain": [
       "<Figure size 1200x800 with 2 Axes>"
      ]
     },
     "metadata": {},
     "output_type": "display_data"
    },
    {
     "name": "stdout",
     "output_type": "stream",
     "text": [
      "Chi2: 45.95915230961694, p-value: 6.128152407241562e-07\n"
     ]
    }
   ],
   "source": [
    "import matplotlib.pyplot as plt\n",
    "import seaborn as sns\n",
    "from scipy.stats import chi2_contingency\n",
    "\n",
    "print(df['drug_name'].value_counts())\n",
    "\n",
    "contingency_table = pd.crosstab(df['cluster'], df['drug_name'])\n",
    "print(contingency_table)\n",
    "\n",
    "plt.figure(figsize=(12, 8))\n",
    "sns.heatmap(contingency_table, annot=True, fmt=\"d\", cmap=\"YlGnBu\")\n",
    "plt.title('Cluster vs Drug Name Frequency')\n",
    "plt.ylabel('Cluster Label')\n",
    "plt.xlabel('Drug Name')\n",
    "plt.show()\n",
    "\n",
    "chi2, p, dof, expected = chi2_contingency(contingency_table)\n",
    "print(f\"Chi2: {chi2}, p-value: {p}\")"
   ]
  },
  {
   "cell_type": "code",
   "execution_count": 1006,
   "metadata": {},
   "outputs": [
    {
     "data": {
      "image/png": "[encoded data removed]",
      "text/plain": [
       "<Figure size 1000x800 with 1 Axes>"
      ]
     },
     "metadata": {},
     "output_type": "display_data"
    }
   ],
   "source": [
    "from sklearn.decomposition import PCA\n",
    "import matplotlib.pyplot as plt\n",
    "from mpl_toolkits.mplot3d import Axes3D \n",
    "from sklearn.cluster import KMeans\n",
    "\n",
    "\n",
    "pca = PCA(n_components=3)\n",
    "X_dim = pca.fit_transform(tfidfSentences.toarray())\n",
    "\n",
    "fig = plt.figure(figsize=(10, 8))\n",
    "ax = fig.add_subplot(111, projection='3d')\n",
    "\n",
    "scatter = ax.scatter(X_dim[:, 0], X_dim[:, 1], X_dim[:, 2], c=km.labels_, cmap='viridis', s=15, alpha=0.5)\n",
    "\n",
    "ax.set_xlabel('PCA 1')\n",
    "ax.set_ylabel('PCA 2')\n",
    "ax.set_zlabel('PCA 3')\n",
    "\n",
    "ax.zaxis.labelpad = 15\n",
    "\n",
    "plt.subplots_adjust(left=0.1, right=0.9, top=0.9, bottom=0.1)\n",
    "\n",
    "legend = ax.legend(*scatter.legend_elements(), loc='upper left', bbox_to_anchor=(1, 1), title=\"Clusters\")\n",
    "\n",
    "plt.title('3D PCA of Clustered Data')\n",
    "plt.show()"
   ]
  },
  {
   "cell_type": "code",
   "execution_count": 1007,
   "metadata": {},
   "outputs": [
    {
     "data": {
      "image/png": "[encoded data removed]",
      "text/plain": [
       "<Figure size 1000x800 with 1 Axes>"
      ]
     },
     "metadata": {},
     "output_type": "display_data"
    }
   ],
   "source": [
    "from sklearn.preprocessing import LabelEncoder\n",
    "from matplotlib.patches import Patch\n",
    "import numpy as np\n",
    "\n",
    "label_encoder = LabelEncoder()\n",
    "drug_labels = label_encoder.fit_transform(df['drug_name'])\n",
    "\n",
    "pca = PCA(n_components=3) \n",
    "X_dim = pca.fit_transform(tfidfSentences.toarray())\n",
    "\n",
    "fig = plt.figure(figsize=(10, 8))\n",
    "ax = fig.add_subplot(111, projection='3d')\n",
    "\n",
    "scatter = ax.scatter(X_dim[:, 0], X_dim[:, 1], X_dim[:, 2], c=drug_labels, cmap='viridis', s=15, alpha=0.5)\n",
    "\n",
    "ax.set_xlabel('PCA 1')\n",
    "ax.set_ylabel('PCA 2')\n",
    "ax.set_zlabel('PCA 3')\n",
    "\n",
    "cmap = plt.cm.viridis\n",
    "\n",
    "legend_handles = [Patch(color=cmap(norm), label=label) for label, norm in zip(label_encoder.classes_, np.linspace(0, 1, len(label_encoder.classes_)))]\n",
    "ax.legend(handles=legend_handles, title=\"Drug Names\", loc='upper right', bbox_to_anchor=(1.15, 1))\n",
    "\n",
    "plt.title('3D PCA of Drug Data')\n",
    "plt.show()"
   ]
  },
  {
   "cell_type": "markdown",
   "metadata": {},
   "source": [
    "# Multi-Label"
   ]
  },
  {
   "cell_type": "markdown",
   "metadata": {},
   "source": [
    "### Logistic Regression"
   ]
  },
  {
   "cell_type": "code",
   "execution_count": 1008,
   "metadata": {},
   "outputs": [],
   "source": [
    "## This is just the plain sentences -- Task 1 Feature 1\n",
    "from sklearn.model_selection import train_test_split\n",
    "\n",
    "df['DI'] = pd.to_numeric(df['DI'], errors='coerce')\n",
    "\n",
    "df_train, df_temp = train_test_split(df, random_state=42, test_size=0.55, shuffle=True)\n",
    "\n",
    "df_valid, df_test = train_test_split(df_temp, random_state=42, test_size=(1/11), shuffle=True)\n",
    "\n",
    "\n",
    "x_train = df_train['sentences'].values\n",
    "y_train = df_train[['ADR', 'WD', 'EF', 'INF', 'SSI', 'DI']].values\n",
    "y_train = np.nan_to_num(y_train, nan=0).astype(int)\n",
    "\n",
    "x_val = df_valid['sentences'].values\n",
    "y_val = df_valid[['ADR', 'WD', 'EF', 'INF', 'SSI', 'DI']].values\n",
    "y_val = np.nan_to_num(y_val, nan=0).astype(int)\n",
    "\n",
    "x_test = df_test['sentences'].values\n",
    "y_test = df_test[['ADR', 'WD', 'EF', 'INF', 'SSI', 'DI']].values\n",
    "y_test = np.nan_to_num(y_test, nan=0).astype(int)\n"
   ]
  },
  {
   "cell_type": "code",
   "execution_count": 1009,
   "metadata": {},
   "outputs": [],
   "source": [
    "# This one uses the drug_name with the sentences -- Task 1 Feature 2\n",
    "\n",
    "from sklearn.model_selection import train_test_split\n",
    "\n",
    "df['DI'] = pd.to_numeric(df['DI'], errors='coerce')\n",
    "df['drug_sentences'] = df['drug_name'] + ' ' + df['sentences']\n",
    "\n",
    "df_train, df_temp = train_test_split(df, random_state=42, test_size=0.55, shuffle=True)\n",
    "\n",
    "df_valid, df_test = train_test_split(df_temp, random_state=42, test_size=(1/11), shuffle=True)\n",
    "\n",
    "\n",
    "x_train = df_train['drug_sentences'].values\n",
    "y_train = df_train[['ADR', 'WD', 'EF', 'INF', 'SSI', 'DI']].values\n",
    "y_train = np.nan_to_num(y_train, nan=0).astype(int)\n",
    "\n",
    "x_val = df_valid['drug_sentences'].values\n",
    "y_val = df_valid[['ADR', 'WD', 'EF', 'INF', 'SSI', 'DI']].values\n",
    "y_val = np.nan_to_num(y_val, nan=0).astype(int)\n",
    "\n",
    "x_test = df_test['drug_sentences'].values\n",
    "y_test = df_test[['ADR', 'WD', 'EF', 'INF', 'SSI', 'DI']].values\n",
    "y_test = np.nan_to_num(y_test, nan=0).astype(int)\n"
   ]
  },
  {
   "cell_type": "code",
   "execution_count": 1010,
   "metadata": {},
   "outputs": [
    {
     "name": "stdout",
     "output_type": "stream",
     "text": [
      "total length= 6009\n",
      "%len of training set= 44.99916791479448\n",
      "%len of validation set= 49.99167914794475\n",
      "%len of test set= 5.009152937260775\n"
     ]
    }
   ],
   "source": [
    "print('total length=',len(df))\n",
    "print('%len of training set=',len(x_train)/len(df)*100)\n",
    "print('%len of validation set=',len(x_val)/len(df)*100)\n",
    "print('%len of test set=',len(x_test)/len(df)*100)"
   ]
  },
  {
   "cell_type": "code",
   "execution_count": 1011,
   "metadata": {},
   "outputs": [
    {
     "name": "stdout",
     "output_type": "stream",
     "text": [
      "  Label  Train Count (0)  Train Count (1)  Validation Count (0)  \\\n",
      "0   ADR             1712              992                  1936   \n",
      "1    WD             2507              197                  2781   \n",
      "2    EF             2188              516                  2488   \n",
      "3   INF             2548              156                  2836   \n",
      "4   SSI             2358              346                  2595   \n",
      "5    DI             2476              228                  2743   \n",
      "\n",
      "   Validation Count (1)  Test Count (0)  Test Count (1)  \n",
      "0                  1068             193             108  \n",
      "1                   223             283              18  \n",
      "2                   516             246              55  \n",
      "3                   168             288              13  \n",
      "4                   409             267              34  \n",
      "5                   261             274              27  \n"
     ]
    }
   ],
   "source": [
    "train_label_counts_0 = [sum(y_train[:, i] == 0) for i in range(y_train.shape[1])]\n",
    "train_label_counts_1 = [sum(y_train[:, i] == 1) for i in range(y_train.shape[1])]\n",
    "val_label_counts_0 = [sum(y_val[:, i] == 0) for i in range(y_val.shape[1])]\n",
    "val_label_counts_1 = [sum(y_val[:, i] == 1) for i in range(y_val.shape[1])]\n",
    "test_label_counts_0 = [sum(y_test[:, i] == 0) for i in range(y_test.shape[1])]\n",
    "test_label_counts_1 = [sum(y_test[:, i] == 1) for i in range(y_test.shape[1])]\n",
    "\n",
    "distribution_df = pd.DataFrame({\n",
    "    'Label': ['ADR', 'WD', 'EF', 'INF', 'SSI', 'DI'],\n",
    "    'Train Count (0)': train_label_counts_0,\n",
    "    'Train Count (1)': train_label_counts_1,\n",
    "    'Validation Count (0)': val_label_counts_0,\n",
    "    'Validation Count (1)': val_label_counts_1,\n",
    "    'Test Count (0)': test_label_counts_0,\n",
    "    'Test Count (1)': test_label_counts_1\n",
    "})\n",
    "\n",
    "# Display the DataFrame\n",
    "print(distribution_df)\n"
   ]
  },
  {
   "cell_type": "markdown",
   "metadata": {},
   "source": [
    "#### Come here to change prediction variables"
   ]
  },
  {
   "cell_type": "code",
   "execution_count": 1012,
   "metadata": {},
   "outputs": [
    {
     "name": "stdout",
     "output_type": "stream",
     "text": [
      "best param  {'estimator__C': 10, 'estimator__penalty': 'l2', 'estimator__solver': 'saga'}\n",
      "cross val accuracy  0.5773040323132745\n",
      "Test Accuracy: 0.5249\n",
      "Test F1 Score (Micro): 0.5308\n",
      "Test F1 Score (Macro): 0.4719\n",
      "Test Precision (Micro): 0.6707\n",
      "Test Precision (Macro): 0.6460\n",
      "Test Recall (Micro): 0.4392\n",
      "Test Recall (Macro): 0.3774\n",
      "              precision    recall  f1-score   support\n",
      "\n",
      "           0       0.63      0.52      0.57       108\n",
      "           1       0.44      0.22      0.30        18\n",
      "           2       0.74      0.36      0.49        55\n",
      "           3       0.43      0.23      0.30        13\n",
      "           4       0.86      0.56      0.68        34\n",
      "           5       0.77      0.37      0.50        27\n",
      "\n",
      "   micro avg       0.67      0.44      0.53       255\n",
      "   macro avg       0.65      0.38      0.47       255\n",
      "weighted avg       0.68      0.44      0.53       255\n",
      " samples avg       0.30      0.29      0.29       255\n",
      "\n",
      "ADR:\n",
      "[[160  33]\n",
      " [ 52  56]]\n",
      "              precision    recall  f1-score   support\n",
      "\n",
      "           0       0.75      0.83      0.79       193\n",
      "           1       0.63      0.52      0.57       108\n",
      "\n",
      "    accuracy                           0.72       301\n",
      "   macro avg       0.69      0.67      0.68       301\n",
      "weighted avg       0.71      0.72      0.71       301\n",
      "\n",
      "WD:\n",
      "[[278   5]\n",
      " [ 14   4]]\n",
      "              precision    recall  f1-score   support\n",
      "\n",
      "           0       0.95      0.98      0.97       283\n",
      "           1       0.44      0.22      0.30        18\n",
      "\n",
      "    accuracy                           0.94       301\n",
      "   macro avg       0.70      0.60      0.63       301\n",
      "weighted avg       0.92      0.94      0.93       301\n",
      "\n",
      "EF:\n",
      "[[239   7]\n",
      " [ 35  20]]\n",
      "              precision    recall  f1-score   support\n",
      "\n",
      "           0       0.87      0.97      0.92       246\n",
      "           1       0.74      0.36      0.49        55\n",
      "\n",
      "    accuracy                           0.86       301\n",
      "   macro avg       0.81      0.67      0.70       301\n",
      "weighted avg       0.85      0.86      0.84       301\n",
      "\n",
      "INF:\n",
      "[[284   4]\n",
      " [ 10   3]]\n",
      "              precision    recall  f1-score   support\n",
      "\n",
      "           0       0.97      0.99      0.98       288\n",
      "           1       0.43      0.23      0.30        13\n",
      "\n",
      "    accuracy                           0.95       301\n",
      "   macro avg       0.70      0.61      0.64       301\n",
      "weighted avg       0.94      0.95      0.95       301\n",
      "\n",
      "SSI:\n",
      "[[264   3]\n",
      " [ 15  19]]\n",
      "              precision    recall  f1-score   support\n",
      "\n",
      "           0       0.95      0.99      0.97       267\n",
      "           1       0.86      0.56      0.68        34\n",
      "\n",
      "    accuracy                           0.94       301\n",
      "   macro avg       0.90      0.77      0.82       301\n",
      "weighted avg       0.94      0.94      0.93       301\n",
      "\n",
      "DI:\n",
      "[[271   3]\n",
      " [ 17  10]]\n",
      "              precision    recall  f1-score   support\n",
      "\n",
      "           0       0.94      0.99      0.96       274\n",
      "           1       0.77      0.37      0.50        27\n",
      "\n",
      "    accuracy                           0.93       301\n",
      "   macro avg       0.86      0.68      0.73       301\n",
      "weighted avg       0.93      0.93      0.92       301\n",
      "\n"
     ]
    },
    {
     "name": "stderr",
     "output_type": "stream",
     "text": [
      "c:\\Users\\julev\\anaconda3\\envs\\cudaEnv\\Lib\\site-packages\\sklearn\\metrics\\_classification.py:1509: UndefinedMetricWarning: Precision is ill-defined and being set to 0.0 in samples with no predicted labels. Use `zero_division` parameter to control this behavior.\n",
      "  _warn_prf(average, modifier, f\"{metric.capitalize()} is\", len(result))\n",
      "c:\\Users\\julev\\anaconda3\\envs\\cudaEnv\\Lib\\site-packages\\sklearn\\metrics\\_classification.py:1509: UndefinedMetricWarning: Recall is ill-defined and being set to 0.0 in samples with no true labels. Use `zero_division` parameter to control this behavior.\n",
      "  _warn_prf(average, modifier, f\"{metric.capitalize()} is\", len(result))\n",
      "c:\\Users\\julev\\anaconda3\\envs\\cudaEnv\\Lib\\site-packages\\sklearn\\metrics\\_classification.py:1509: UndefinedMetricWarning: F-score is ill-defined and being set to 0.0 in samples with no true nor predicted labels. Use `zero_division` parameter to control this behavior.\n",
      "  _warn_prf(average, modifier, f\"{metric.capitalize()} is\", len(result))\n"
     ]
    }
   ],
   "source": [
    "import pandas as pd\n",
    "import numpy as np\n",
    "from sklearn.model_selection import train_test_split, GridSearchCV\n",
    "from sklearn.feature_extraction.text import TfidfVectorizer\n",
    "from sklearn.linear_model import LogisticRegression\n",
    "from sklearn.multioutput import MultiOutputClassifier\n",
    "from sklearn.metrics import accuracy_score, f1_score, confusion_matrix, classification_report, precision_score, recall_score\n",
    "multi_label_y = y_test\n",
    "tfidf_vectorizer = TfidfVectorizer()\n",
    "x_train_tfidf = tfidf_vectorizer.fit_transform(x_train)\n",
    "x_val_tfidf = tfidf_vectorizer.transform(x_val)\n",
    "x_test_tfidf = tfidf_vectorizer.transform(x_test)\n",
    "\n",
    "# param_grid = {\n",
    "#     'estimator__C': [0.01, 0.1, 1, 10, 100, 1000], \n",
    "#     'estimator__penalty': ['l1', 'l2'], \n",
    "#     'estimator__solver': ['liblinear', 'saga', 'lbfgs'], \n",
    "# }\n",
    "\n",
    "param_grid = {\n",
    "    'estimator__C': [10], \n",
    "    'estimator__penalty': ['l2'], \n",
    "    'estimator__solver': ['saga'], \n",
    "}\n",
    "\n",
    "log_reg = LogisticRegression()\n",
    "multi_target_lr = MultiOutputClassifier(log_reg, n_jobs=-1)\n",
    "grid_search = GridSearchCV(multi_target_lr, param_grid, cv=5, scoring='accuracy')\n",
    "grid_search.fit(x_train_tfidf, y_train)\n",
    "\n",
    "print(\"best param \", grid_search.best_params_)\n",
    "print(\"cross val accuracy \", grid_search.best_score_)\n",
    "\n",
    "# feature2: best param  {'estimator__C': 10, 'estimator__penalty': 'l2', 'estimator__solver': 'lbfgs'}\n",
    "# feature1: best param  {'estimator__C': 10, 'estimator__penalty': 'l2', 'estimator__solver': 'saga'}\n",
    "\n",
    "best_model = grid_search.best_estimator_\n",
    "\n",
    "y_test_pred = best_model.predict(x_test_tfidf)\n",
    "\n",
    "### adjust and comment out the predictions depending on what feature you are using\n",
    "######################\n",
    "# task_1_logistic_f1 = y_test_pred\n",
    "\n",
    "# task_1_logistic_f2 = y_test_pred\n",
    "######################\n",
    "test_accuracy = accuracy_score(y_test, y_test_pred)\n",
    "test_f1_micro = f1_score(y_test, y_test_pred, average='micro')\n",
    "test_f1_macro = f1_score(y_test, y_test_pred, average='macro')\n",
    "test_precision_micro = precision_score(y_test, y_test_pred, average='micro')\n",
    "test_precision_macro = precision_score(y_test, y_test_pred, average='macro')\n",
    "test_recall_micro = recall_score(y_test, y_test_pred, average='micro')\n",
    "test_recall_macro = recall_score(y_test, y_test_pred, average='macro')\n",
    "\n",
    "print(f'Test Accuracy: {test_accuracy:.4f}')\n",
    "print(f'Test F1 Score (Micro): {test_f1_micro:.4f}')\n",
    "print(f'Test F1 Score (Macro): {test_f1_macro:.4f}')\n",
    "print(f'Test Precision (Micro): {test_precision_micro:.4f}')\n",
    "print(f'Test Precision (Macro): {test_precision_macro:.4f}')\n",
    "print(f'Test Recall (Micro): {test_recall_micro:.4f}')\n",
    "print(f'Test Recall (Macro): {test_recall_macro:.4f}')\n",
    "    \n",
    "class_rep = classification_report(y_test,y_test_pred)\n",
    "print(class_rep)\n",
    "for i, label in enumerate(['ADR', 'WD', 'EF', 'INF', 'SSI', 'DI']):\n",
    "    print(f\"{label}:\")\n",
    "    #[(tn, fp,\n",
    "    # fn, tp)]\n",
    "    cm = confusion_matrix(y_test[:, i], y_test_pred[:, i])\n",
    "    print(f\"{cm}\")\n",
    "    \n",
    "    report = classification_report(y_test[:, i], y_test_pred[:, i], zero_division=1, target_names=[\"0\", \"1\"])\n",
    "    print(f\"{report}\")\n"
   ]
  },
  {
   "cell_type": "markdown",
   "metadata": {},
   "source": [
    "### Transformers"
   ]
  },
  {
   "cell_type": "code",
   "execution_count": 1013,
   "metadata": {},
   "outputs": [],
   "source": [
    "# ## This is just the plain sentences -- Task 1 Feature 1\n",
    "# from sklearn.model_selection import train_test_split\n",
    "\n",
    "# df['DI'] = pd.to_numeric(df['DI'], errors='coerce')\n",
    "\n",
    "# newDf=df\n",
    "# newDf['DI'].fillna(0, inplace=True)\n",
    "# newDf.drop(columns=[\"id\", \"comment_id\", \"drug_id\", \"sentence_index\", \"Findings\", \"others\", \"rating\", \"category\",\"drug_name\"], axis=1, inplace=True)\n",
    "\n",
    "# # x = df['sentences'].values\n",
    "# # y = df[['ADR', 'WD', 'EF', 'INF', 'SSI', 'DI']].values\n",
    "# # y = np.nan_to_num(y, nan=0).astype(int)\n",
    "\n",
    "# # Split data\n",
    "# df_train, df_temp = train_test_split(newDf, random_state=42, test_size=0.55, shuffle=True)\n",
    "# df_valid, df_test = train_test_split(df_temp, random_state=42, test_size=(1/11), shuffle=True)\n",
    "\n"
   ]
  },
  {
   "cell_type": "code",
   "execution_count": 1014,
   "metadata": {},
   "outputs": [
    {
     "name": "stdout",
     "output_type": "stream",
     "text": [
      "total length= 6009\n",
      "%len of training set= 44.99916791479448\n",
      "%len of validation set= 49.99167914794475\n",
      "%len of test set= 5.009152937260775\n"
     ]
    }
   ],
   "source": [
    "print('total length=',len(df))\n",
    "print('%len of training set=',len(df_train)/len(df)*100)\n",
    "print('%len of validation set=',len(df_valid)/len(df)*100)\n",
    "print('%len of test set=',len(df_test)/len(df)*100)"
   ]
  },
  {
   "cell_type": "code",
   "execution_count": 1015,
   "metadata": {},
   "outputs": [
    {
     "name": "stderr",
     "output_type": "stream",
     "text": [
      "C:\\Users\\julev\\AppData\\Local\\Temp\\ipykernel_16412\\347856079.py:7: FutureWarning: A value is trying to be set on a copy of a DataFrame or Series through chained assignment using an inplace method.\n",
      "The behavior will change in pandas 3.0. This inplace method will never work because the intermediate object on which we are setting values always behaves as a copy.\n",
      "\n",
      "For example, when doing 'df[col].method(value, inplace=True)', try using 'df.method({col: value}, inplace=True)' or df[col] = df[col].method(value) instead, to perform the operation inplace on the original object.\n",
      "\n",
      "\n",
      "  newDf['DI'].fillna(0, inplace=True)\n"
     ]
    }
   ],
   "source": [
    "# This one uses the drug_name with the sentences -- Task 1 Feature 2\n",
    "\n",
    "from sklearn.model_selection import train_test_split\n",
    "\n",
    "df['DI'] = pd.to_numeric(df['DI'], errors='coerce')\n",
    "newDf=df\n",
    "newDf['DI'].fillna(0, inplace=True)\n",
    "newDf['drug_sentences'] = df['drug_name'] + ' ' + df['sentences']\n",
    "newDf.drop(columns=[\"id\", \"comment_id\", \"drug_id\", \"sentence_index\", \"Findings\", \"others\", \"rating\", \"category\",\"drug_name\",\"sentences\"], axis=1, inplace=True)\n",
    "# x = df['drug_sentences'].values\n",
    "# y = df[['ADR', 'WD', 'EF', 'INF', 'SSI', 'DI']].values\n",
    "# y = np.nan_to_num(y, nan=0).astype(int)\n",
    "\n",
    "# Split data\n",
    "df_train, df_temp = train_test_split(newDf, random_state=42, test_size=0.55, shuffle=True)\n",
    "df_valid, df_test = train_test_split(df_temp, random_state=42, test_size=(1/11), shuffle=True)\n",
    "\n"
   ]
  },
  {
   "cell_type": "code",
   "execution_count": 1016,
   "metadata": {},
   "outputs": [
    {
     "name": "stdout",
     "output_type": "stream",
     "text": [
      "      ADR   WD   EF  INF  SSI   DI  cluster  \\\n",
      "0     1.0  0.0  0.0  0.0  0.0  0.0        1   \n",
      "1     0.0  0.0  0.0  0.0  0.0  0.0        1   \n",
      "2     0.0  0.0  0.0  0.0  0.0  0.0        1   \n",
      "3     0.0  0.0  0.0  0.0  0.0  0.0        1   \n",
      "4     0.0  1.0  0.0  0.0  0.0  0.0        1   \n",
      "...   ...  ...  ...  ...  ...  ...      ...   \n",
      "6004  0.0  0.0  0.0  0.0  0.0  0.0        1   \n",
      "6005  0.0  0.0  0.0  0.0  0.0  0.0        1   \n",
      "6006  0.0  0.0  0.0  0.0  0.0  0.0        1   \n",
      "6007  0.0  0.0  1.0  0.0  0.0  0.0        1   \n",
      "6008  0.0  0.0  1.0  0.0  0.0  0.0        1   \n",
      "\n",
      "                                         drug_sentences  \n",
      "0     lexapro extreme weight gain short-term memory ...  \n",
      "1                              lexapro detoxing lexapro  \n",
      "2     lexapro slowly cut dosage several months took ...  \n",
      "3                  lexapro 10 days completely omg rough  \n",
      "4     lexapro flu-like symptoms dizziness major mood...  \n",
      "...                                                 ...  \n",
      "6004                      effexorxr increase dosage yet  \n",
      "6005  effexorxr 'm hoping able stay 75 mgs long poss...  \n",
      "6006  effexorxr reading withdrawals little scarey li...  \n",
      "6007  effexorxr effexor made huge difference life co...  \n",
      "6008    effexorxr would small price pay able enjoy life  \n",
      "\n",
      "[6009 rows x 8 columns]\n"
     ]
    }
   ],
   "source": [
    "print(newDf)"
   ]
  },
  {
   "cell_type": "code",
   "execution_count": 1017,
   "metadata": {},
   "outputs": [
    {
     "name": "stdout",
     "output_type": "stream",
     "text": [
      "Train: (2704, 8), Test: (301, 8), Valid: (3004, 8)\n"
     ]
    }
   ],
   "source": [
    "print(f\"Train: {df_train.shape}, Test: {df_test.shape}, Valid: {df_valid.shape}\")"
   ]
  },
  {
   "cell_type": "code",
   "execution_count": 1018,
   "metadata": {},
   "outputs": [],
   "source": [
    "# Hyperparameters\n",
    "MAX_LEN = 256\n",
    "TRAIN_BATCH_SIZE = 8\n",
    "VALID_BATCH_SIZE = 8\n",
    "TEST_BATCH_SIZE = 8\n",
    "EPOCHS = 15\n",
    "LEARNING_RATE = 1e-05\n",
    "THRESHOLD = 0.5 # threshold for the sigmoid"
   ]
  },
  {
   "cell_type": "code",
   "execution_count": 1019,
   "metadata": {},
   "outputs": [
    {
     "name": "stderr",
     "output_type": "stream",
     "text": [
      "c:\\Users\\julev\\anaconda3\\envs\\cudaEnv\\Lib\\site-packages\\huggingface_hub\\file_download.py:1132: FutureWarning: `resume_download` is deprecated and will be removed in version 1.0.0. Downloads always resume when possible. If you want to force a new download, use `force_download=True`.\n",
      "  warnings.warn(\n"
     ]
    }
   ],
   "source": [
    "from transformers import BertTokenizer, BertModel\n",
    "tokenizer = BertTokenizer.from_pretrained('bert-base-uncased')"
   ]
  },
  {
   "cell_type": "code",
   "execution_count": 1020,
   "metadata": {},
   "outputs": [],
   "source": [
    "#df_train['sentences']"
   ]
  },
  {
   "cell_type": "code",
   "execution_count": 1021,
   "metadata": {},
   "outputs": [],
   "source": [
    "class CustomDatasetTask1(torch.utils.data.Dataset):\n",
    "    def __init__(self, df, tokenizer, max_len, target_list):\n",
    "        self.tokenizer = tokenizer\n",
    "        self.df = df\n",
    "        self.title = list(df['drug_sentences'])\n",
    "        self.targets = self.df[target_list].values\n",
    "        self.max_len = max_len\n",
    "\n",
    "    def __len__(self):\n",
    "        return len(self.title)\n",
    "\n",
    "    def __getitem__(self, index):\n",
    "        title = str(self.title[index])\n",
    "        title = \" \".join(title.split())\n",
    "        inputs = self.tokenizer.encode_plus(\n",
    "            title,\n",
    "            None,\n",
    "            add_special_tokens=True,\n",
    "            max_length=self.max_len,\n",
    "            padding='max_length',\n",
    "            return_token_type_ids=True,\n",
    "            truncation=True,\n",
    "            return_attention_mask=True,\n",
    "            return_tensors='pt'\n",
    "        )\n",
    "        return {\n",
    "            'input_ids': inputs['input_ids'].flatten(),\n",
    "            'attention_mask': inputs['attention_mask'].flatten(),\n",
    "            'token_type_ids': inputs[\"token_type_ids\"].flatten(),\n",
    "            'targets': torch.FloatTensor(self.targets[index]),\n",
    "            'title': title\n",
    "        }\n",
    "     \n",
    "     \n",
    "class CustomDatasetTask2(torch.utils.data.Dataset):\n",
    "    def __init__(self, df, tokenizer, max_len, target_list):\n",
    "        self.tokenizer = tokenizer\n",
    "        self.df = df\n",
    "        self.title = list(df['drug_sentences'])\n",
    "        self.targets = self.df[target_list].values\n",
    "        self.max_len = max_len\n",
    "\n",
    "    def __len__(self):\n",
    "        return len(self.title)\n",
    "\n",
    "    def __getitem__(self, index):\n",
    "        title = str(self.title[index])\n",
    "        title = \" \".join(title.split())\n",
    "        inputs = self.tokenizer.encode_plus(\n",
    "            title,\n",
    "            None,\n",
    "            add_special_tokens=True,\n",
    "            max_length=self.max_len,\n",
    "            padding='max_length',\n",
    "            return_token_type_ids=True,\n",
    "            truncation=True,\n",
    "            return_attention_mask=True,\n",
    "            return_tensors='pt'\n",
    "        )\n",
    "        return {\n",
    "            'input_ids': inputs['input_ids'].flatten(),\n",
    "            'attention_mask': inputs['attention_mask'].flatten(),\n",
    "            'token_type_ids': inputs[\"token_type_ids\"].flatten(),\n",
    "            'targets': torch.FloatTensor(self.targets[index]),\n",
    "            'title': title\n",
    "        }\n",
    "     "
   ]
  },
  {
   "cell_type": "code",
   "execution_count": 1022,
   "metadata": {},
   "outputs": [
    {
     "data": {
      "text/plain": [
       "['ADR', 'WD', 'EF', 'INF', 'SSI', 'DI']"
      ]
     },
     "execution_count": 1022,
     "metadata": {},
     "output_type": "execute_result"
    }
   ],
   "source": [
    "target_list = list(['ADR', 'WD', 'EF', 'INF', 'SSI', 'DI'])\n",
    "target_list"
   ]
  },
  {
   "cell_type": "code",
   "execution_count": 1023,
   "metadata": {},
   "outputs": [],
   "source": [
    "#change this to CustomDatasetTask_ for feature _\n",
    "train_dataset = CustomDatasetTask2(df_train, tokenizer, MAX_LEN, target_list)\n",
    "valid_dataset = CustomDatasetTask2(df_valid, tokenizer, MAX_LEN, target_list)\n",
    "test_dataset = CustomDatasetTask2(df_test, tokenizer, MAX_LEN, target_list)"
   ]
  },
  {
   "cell_type": "code",
   "execution_count": 1024,
   "metadata": {},
   "outputs": [
    {
     "data": {
      "text/plain": [
       "{'input_ids': tensor([  101,  1062, 12898,  6199,  3635,  5114, 22356,  2606,  3279,  3637,\n",
       "         16915,   102,     0,     0,     0,     0,     0,     0,     0,     0,\n",
       "             0,     0,     0,     0,     0,     0,     0,     0,     0,     0,\n",
       "             0,     0,     0,     0,     0,     0,     0,     0,     0,     0,\n",
       "             0,     0,     0,     0,     0,     0,     0,     0,     0,     0,\n",
       "             0,     0,     0,     0,     0,     0,     0,     0,     0,     0,\n",
       "             0,     0,     0,     0,     0,     0,     0,     0,     0,     0,\n",
       "             0,     0,     0,     0,     0,     0,     0,     0,     0,     0,\n",
       "             0,     0,     0,     0,     0,     0,     0,     0,     0,     0,\n",
       "             0,     0,     0,     0,     0,     0,     0,     0,     0,     0,\n",
       "             0,     0,     0,     0,     0,     0,     0,     0,     0,     0,\n",
       "             0,     0,     0,     0,     0,     0,     0,     0,     0,     0,\n",
       "             0,     0,     0,     0,     0,     0,     0,     0,     0,     0,\n",
       "             0,     0,     0,     0,     0,     0,     0,     0,     0,     0,\n",
       "             0,     0,     0,     0,     0,     0,     0,     0,     0,     0,\n",
       "             0,     0,     0,     0,     0,     0,     0,     0,     0,     0,\n",
       "             0,     0,     0,     0,     0,     0,     0,     0,     0,     0,\n",
       "             0,     0,     0,     0,     0,     0,     0,     0,     0,     0,\n",
       "             0,     0,     0,     0,     0,     0,     0,     0,     0,     0,\n",
       "             0,     0,     0,     0,     0,     0,     0,     0,     0,     0,\n",
       "             0,     0,     0,     0,     0,     0,     0,     0,     0,     0,\n",
       "             0,     0,     0,     0,     0,     0,     0,     0,     0,     0,\n",
       "             0,     0,     0,     0,     0,     0,     0,     0,     0,     0,\n",
       "             0,     0,     0,     0,     0,     0,     0,     0,     0,     0,\n",
       "             0,     0,     0,     0,     0,     0,     0,     0,     0,     0,\n",
       "             0,     0,     0,     0,     0,     0]),\n",
       " 'attention_mask': tensor([1, 1, 1, 1, 1, 1, 1, 1, 1, 1, 1, 1, 0, 0, 0, 0, 0, 0, 0, 0, 0, 0, 0, 0,\n",
       "         0, 0, 0, 0, 0, 0, 0, 0, 0, 0, 0, 0, 0, 0, 0, 0, 0, 0, 0, 0, 0, 0, 0, 0,\n",
       "         0, 0, 0, 0, 0, 0, 0, 0, 0, 0, 0, 0, 0, 0, 0, 0, 0, 0, 0, 0, 0, 0, 0, 0,\n",
       "         0, 0, 0, 0, 0, 0, 0, 0, 0, 0, 0, 0, 0, 0, 0, 0, 0, 0, 0, 0, 0, 0, 0, 0,\n",
       "         0, 0, 0, 0, 0, 0, 0, 0, 0, 0, 0, 0, 0, 0, 0, 0, 0, 0, 0, 0, 0, 0, 0, 0,\n",
       "         0, 0, 0, 0, 0, 0, 0, 0, 0, 0, 0, 0, 0, 0, 0, 0, 0, 0, 0, 0, 0, 0, 0, 0,\n",
       "         0, 0, 0, 0, 0, 0, 0, 0, 0, 0, 0, 0, 0, 0, 0, 0, 0, 0, 0, 0, 0, 0, 0, 0,\n",
       "         0, 0, 0, 0, 0, 0, 0, 0, 0, 0, 0, 0, 0, 0, 0, 0, 0, 0, 0, 0, 0, 0, 0, 0,\n",
       "         0, 0, 0, 0, 0, 0, 0, 0, 0, 0, 0, 0, 0, 0, 0, 0, 0, 0, 0, 0, 0, 0, 0, 0,\n",
       "         0, 0, 0, 0, 0, 0, 0, 0, 0, 0, 0, 0, 0, 0, 0, 0, 0, 0, 0, 0, 0, 0, 0, 0,\n",
       "         0, 0, 0, 0, 0, 0, 0, 0, 0, 0, 0, 0, 0, 0, 0, 0]),\n",
       " 'token_type_ids': tensor([0, 0, 0, 0, 0, 0, 0, 0, 0, 0, 0, 0, 0, 0, 0, 0, 0, 0, 0, 0, 0, 0, 0, 0,\n",
       "         0, 0, 0, 0, 0, 0, 0, 0, 0, 0, 0, 0, 0, 0, 0, 0, 0, 0, 0, 0, 0, 0, 0, 0,\n",
       "         0, 0, 0, 0, 0, 0, 0, 0, 0, 0, 0, 0, 0, 0, 0, 0, 0, 0, 0, 0, 0, 0, 0, 0,\n",
       "         0, 0, 0, 0, 0, 0, 0, 0, 0, 0, 0, 0, 0, 0, 0, 0, 0, 0, 0, 0, 0, 0, 0, 0,\n",
       "         0, 0, 0, 0, 0, 0, 0, 0, 0, 0, 0, 0, 0, 0, 0, 0, 0, 0, 0, 0, 0, 0, 0, 0,\n",
       "         0, 0, 0, 0, 0, 0, 0, 0, 0, 0, 0, 0, 0, 0, 0, 0, 0, 0, 0, 0, 0, 0, 0, 0,\n",
       "         0, 0, 0, 0, 0, 0, 0, 0, 0, 0, 0, 0, 0, 0, 0, 0, 0, 0, 0, 0, 0, 0, 0, 0,\n",
       "         0, 0, 0, 0, 0, 0, 0, 0, 0, 0, 0, 0, 0, 0, 0, 0, 0, 0, 0, 0, 0, 0, 0, 0,\n",
       "         0, 0, 0, 0, 0, 0, 0, 0, 0, 0, 0, 0, 0, 0, 0, 0, 0, 0, 0, 0, 0, 0, 0, 0,\n",
       "         0, 0, 0, 0, 0, 0, 0, 0, 0, 0, 0, 0, 0, 0, 0, 0, 0, 0, 0, 0, 0, 0, 0, 0,\n",
       "         0, 0, 0, 0, 0, 0, 0, 0, 0, 0, 0, 0, 0, 0, 0, 0]),\n",
       " 'targets': tensor([1., 0., 0., 0., 0., 0.]),\n",
       " 'title': 'zoloft weight gain agitation hair loss sleep disturbance'}"
      ]
     },
     "execution_count": 1024,
     "metadata": {},
     "output_type": "execute_result"
    }
   ],
   "source": [
    "next(iter(train_dataset))"
   ]
  },
  {
   "cell_type": "code",
   "execution_count": 1025,
   "metadata": {},
   "outputs": [],
   "source": [
    "train_data_loader = torch.utils.data.DataLoader(train_dataset, \n",
    "    batch_size=TRAIN_BATCH_SIZE,\n",
    "    shuffle=True,\n",
    "    num_workers=0\n",
    ")\n",
    "\n",
    "val_data_loader = torch.utils.data.DataLoader(valid_dataset, \n",
    "    batch_size=VALID_BATCH_SIZE,\n",
    "    shuffle=False,\n",
    "    num_workers=0\n",
    ")\n",
    "\n",
    "test_data_loader = torch.utils.data.DataLoader(test_dataset, \n",
    "    batch_size=TEST_BATCH_SIZE,\n",
    "    shuffle=False,\n",
    "    num_workers=0\n",
    ")\n",
    "     "
   ]
  },
  {
   "cell_type": "code",
   "execution_count": 1026,
   "metadata": {},
   "outputs": [
    {
     "name": "stderr",
     "output_type": "stream",
     "text": [
      "c:\\Users\\julev\\anaconda3\\envs\\cudaEnv\\Lib\\site-packages\\huggingface_hub\\file_download.py:1132: FutureWarning: `resume_download` is deprecated and will be removed in version 1.0.0. Downloads always resume when possible. If you want to force a new download, use `force_download=True`.\n",
      "  warnings.warn(\n"
     ]
    },
    {
     "data": {
      "text/plain": [
       "BERTClass(\n",
       "  (bert_model): BertModel(\n",
       "    (embeddings): BertEmbeddings(\n",
       "      (word_embeddings): Embedding(30522, 768, padding_idx=0)\n",
       "      (position_embeddings): Embedding(512, 768)\n",
       "      (token_type_embeddings): Embedding(2, 768)\n",
       "      (LayerNorm): LayerNorm((768,), eps=1e-12, elementwise_affine=True)\n",
       "      (dropout): Dropout(p=0.1, inplace=False)\n",
       "    )\n",
       "    (encoder): BertEncoder(\n",
       "      (layer): ModuleList(\n",
       "        (0-11): 12 x BertLayer(\n",
       "          (attention): BertAttention(\n",
       "            (self): BertSelfAttention(\n",
       "              (query): Linear(in_features=768, out_features=768, bias=True)\n",
       "              (key): Linear(in_features=768, out_features=768, bias=True)\n",
       "              (value): Linear(in_features=768, out_features=768, bias=True)\n",
       "              (dropout): Dropout(p=0.1, inplace=False)\n",
       "            )\n",
       "            (output): BertSelfOutput(\n",
       "              (dense): Linear(in_features=768, out_features=768, bias=True)\n",
       "              (LayerNorm): LayerNorm((768,), eps=1e-12, elementwise_affine=True)\n",
       "              (dropout): Dropout(p=0.1, inplace=False)\n",
       "            )\n",
       "          )\n",
       "          (intermediate): BertIntermediate(\n",
       "            (dense): Linear(in_features=768, out_features=3072, bias=True)\n",
       "            (intermediate_act_fn): GELUActivation()\n",
       "          )\n",
       "          (output): BertOutput(\n",
       "            (dense): Linear(in_features=3072, out_features=768, bias=True)\n",
       "            (LayerNorm): LayerNorm((768,), eps=1e-12, elementwise_affine=True)\n",
       "            (dropout): Dropout(p=0.1, inplace=False)\n",
       "          )\n",
       "        )\n",
       "      )\n",
       "    )\n",
       "    (pooler): BertPooler(\n",
       "      (dense): Linear(in_features=768, out_features=768, bias=True)\n",
       "      (activation): Tanh()\n",
       "    )\n",
       "  )\n",
       "  (dropout): Dropout(p=0.3, inplace=False)\n",
       "  (linear): Linear(in_features=768, out_features=6, bias=True)\n",
       ")"
      ]
     },
     "execution_count": 1026,
     "metadata": {},
     "output_type": "execute_result"
    }
   ],
   "source": [
    "device = torch.device('cuda') if torch.cuda.is_available() else torch.device('cpu')\n",
    "class BERTClass(torch.nn.Module):\n",
    "    def __init__(self):\n",
    "        super(BERTClass, self).__init__()\n",
    "        self.bert_model = BertModel.from_pretrained('bert-base-uncased', return_dict=True)\n",
    "        self.dropout = torch.nn.Dropout(0.3)\n",
    "        self.linear = torch.nn.Linear(768, 6)\n",
    "\n",
    "    def forward(self, input_ids, attn_mask, token_type_ids):\n",
    "        output = self.bert_model(\n",
    "            input_ids, \n",
    "            attention_mask=attn_mask, \n",
    "            token_type_ids=token_type_ids\n",
    "        )\n",
    "        output_dropout = self.dropout(output.pooler_output)\n",
    "        output = self.linear(output_dropout)\n",
    "        return output\n",
    "\n",
    "model = BERTClass()\n",
    "\n",
    "# # Freezing BERT layers: (tested, weaker convergence)\n",
    "# for param in model.bert_model.parameters():\n",
    "#     param.requires_grad = False\n",
    "\n",
    "model.to(device)"
   ]
  },
  {
   "cell_type": "code",
   "execution_count": 1027,
   "metadata": {},
   "outputs": [],
   "source": [
    "def loss_fn(outputs, targets):\n",
    "    return torch.nn.BCEWithLogitsLoss()(outputs, targets)"
   ]
  },
  {
   "cell_type": "code",
   "execution_count": 1028,
   "metadata": {},
   "outputs": [
    {
     "name": "stderr",
     "output_type": "stream",
     "text": [
      "c:\\Users\\julev\\anaconda3\\envs\\cudaEnv\\Lib\\site-packages\\transformers\\optimization.py:521: FutureWarning: This implementation of AdamW is deprecated and will be removed in a future version. Use the PyTorch implementation torch.optim.AdamW instead, or set `no_deprecation_warning=True` to disable this warning\n",
      "  warnings.warn(\n"
     ]
    }
   ],
   "source": [
    "from transformers import AdamW\n",
    "\n",
    "# define the optimizer\n",
    "optimizer = AdamW(model.parameters(), lr = 1e-5)    "
   ]
  },
  {
   "cell_type": "code",
   "execution_count": 1029,
   "metadata": {},
   "outputs": [],
   "source": [
    "def train_model(training_loader, model, optimizer):\n",
    "\n",
    "    losses = []\n",
    "    correct_predictions = 0\n",
    "    num_samples = 0\n",
    "    # set model to training mode (activate droput, batch norm)\n",
    "    model.train()\n",
    "    # initialize the progress bar\n",
    "    loop = tq.tqdm(enumerate(training_loader), total=len(training_loader), \n",
    "                      leave=True, colour='steelblue')\n",
    "    for batch_idx, data in loop:\n",
    "        ids = data['input_ids'].to(device, dtype = torch.long)\n",
    "        mask = data['attention_mask'].to(device, dtype = torch.long)\n",
    "        token_type_ids = data['token_type_ids'].to(device, dtype = torch.long)\n",
    "        targets = data['targets'].to(device, dtype = torch.float)\n",
    "\n",
    "        # forward\n",
    "        outputs = model(ids, mask, token_type_ids) # (batch,predict)=(32,8)\n",
    "        loss = loss_fn(outputs, targets)\n",
    "        losses.append(loss.item())\n",
    "        # training accuracy, apply sigmoid, round (apply thresh 0.5)\n",
    "        outputs = torch.sigmoid(outputs).cpu().detach().numpy().round()\n",
    "        targets = targets.cpu().detach().numpy()\n",
    "        correct_predictions += np.sum(outputs==targets)\n",
    "        num_samples += targets.size   # total number of elements in the 2D array\n",
    "\n",
    "        # backward\n",
    "        optimizer.zero_grad()\n",
    "        loss.backward()\n",
    "        nn.utils.clip_grad_norm_(model.parameters(), max_norm=1.0)\n",
    "        # grad descent step\n",
    "        optimizer.step()\n",
    "\n",
    "        # Update progress bar\n",
    "        #loop.set_description(f\"\")\n",
    "        #loop.set_postfix(batch_loss=loss)\n",
    "\n",
    "    # returning: trained model, model accuracy, mean loss\n",
    "    return model, float(correct_predictions)/num_samples, np.mean(losses)"
   ]
  },
  {
   "cell_type": "code",
   "execution_count": 1030,
   "metadata": {},
   "outputs": [],
   "source": [
    "def eval_model(validation_loader, model, optimizer):\n",
    "    losses = []\n",
    "    correct_predictions = 0\n",
    "    num_samples = 0\n",
    "    # set model to eval mode (turn off dropout, fix batch norm)\n",
    "    model.eval()\n",
    "\n",
    "    with torch.no_grad():\n",
    "        for batch_idx, data in enumerate(validation_loader, 0):\n",
    "            ids = data['input_ids'].to(device, dtype = torch.long)\n",
    "            mask = data['attention_mask'].to(device, dtype = torch.long)\n",
    "            token_type_ids = data['token_type_ids'].to(device, dtype = torch.long)\n",
    "            targets = data['targets'].to(device, dtype = torch.float)\n",
    "            outputs = model(ids, mask, token_type_ids)\n",
    "\n",
    "            loss = loss_fn(outputs, targets)\n",
    "            losses.append(loss.item())\n",
    "\n",
    "            # validation accuracy\n",
    "            # add sigmoid, for the training sigmoid is in BCEWithLogitsLoss\n",
    "            outputs = torch.sigmoid(outputs).cpu().detach().numpy().round()\n",
    "            targets = targets.cpu().detach().numpy()\n",
    "            correct_predictions += np.sum(outputs==targets)\n",
    "            num_samples += targets.size   # total number of elements in the 2D array\n",
    "\n",
    "    return float(correct_predictions)/num_samples, np.mean(losses)"
   ]
  },
  {
   "cell_type": "code",
   "execution_count": 1031,
   "metadata": {},
   "outputs": [],
   "source": [
    "from collections import defaultdict\n",
    "import time\n",
    "\n",
    "torch.cuda.empty_cache()\n",
    "history = defaultdict(list)\n",
    "best_accuracy = 0\n",
    "\n",
    "# model_save_path = './model2_task1_feature1_model(unfrozen)'\n",
    "start_time = time.time()\n",
    "\n",
    "# for epoch in range(1, EPOCHS+1):\n",
    "#     print(f'Epoch {epoch}/{EPOCHS}')\n",
    "#     model, train_acc, train_loss = train_model(train_data_loader, model, optimizer)\n",
    "#     val_acc, val_loss = eval_model(val_data_loader, model, optimizer)\n",
    "\n",
    "#     print(f'train_loss={train_loss:.4f}, val_loss={val_loss:.4f} train_acc={train_acc:.4f}, val_acc={val_acc:.4f}')\n",
    "\n",
    "#     history['train_acc'].append(train_acc)\n",
    "#     history['train_loss'].append(train_loss)\n",
    "#     history['val_acc'].append(val_acc)\n",
    "#     history['val_loss'].append(val_loss)\n",
    "\n",
    "#     if val_acc > best_accuracy:\n",
    "#         if not os.path.exists(model_save_path):\n",
    "#             os.makedirs(model_save_path)\n",
    "#         torch.save(model.state_dict(), os.path.join(model_save_path, 'model_state.bin'))\n",
    "#         print(f\"Model saved to {model_save_path}\")\n",
    "#         best_accuracy = val_acc\n",
    "         \n",
    "# end_time = time.time()\n",
    "# total_train_time = end_time - start_time\n",
    "\n",
    "# print(f\"Total training time: {total_train_time:.2f} seconds\")\n",
    "# torch.cuda.empty_cache()"
   ]
  },
  {
   "cell_type": "code",
   "execution_count": 1032,
   "metadata": {},
   "outputs": [],
   "source": [
    "import matplotlib.pyplot as plt\n",
    "\n",
    "# plt.rcParams[\"figure.figsize\"] = (10,7)\n",
    "# plt.plot(history['train_acc'], label='train accuracy')\n",
    "# plt.plot(history['val_acc'], label='validation accuracy')\n",
    "# plt.title('Training history')\n",
    "# plt.ylabel('Accuracy')\n",
    "# plt.xlabel('Epoch')\n",
    "# plt.legend()\n",
    "# plt.ylim([0, 1])\n",
    "# plt.grid()"
   ]
  },
  {
   "cell_type": "code",
   "execution_count": 1033,
   "metadata": {},
   "outputs": [],
   "source": [
    "torch.cuda.empty_cache()"
   ]
  },
  {
   "cell_type": "markdown",
   "metadata": {},
   "source": [
    "#### Load Models"
   ]
  },
  {
   "cell_type": "code",
   "execution_count": 1034,
   "metadata": {},
   "outputs": [],
   "source": [
    "import os\n",
    "\n",
    "# # load feature 1\n",
    "# model_load_path = './model2_task1_feature1_model(unfrozen)'\n",
    "# model = BERTClass()\n",
    "# model.load_state_dict(torch.load(os.path.join(model_load_path, 'model_state.bin')))\n",
    "# model = model.to(device)\n",
    "\n",
    "# load feature 2\n",
    "model_load_path = './model2_task1_feature2_model(unfrozen)'\n",
    "model = BERTClass()\n",
    "model.load_state_dict(torch.load(os.path.join(model_load_path, 'model_state.bin')))\n",
    "model = model.to(device)\n"
   ]
  },
  {
   "cell_type": "code",
   "execution_count": 1035,
   "metadata": {},
   "outputs": [],
   "source": [
    "test_acc, test_loss = eval_model(test_data_loader, model, optimizer)"
   ]
  },
  {
   "cell_type": "code",
   "execution_count": 1036,
   "metadata": {},
   "outputs": [
    {
     "data": {
      "text/plain": [
       "0.9839424141749723"
      ]
     },
     "execution_count": 1036,
     "metadata": {},
     "output_type": "execute_result"
    }
   ],
   "source": [
    "test_acc"
   ]
  },
  {
   "cell_type": "code",
   "execution_count": 1037,
   "metadata": {},
   "outputs": [],
   "source": [
    "from sklearn.metrics import confusion_matrix, classification_report\n",
    "     \n",
    "def get_predictions(model, data_loader):\n",
    "    \"\"\"\n",
    "    Outputs:\n",
    "      predictions - \n",
    "    \"\"\"\n",
    "    model = model.eval()\n",
    "    \n",
    "    titles = []\n",
    "    predictions = []\n",
    "    prediction_probs = []\n",
    "    target_values = []\n",
    "\n",
    "    with torch.no_grad():\n",
    "      for data in data_loader:\n",
    "        title = data[\"title\"]\n",
    "        ids = data[\"input_ids\"].to(device, dtype = torch.long)\n",
    "        mask = data[\"attention_mask\"].to(device, dtype = torch.long)\n",
    "        token_type_ids = data['token_type_ids'].to(device, dtype = torch.long)\n",
    "        targets = data[\"targets\"].to(device, dtype = torch.float)\n",
    "        \n",
    "        outputs = model(ids, mask, token_type_ids)\n",
    "        # add sigmoid, for the training sigmoid is in BCEWithLogitsLoss\n",
    "        outputs = torch.sigmoid(outputs).detach().cpu()\n",
    "        # thresholding at 0.5\n",
    "        preds = outputs.round()\n",
    "        targets = targets.detach().cpu()\n",
    "\n",
    "        titles.extend(title)\n",
    "        predictions.extend(preds)\n",
    "        prediction_probs.extend(outputs)\n",
    "        target_values.extend(targets)\n",
    "    \n",
    "    predictions = torch.stack(predictions)\n",
    "    prediction_probs = torch.stack(prediction_probs)\n",
    "    target_values = torch.stack(target_values)\n",
    "    \n",
    "    return titles, predictions, prediction_probs, target_values"
   ]
  },
  {
   "cell_type": "code",
   "execution_count": 1038,
   "metadata": {},
   "outputs": [],
   "source": [
    "titles, predictions, prediction_probs, target_values = get_predictions(model, test_data_loader)"
   ]
  },
  {
   "cell_type": "code",
   "execution_count": 1039,
   "metadata": {},
   "outputs": [
    {
     "data": {
      "text/plain": [
       "array([[0., 0., 0., 0., 0., 0.],\n",
       "       [0., 0., 0., 0., 0., 0.],\n",
       "       [1., 0., 0., 0., 0., 0.],\n",
       "       ...,\n",
       "       [0., 0., 1., 0., 0., 0.],\n",
       "       [0., 0., 0., 0., 0., 0.],\n",
       "       [1., 0., 0., 0., 0., 0.]], dtype=float32)"
      ]
     },
     "execution_count": 1039,
     "metadata": {},
     "output_type": "execute_result"
    }
   ],
   "source": [
    "predictions.numpy()\n"
   ]
  },
  {
   "cell_type": "markdown",
   "metadata": {},
   "source": [
    "#### Come here to change prediction variables"
   ]
  },
  {
   "cell_type": "code",
   "execution_count": 1040,
   "metadata": {},
   "outputs": [],
   "source": [
    "### adjust and comment out the predictions depending on what feature you are using\n",
    "######################\n",
    "# task_1_transformer_f1 = predictions\n",
    "\n",
    "# task_1_transformer_f2 = predictions\n",
    "######################\n"
   ]
  },
  {
   "cell_type": "code",
   "execution_count": 1041,
   "metadata": {},
   "outputs": [
    {
     "name": "stdout",
     "output_type": "stream",
     "text": [
      "titles:301 \n",
      "predictions:torch.Size([301, 6]) \n",
      "prediction_probs:torch.Size([301, 6]) \n",
      "target_values:torch.Size([301, 6])\n"
     ]
    }
   ],
   "source": [
    "print(f\"titles:{len(titles)} \\npredictions:{predictions.shape} \\nprediction_probs:{prediction_probs.shape} \\ntarget_values:{target_values.shape}\")"
   ]
  },
  {
   "cell_type": "code",
   "execution_count": 1042,
   "metadata": {},
   "outputs": [
    {
     "name": "stdout",
     "output_type": "stream",
     "text": [
      "              precision    recall  f1-score   support\n",
      "\n",
      "         ADR       0.96      0.97      0.97       108\n",
      "          WD       0.89      0.89      0.89        18\n",
      "          EF       0.96      0.91      0.93        55\n",
      "         INF       0.80      0.92      0.86        13\n",
      "         SSI       0.92      0.97      0.94        34\n",
      "          DI       1.00      0.89      0.94        27\n",
      "\n",
      "   micro avg       0.94      0.94      0.94       255\n",
      "   macro avg       0.92      0.93      0.92       255\n",
      "weighted avg       0.95      0.94      0.94       255\n",
      " samples avg       0.61      0.61      0.61       255\n",
      "\n"
     ]
    },
    {
     "name": "stderr",
     "output_type": "stream",
     "text": [
      "c:\\Users\\julev\\anaconda3\\envs\\cudaEnv\\Lib\\site-packages\\sklearn\\metrics\\_classification.py:1509: UndefinedMetricWarning: Precision is ill-defined and being set to 0.0 in samples with no predicted labels. Use `zero_division` parameter to control this behavior.\n",
      "  _warn_prf(average, modifier, f\"{metric.capitalize()} is\", len(result))\n",
      "c:\\Users\\julev\\anaconda3\\envs\\cudaEnv\\Lib\\site-packages\\sklearn\\metrics\\_classification.py:1509: UndefinedMetricWarning: Recall is ill-defined and being set to 0.0 in samples with no true labels. Use `zero_division` parameter to control this behavior.\n",
      "  _warn_prf(average, modifier, f\"{metric.capitalize()} is\", len(result))\n",
      "c:\\Users\\julev\\anaconda3\\envs\\cudaEnv\\Lib\\site-packages\\sklearn\\metrics\\_classification.py:1509: UndefinedMetricWarning: F-score is ill-defined and being set to 0.0 in samples with no true nor predicted labels. Use `zero_division` parameter to control this behavior.\n",
      "  _warn_prf(average, modifier, f\"{metric.capitalize()} is\", len(result))\n"
     ]
    }
   ],
   "source": [
    "print(classification_report(target_values, predictions, target_names=target_list))"
   ]
  },
  {
   "cell_type": "code",
   "execution_count": 372,
   "metadata": {},
   "outputs": [
    {
     "name": "stdout",
     "output_type": "stream",
     "text": [
      "                                              sentences  ADR   WD   EF  INF  \\\n",
      "2018  allow think one subject time previous 9,846 th...  0.0  0.0  1.0  0.0   \n",
      "5762                   since power chair almost nothing  0.0  0.0  0.0  0.0   \n",
      "5715                         dizziness standing bending  1.0  0.0  0.0  0.0   \n",
      "1870  started taking 100mg went 50mg due headaches a...  1.0  0.0  0.0  0.0   \n",
      "5142                            3 weeks stopped working  0.0  0.0  0.0  1.0   \n",
      "...                                                 ...  ...  ...  ...  ...   \n",
      "1894                                             sweats  1.0  0.0  0.0  0.0   \n",
      "2240    zoloft made difference life 'm longer depressed  0.0  0.0  1.0  0.0   \n",
      "2677                               first week two bliss  0.0  0.0  1.0  0.0   \n",
      "4411                  currently take 40 mg cymbalta day  0.0  0.0  0.0  0.0   \n",
      "191                               'm serious pain right  1.0  0.0  0.0  0.0   \n",
      "\n",
      "      SSI   DI  cluster                                     drug_sentences  \n",
      "2018  1.0  1.0        1  zoloft allow think one subject time previous 9...  \n",
      "5762  0.0  0.0        1         effexorxr since power chair almost nothing  \n",
      "5715  0.0  0.0        1               effexorxr dizziness standing bending  \n",
      "1870  0.0  0.0        3  zoloft started taking 100mg went 50mg due head...  \n",
      "5142  0.0  0.0        3                  effexorxr 3 weeks stopped working  \n",
      "...   ...  ...      ...                                                ...  \n",
      "1894  0.0  0.0        1                                      zoloft sweats  \n",
      "2240  1.0  1.0        1  zoloft zoloft made difference life 'm longer d...  \n",
      "2677  0.0  0.0        3                        zoloft first week two bliss  \n",
      "4411  0.0  0.0        3         cymbalta currently take 40 mg cymbalta day  \n",
      "191   0.0  0.0        1                      lexapro 'm serious pain right  \n",
      "\n",
      "[301 rows x 9 columns]\n"
     ]
    }
   ],
   "source": [
    "print(df_test)"
   ]
  },
  {
   "cell_type": "code",
   "execution_count": 373,
   "metadata": {},
   "outputs": [
    {
     "name": "stdout",
     "output_type": "stream",
     "text": [
      "[[0. 0. 1. 0. 1. 1.]\n",
      " [0. 0. 0. 0. 0. 0.]\n",
      " [1. 0. 0. 0. 0. 0.]\n",
      " ...\n",
      " [0. 0. 1. 0. 0. 0.]\n",
      " [0. 0. 0. 0. 0. 0.]\n",
      " [1. 0. 0. 0. 0. 0.]]\n"
     ]
    }
   ],
   "source": [
    "from sklearn.metrics import multilabel_confusion_matrix\n",
    "true_test_labels = df_test[['ADR', 'WD', 'EF', 'INF', 'SSI', 'DI']].to_numpy(dtype=np.float32)\n",
    "print(true_test_labels)"
   ]
  },
  {
   "cell_type": "code",
   "execution_count": 374,
   "metadata": {},
   "outputs": [
    {
     "name": "stdout",
     "output_type": "stream",
     "text": [
      "Confusion matrix for class 'ADR':\n",
      "[[184   9]\n",
      " [  1 107]]\n",
      "\n",
      "              precision    recall  f1-score   support\n",
      "\n",
      "       ADR_0       0.99      0.95      0.97       193\n",
      "       ADR_1       0.92      0.99      0.96       108\n",
      "\n",
      "    accuracy                           0.97       301\n",
      "   macro avg       0.96      0.97      0.96       301\n",
      "weighted avg       0.97      0.97      0.97       301\n",
      "\n",
      "Confusion matrix for class 'WD':\n",
      "[[281   2]\n",
      " [  3  15]]\n",
      "\n",
      "              precision    recall  f1-score   support\n",
      "\n",
      "        WD_0       0.99      0.99      0.99       283\n",
      "        WD_1       0.88      0.83      0.86        18\n",
      "\n",
      "    accuracy                           0.98       301\n",
      "   macro avg       0.94      0.91      0.92       301\n",
      "weighted avg       0.98      0.98      0.98       301\n",
      "\n",
      "Confusion matrix for class 'EF':\n",
      "[[242   4]\n",
      " [  5  50]]\n",
      "\n",
      "              precision    recall  f1-score   support\n",
      "\n",
      "        EF_0       0.98      0.98      0.98       246\n",
      "        EF_1       0.93      0.91      0.92        55\n",
      "\n",
      "    accuracy                           0.97       301\n",
      "   macro avg       0.95      0.95      0.95       301\n",
      "weighted avg       0.97      0.97      0.97       301\n",
      "\n",
      "Confusion matrix for class 'INF':\n",
      "[[284   4]\n",
      " [  1  12]]\n",
      "\n",
      "              precision    recall  f1-score   support\n",
      "\n",
      "       INF_0       1.00      0.99      0.99       288\n",
      "       INF_1       0.75      0.92      0.83        13\n",
      "\n",
      "    accuracy                           0.98       301\n",
      "   macro avg       0.87      0.95      0.91       301\n",
      "weighted avg       0.99      0.98      0.98       301\n",
      "\n",
      "Confusion matrix for class 'SSI':\n",
      "[[265   2]\n",
      " [  1  33]]\n",
      "\n",
      "              precision    recall  f1-score   support\n",
      "\n",
      "       SSI_0       1.00      0.99      0.99       267\n",
      "       SSI_1       0.94      0.97      0.96        34\n",
      "\n",
      "    accuracy                           0.99       301\n",
      "   macro avg       0.97      0.98      0.98       301\n",
      "weighted avg       0.99      0.99      0.99       301\n",
      "\n",
      "Confusion matrix for class 'DI':\n",
      "[[274   0]\n",
      " [  3  24]]\n",
      "\n",
      "              precision    recall  f1-score   support\n",
      "\n",
      "        DI_0       0.99      1.00      0.99       274\n",
      "        DI_1       1.00      0.89      0.94        27\n",
      "\n",
      "    accuracy                           0.99       301\n",
      "   macro avg       0.99      0.94      0.97       301\n",
      "weighted avg       0.99      0.99      0.99       301\n",
      "\n"
     ]
    }
   ],
   "source": [
    "confusion_matrixes=multilabel_confusion_matrix(true_test_labels,predictions.numpy())\n",
    "class_names = ['ADR', 'WD', 'EF', 'INF', 'SSI', 'DI']\n",
    "\n",
    "for idx, class_name in enumerate(class_names):\n",
    "    cm = confusion_matrixes[idx]\n",
    "    print(f\"Confusion matrix for class '{class_name}':\\n{cm}\\n\")\n",
    "    report = classification_report(true_test_labels[:, idx], predictions[:, idx], target_names=[f'{class_name}_0', f'{class_name}_1'])\n",
    "    print(report)"
   ]
  },
  {
   "cell_type": "markdown",
   "metadata": {},
   "source": [
    "### Statistical Tests"
   ]
  },
  {
   "cell_type": "code",
   "execution_count": 670,
   "metadata": {},
   "outputs": [
    {
     "name": "stdout",
     "output_type": "stream",
     "text": [
      "[[1 0 0 0 0 0]\n",
      " [0 0 0 0 0 0]\n",
      " [0 0 0 0 0 0]\n",
      " ...\n",
      " [1 0 0 0 0 0]\n",
      " [0 0 0 0 0 0]\n",
      " [0 0 0 0 0 0]]\n",
      "[[1 0 0 0 0 0]\n",
      " [0 0 0 0 0 0]\n",
      " [0 0 0 0 0 0]\n",
      " ...\n",
      " [1 0 0 0 0 0]\n",
      " [0 0 0 0 0 0]\n",
      " [0 0 0 0 0 0]]\n",
      "tensor([[0., 0., 0., 0., 0., 0.],\n",
      "        [0., 0., 0., 0., 0., 0.],\n",
      "        [1., 0., 0., 0., 0., 0.],\n",
      "        ...,\n",
      "        [0., 0., 1., 0., 0., 0.],\n",
      "        [0., 0., 0., 0., 0., 0.],\n",
      "        [1., 0., 0., 0., 0., 0.]])\n",
      "tensor([[0., 0., 0., 0., 0., 0.],\n",
      "        [0., 0., 0., 0., 0., 0.],\n",
      "        [1., 0., 0., 0., 0., 0.],\n",
      "        ...,\n",
      "        [0., 0., 1., 0., 0., 0.],\n",
      "        [0., 0., 0., 0., 0., 0.],\n",
      "        [1., 0., 0., 0., 0., 0.]])\n"
     ]
    }
   ],
   "source": [
    "## 4 Total ones\n",
    "# task_1_transformer_f1, task_1_transformer_f2\n",
    "# task_1_logistic_f1, task_1_logistic _f2\n",
    "\n",
    "\n",
    "print(task_1_logistic_f1)\n",
    "print(task_1_logistic_f2)\n",
    "print(task_1_transformer_f1)\n",
    "print(task_1_transformer_f2)\n",
    "\n"
   ]
  },
  {
   "cell_type": "code",
   "execution_count": 877,
   "metadata": {},
   "outputs": [],
   "source": [
    "logistic_float_1 = task_1_logistic_f1.astype(float)\n",
    "transformer_float_1 = task_1_transformer_f1.numpy().astype(float)\n",
    "logistic_float_2 = task_1_logistic_f2.astype(float)\n",
    "transformer_float_2 = task_1_transformer_f2.numpy().astype(float)\n",
    "## multi_label_y is the ground truth\n",
    "multi_label_y_float = multi_label_y.astype(float)"
   ]
  },
  {
   "cell_type": "code",
   "execution_count": 847,
   "metadata": {},
   "outputs": [
    {
     "name": "stdout",
     "output_type": "stream",
     "text": [
      "Hamming Loss for logistic_1 vs logistic_2: 0.014396456256921373\n",
      "Hamming Loss for logistic_1 vs transformer_1: 0.10908084163898117\n",
      "Hamming Loss for logistic_1 vs transformer_2: 0.10575858250276855\n",
      "Hamming Loss for transformer_1 vs logistic_2: 0.10243632336655592\n",
      "Hamming Loss for transformer_1 vs transformer_2: 0.014396456256921373\n",
      "Hamming Loss for logistic_2 vs transformer_2: 0.10243632336655592\n",
      "Hamming Loss for logistic_1 vs ground truth: 0.11517165005537099\n",
      "Hamming Loss for transformer_1 vs ground truth: 0.016057585825027684\n",
      "Hamming Loss for logistic_2 vs ground truth: 0.10963455149501661\n",
      "Hamming Loss for transformer_2 vs ground truth: 0.01937984496124031\n"
     ]
    }
   ],
   "source": [
    "## Hamming Loss\n",
    "from sklearn.metrics import hamming_loss\n",
    "\n",
    "def calculate_hamming_losses(logistic_f1, transformer_f1, logistic_f2, transformer_f2, y_float):\n",
    "    combinations = [\n",
    "        ('logistic_1 vs logistic_2', logistic_f1, logistic_f2),\n",
    "        ('logistic_1 vs transformer_1', logistic_f1, transformer_f1),\n",
    "        ('logistic_1 vs transformer_2', logistic_f1, transformer_f2),\n",
    "        ('transformer_1 vs logistic_2', transformer_f1, logistic_f2),\n",
    "        ('transformer_1 vs transformer_2', transformer_f1, transformer_f2),\n",
    "        ('logistic_2 vs transformer_2', logistic_f2, transformer_f2),\n",
    "        ('logistic_1 vs ground truth', logistic_f1, y_float),\n",
    "        ('transformer_1 vs ground truth', transformer_f1, y_float),\n",
    "        ('logistic_2 vs ground truth', logistic_f2, y_float),\n",
    "        ('transformer_2 vs ground truth', transformer_f2, y_float)\n",
    "    ]\n",
    "    \n",
    "    for name, array1, array2 in combinations:\n",
    "        loss = hamming_loss(array1, array2)\n",
    "        print(f\"Hamming Loss for {name}: {loss}\")\n",
    "\n",
    "# Calculate and print Hamming Losses for all combinations\n",
    "calculate_hamming_losses(logistic_float_1, transformer_float_1, logistic_float_2, transformer_float_2, multi_label_y_float)"
   ]
  },
  {
   "cell_type": "code",
   "execution_count": 878,
   "metadata": {},
   "outputs": [
    {
     "name": "stdout",
     "output_type": "stream",
     "text": [
      "Friedman test for label 0: statistic=16.372759856632985, p-value=0.0025576715535565652\n",
      "Friedman test for label 1: statistic=10.666666666664245, p-value=0.030577016627630297\n",
      "Friedman test for label 2: statistic=64.68148148148094, p-value=3.0031014251411415e-13\n",
      "Friedman test for label 3: statistic=12.653061224503691, p-value=0.013101500388329173\n",
      "Friedman test for label 4: statistic=34.711864406790355, p-value=5.323421579493195e-07\n",
      "Friedman test for label 5: statistic=27.854545454554025, p-value=1.334881684275001e-05\n"
     ]
    },
    {
     "data": {
      "text/plain": [
       "[(0, 16.372759856632985, 0.0025576715535565652),\n",
       " (1, 10.666666666664245, 0.030577016627630297),\n",
       " (2, 64.68148148148094, 3.0031014251411415e-13),\n",
       " (3, 12.653061224503691, 0.013101500388329173),\n",
       " (4, 34.711864406790355, 5.323421579493195e-07),\n",
       " (5, 27.854545454554025, 1.334881684275001e-05)]"
      ]
     },
     "execution_count": 878,
     "metadata": {},
     "output_type": "execute_result"
    }
   ],
   "source": [
    "from scipy.stats import friedmanchisquare\n",
    "from sklearn.preprocessing import LabelEncoder\n",
    "\n",
    "def calculate_friedman_multi_label(logistic_f1, transformer_f1, logistic_f2, transformer_f2, true_labels):\n",
    "    n_labels = true_labels.shape[1]  # Number of labels\n",
    "\n",
    "    results = []\n",
    "\n",
    "    for i in range(n_labels):\n",
    "        label_logistic_f1 = logistic_f1[:, i]\n",
    "        label_transformer_f1 = transformer_f1[:, i]\n",
    "        label_logistic_f2 = logistic_f2[:, i]\n",
    "        label_transformer_f2 = transformer_f2[:, i]\n",
    "        label_true = true_labels[:, i]\n",
    "\n",
    "        stat, p = friedmanchisquare(label_logistic_f1, label_transformer_f1, label_logistic_f2, label_transformer_f2, label_true)\n",
    "        results.append((i, stat, p))\n",
    "        print(f\"Friedman test for label {i}: statistic={stat}, p-value={p}\")\n",
    "\n",
    "    return results\n",
    "\n",
    "calculate_friedman_multi_label(\n",
    "    logistic_f1=logistic_float_1,\n",
    "    transformer_f1=transformer_float_1,\n",
    "    logistic_f2=logistic_float_2,\n",
    "    transformer_f2=transformer_float_2,\n",
    "    true_labels=multi_label_y_float\n",
    ")\n",
    "    \n"
   ]
  },
  {
   "cell_type": "markdown",
   "metadata": {},
   "source": [
    "# Multi-Class"
   ]
  },
  {
   "cell_type": "markdown",
   "metadata": {},
   "source": [
    "### Logistic Regression"
   ]
  },
  {
   "cell_type": "code",
   "execution_count": 1043,
   "metadata": {},
   "outputs": [
    {
     "name": "stdout",
     "output_type": "stream",
     "text": [
      "Sheet Name: Sample\n",
      "Sheet Name: Sentence_Labeling\n",
      "Sheet Name: ADR_Identified\n",
      "Sheet Name: ADR_Mapped\n",
      "Sheet Name: WD_Identified\n",
      "Sheet Name: WD-Mapped \n",
      "Sheet Name: SSI_Identified\n",
      "Sheet Name: SSI_Mapped\n",
      "Sheet Name: DI_Identified\n",
      "Sheet Name: DI_Mapped\n"
     ]
    }
   ],
   "source": [
    "fileName=\".\\ONLINE_FORA\\PsyTAR_dataset.xlsx\"\n",
    "data=pd.ExcelFile(fileName)\n",
    "sheets={}\n",
    "for sheet in data.sheet_names:\n",
    "    sheets[sheet]=data.parse(sheet)\n",
    "\n",
    "## Remove the first two sheets (License and read_me)\n",
    "sheets.pop('License',None)\n",
    "sheets.pop('read_me',None)\n",
    "\n",
    "## This will print out the sheet names for the whole excel\n",
    "for sheet in sheets.keys():\n",
    "    print(f\"Sheet Name: {sheet}\")\n",
    "    \n",
    "df=data.parse('Sentence_Labeling')\n",
    "df.drop(df.tail(1).index,inplace=True)\n",
    "df['drug_id']=df['drug_id'].str.lower()\n",
    "df['drug_name']=df['drug_id'].str.replace(r'\\.\\d+','',regex=True)\n",
    "df['sentences']=df['sentences'].apply(preprocess)\n",
    "df.fillna(0,inplace=True)\n",
    "unique_drug_count=df['drug_name'].nunique()\n"
   ]
  },
  {
   "cell_type": "code",
   "execution_count": 1044,
   "metadata": {},
   "outputs": [],
   "source": [
    "# # feature 1\n",
    "# from sklearn.model_selection import train_test_split\n",
    "\n",
    "# # this one has no 0s and 1s as extra features\n",
    "# df['DI'] = pd.to_numeric(df['DI'], errors='coerce')\n",
    "\n",
    "# df_train, df_temp = train_test_split(df, random_state=42, test_size=0.55, shuffle=True)\n",
    "\n",
    "# df_valid, df_test = train_test_split(df_temp, random_state=42, test_size=(1/11), shuffle=True)\n",
    "\n",
    "# x_train = df_train['sentences'].values\n",
    "# y_train = df_train['drug_name'].values\n",
    "\n",
    "# x_val = df_valid['sentences'].values\n",
    "# y_val = df_valid['drug_name'].values\n",
    "\n",
    "# x_test = df_test['sentences'].values\n",
    "# y_test = df_test['drug_name'].values\n",
    "\n",
    "# tfidf_vectorizer = TfidfVectorizer()\n",
    "# x_train_tfidf = tfidf_vectorizer.fit_transform(x_train)\n",
    "# x_val_tfidf = tfidf_vectorizer.transform(x_val)\n",
    "# x_test_tfidf = tfidf_vectorizer.transform(x_test)\n"
   ]
  },
  {
   "cell_type": "code",
   "execution_count": 1055,
   "metadata": {},
   "outputs": [],
   "source": [
    "# # feature 2\n",
    "# # this one has extra 0s and 1s as extra features\n",
    "# sentences = df['sentences'].values\n",
    "# df['DI'] = pd.to_numeric(df['DI'], errors='coerce')\n",
    "\n",
    "# annotation_values = df[['ADR', 'WD', 'EF', 'INF', 'SSI', 'DI']].values\n",
    "\n",
    "# df_train, df_temp = train_test_split(df, random_state=42, test_size=0.55, shuffle=True)\n",
    "\n",
    "# df_valid, df_test = train_test_split(df_temp, random_state=42, test_size=(1/11), shuffle=True)\n",
    "\n",
    "# sentences_train = df_train['sentences'].values\n",
    "# annotation_values_train = df_train[['ADR', 'WD', 'EF', 'INF', 'SSI', 'DI']].values\n",
    "# x_train = [\n",
    "#     sentence + \" \" + \" \".join(map(str, annotation_value)) \n",
    "#     for sentence, annotation_value in zip(sentences_train, annotation_values_train)\n",
    "# ]\n",
    "# y_train = df_train['drug_name'].values\n",
    "\n",
    "# sentences_val = df_valid['sentences'].values\n",
    "# annotation_values_val = df_valid[['ADR', 'WD', 'EF', 'INF', 'SSI', 'DI']].values\n",
    "# x_val = [\n",
    "#     sentence + \" \" + \" \".join(map(str, annotation_value)) \n",
    "#     for sentence, annotation_value in zip(sentences_val, annotation_values_val)\n",
    "# ]\n",
    "# y_val = df_valid['drug_name'].values\n",
    "\n",
    "# sentences_test = df_test['sentences'].values\n",
    "# annotation_values_test = df_test[['ADR', 'WD', 'EF', 'INF', 'SSI', 'DI']].values\n",
    "# x_test = [\n",
    "#     sentence + \" \" + \" \".join(map(str, annotation_value)) \n",
    "#     for sentence, annotation_value in zip(sentences_test, annotation_values_test)\n",
    "# ]\n",
    "# y_test = df_test['drug_name'].values\n",
    "\n",
    "# tfidf_vectorizer = TfidfVectorizer()\n",
    "# x_train_tfidf = tfidf_vectorizer.fit_transform(x_train)\n",
    "# x_val_tfidf = tfidf_vectorizer.transform(x_val)\n",
    "# x_test_tfidf = tfidf_vectorizer.transform(x_test)"
   ]
  },
  {
   "cell_type": "code",
   "execution_count": 1069,
   "metadata": {},
   "outputs": [],
   "source": [
    "# feature 3\n",
    "# this one uses ONLY the annotated values\n",
    "df['DI'] = pd.to_numeric(df['DI'], errors='coerce')\n",
    "\n",
    "df_train, df_temp = train_test_split(df, random_state=42, test_size=0.55, shuffle=True)\n",
    "\n",
    "df_valid, df_test = train_test_split(df_temp, random_state=42, test_size=(1/11), shuffle=True)\n",
    "\n",
    "x_train = df_train[['ADR', 'WD', 'EF', 'INF', 'SSI', 'DI']].values\n",
    "y_train = df_train['drug_name'].values\n",
    "\n",
    "x_val = df_valid[['ADR', 'WD', 'EF', 'INF', 'SSI', 'DI']].values\n",
    "y_val = df_valid['drug_name'].values\n",
    "\n",
    "x_test = df_test[['ADR', 'WD', 'EF', 'INF', 'SSI', 'DI']].values\n",
    "y_test = df_test['drug_name'].values\n",
    "\n",
    "x_train = np.nan_to_num(x_train, nan=0.0)\n",
    "x_val = np.nan_to_num(x_val, nan=0.0)\n",
    "x_test = np.nan_to_num(x_test, nan=0.0)\n"
   ]
  },
  {
   "cell_type": "code",
   "execution_count": 1070,
   "metadata": {},
   "outputs": [
    {
     "name": "stdout",
     "output_type": "stream",
     "text": [
      "Test Accuracy: 0.3422\n",
      "Test Classification Report:\n",
      "              precision    recall  f1-score   support\n",
      "\n",
      "    cymbalta       0.32      0.87      0.47        84\n",
      "   effexorxr       0.45      0.29      0.36        82\n",
      "     lexapro       0.32      0.08      0.13        72\n",
      "      zoloft       0.00      0.00      0.00        63\n",
      "\n",
      "    accuracy                           0.34       301\n",
      "   macro avg       0.27      0.31      0.24       301\n",
      "weighted avg       0.29      0.34      0.26       301\n",
      "\n"
     ]
    },
    {
     "name": "stderr",
     "output_type": "stream",
     "text": [
      "c:\\Users\\julev\\anaconda3\\envs\\cudaEnv\\Lib\\site-packages\\sklearn\\metrics\\_classification.py:1509: UndefinedMetricWarning: Precision is ill-defined and being set to 0.0 in labels with no predicted samples. Use `zero_division` parameter to control this behavior.\n",
      "  _warn_prf(average, modifier, f\"{metric.capitalize()} is\", len(result))\n",
      "c:\\Users\\julev\\anaconda3\\envs\\cudaEnv\\Lib\\site-packages\\sklearn\\metrics\\_classification.py:1509: UndefinedMetricWarning: Precision is ill-defined and being set to 0.0 in labels with no predicted samples. Use `zero_division` parameter to control this behavior.\n",
      "  _warn_prf(average, modifier, f\"{metric.capitalize()} is\", len(result))\n",
      "c:\\Users\\julev\\anaconda3\\envs\\cudaEnv\\Lib\\site-packages\\sklearn\\metrics\\_classification.py:1509: UndefinedMetricWarning: Precision is ill-defined and being set to 0.0 in labels with no predicted samples. Use `zero_division` parameter to control this behavior.\n",
      "  _warn_prf(average, modifier, f\"{metric.capitalize()} is\", len(result))\n"
     ]
    }
   ],
   "source": [
    "# param_grid = {\n",
    "#     'C': [0.01, 0.1, 1, 10, 100, 1000], \n",
    "#     'penalty': ['l1', 'l2'], \n",
    "#     'solver': ['liblinear', 'saga', 'lbfgs'], \n",
    "# }\n",
    "\n",
    "#feature1: Best parameters found:  {'C': 0.1, 'penalty': 'l1', 'solver': 'saga'}\n",
    "#feature2:Best parameters found:  {'C': 0.1, 'penalty': 'l1', 'solver': 'saga'}\n",
    "#feature3: Best parameters found:  {'C': 0.1, 'penalty': 'l1', 'solver': 'saga'}\n",
    "\n",
    "logistic_regression = LogisticRegression(C=0.1,penalty='l1',solver='saga')  # Increased max_iter for convergence\n",
    "logistic_regression.fit(x_train, y_train) ###### CHANGE HERE FOR DIFFERENT FEATURES (x_train(f1) and x_train_tfidf (f2,f3)) #########\n",
    "# grid_search = GridSearchCV(estimator=logistic_regression_number, param_grid=param_grid, cv=5, n_jobs=-1, verbose=1)\n",
    "\n",
    "# grid_search.fit(x_train_number, y_train_number)\n",
    "\n",
    "best_logistic_regression = logistic_regression\n",
    "\n",
    "y_test_pred= best_logistic_regression.predict(x_test) ###### CHANGE HERE FOR DIFFERENT FEATURES (x_train(f1) and x_train_tfidf (f2,f3)) #########\n",
    "test_accuracy_number = accuracy_score(y_test, y_test_pred)\n",
    "print(f'Test Accuracy: {test_accuracy_number:.4f}')\n",
    "print('Test Classification Report:')\n",
    "print(classification_report(y_test, y_test_pred))"
   ]
  },
  {
   "cell_type": "code",
   "execution_count": 780,
   "metadata": {},
   "outputs": [
    {
     "name": "stdout",
     "output_type": "stream",
     "text": [
      "Distribution in training set:\n",
      "cymbalta     791\n",
      "effexorxr    704\n",
      "lexapro      644\n",
      "zoloft       565\n",
      "Name: count, dtype: int64\n",
      "Distribution in validation set:\n",
      "cymbalta     832\n",
      "lexapro      776\n",
      "effexorxr    763\n",
      "zoloft       633\n",
      "Name: count, dtype: int64\n",
      "Distribution in test set:\n",
      "cymbalta     84\n",
      "effexorxr    82\n",
      "lexapro      72\n",
      "zoloft       63\n",
      "Name: count, dtype: int64\n"
     ]
    }
   ],
   "source": [
    "y_train_series = pd.Series(y_train)\n",
    "y_val_series = pd.Series(y_val)\n",
    "y_test_series = pd.Series(y_test)\n",
    "\n",
    "print(\"Distribution in training set:\")\n",
    "print(y_train_series.value_counts())\n",
    "print(\"Distribution in validation set:\")\n",
    "print(y_val_series.value_counts())\n",
    "print(\"Distribution in test set:\")\n",
    "print(y_test_series.value_counts())"
   ]
  },
  {
   "cell_type": "markdown",
   "metadata": {},
   "source": [
    "#### Come here to change prediction variables"
   ]
  },
  {
   "cell_type": "code",
   "execution_count": 1074,
   "metadata": {},
   "outputs": [
    {
     "name": "stdout",
     "output_type": "stream",
     "text": [
      "best param  {'C': 0.1, 'penalty': 'l2', 'solver': 'liblinear'}\n",
      "cross_val accuracy  0.31286780310809886\n",
      "test set\n",
      "              precision    recall  f1-score   support\n",
      "\n",
      "    cymbalta       0.32      0.87      0.47        84\n",
      "   effexorxr       0.46      0.29      0.36        82\n",
      "     lexapro       0.33      0.08      0.13        72\n",
      "      zoloft       0.00      0.00      0.00        63\n",
      "\n",
      "    accuracy                           0.34       301\n",
      "   macro avg       0.28      0.31      0.24       301\n",
      "weighted avg       0.29      0.34      0.26       301\n",
      "\n",
      "[[73  9  1  1]\n",
      " [54 24  3  1]\n",
      " [58  8  6  0]\n",
      " [44 11  8  0]]\n"
     ]
    },
    {
     "data": {
      "image/png": "[encoded data removed]",
      "text/plain": [
       "<Figure size 800x600 with 2 Axes>"
      ]
     },
     "metadata": {},
     "output_type": "display_data"
    }
   ],
   "source": [
    "import matplotlib.pyplot as plt\n",
    "import seaborn as sns\n",
    "\n",
    "# tfidf_vectorizer = TfidfVectorizer()\n",
    "# x_train_tfidf = tfidf_vectorizer.fit_transform(x_train)\n",
    "# x_val_tfidf = tfidf_vectorizer.transform(x_val)\n",
    "# x_test_tfidf = tfidf_vectorizer.transform(x_test)\n",
    "\n",
    "param_grid = {\n",
    "    'C': [0.1, 1, 10, 100], \n",
    "    'penalty': ['l2'],  \n",
    "    'solver': ['liblinear'] \n",
    "}\n",
    "\n",
    "logistic_regression_model = LogisticRegression()\n",
    "grid_search = GridSearchCV(logistic_regression_model, param_grid, cv=5, scoring='accuracy')\n",
    "grid_search.fit(x_train, y_train)\n",
    "\n",
    "print(\"best param \", grid_search.best_params_)\n",
    "print(\"cross_val accuracy \", grid_search.best_score_)\n",
    "\n",
    "best_model = grid_search.best_estimator_\n",
    "y_test_pred = best_model.predict(x_test)\n",
    "\n",
    "### adjust and comment out the predictions depending on what feature you are using\n",
    "######################\n",
    "# task_2_logistic_f1 = y_test_pred\n",
    "\n",
    "# task_2_logistic_f2 = y_test_pred\n",
    "\n",
    "# task_2_logistic_f3 = y_test_pred\n",
    "######################\n",
    "\n",
    "print(\"test set\")\n",
    "print(classification_report(y_test, y_test_pred))\n",
    "conf = confusion_matrix(y_test, y_test_pred)\n",
    "print(conf)\n",
    "\n",
    "plt.figure(figsize=(8, 6))\n",
    "sns.heatmap(conf, annot=True, fmt='d', cmap='Blues', xticklabels=np.unique(y_test), yticklabels=np.unique(y_test_pred))\n",
    "plt.xlabel('Predicted Labels')\n",
    "plt.ylabel('True Labels')\n",
    "plt.title('Confusion Matrix')\n",
    "plt.show()"
   ]
  },
  {
   "cell_type": "markdown",
   "metadata": {},
   "source": [
    "### Transformers"
   ]
  },
  {
   "cell_type": "code",
   "execution_count": 1081,
   "metadata": {},
   "outputs": [],
   "source": [
    "def transform_labels(row):\n",
    "    labels = [\n",
    "        '[POS] adverse drug reaction' if row['ADR'] == 1 else '[NEG] adverse drug reaction',\n",
    "        '[POS] withdrawal symptom' if row['WD'] == 1 else '[NEG] withdrawal symptom',\n",
    "        '[POS] effective' if row['EF'] == 1 else '[NEG] effective',\n",
    "        '[POS] ineffective' if row['INF'] == 1 else '[NEG] ineffective',\n",
    "        '[POS] sign/symptom/illness' if row['SSI'] == 1 else '[NEG] sign/symptom/illness',\n",
    "        '[POS] drug indication' if row['DI'] == 1 else '[NEG] drug indication'\n",
    "    ]\n",
    "    return ' '.join(labels)\n",
    "\n",
    "# df['drug_name'] = df['drug_name'].astype('category').cat.codes"
   ]
  },
  {
   "cell_type": "code",
   "execution_count": 1082,
   "metadata": {},
   "outputs": [],
   "source": [
    "# #this one is for the combined sentences -- Task 2 Feature 1\n",
    "\n",
    "# df_word_label = df\n",
    "\n",
    "# df_word_label['transformed_sentences'] = df.apply(lambda row: f\"{row['sentences']} {transform_labels(row)}\", axis=1)\n",
    "# #print(df_word_label)\n",
    "\n",
    "# ## ADR: adverse drug reaction\n",
    "# ## WD: withdrawal symptom\n",
    "# ## EF: effective\n",
    "# ## INF: ineffective\n",
    "# ## SSI: Sign/symptom/illness - if report contains explicit SSI that patient experienced that are not a result of the drug\n",
    "# ## DI: drug indication - shows SSI that explicitly mentioned as being resolved because of drug consumption\n",
    "# df_word_label.drop(columns=[\"id\", \"comment_id\", \"drug_id\", \"sentence_index\", \"Findings\", \"others\", \"rating\", \"category\",\"sentences\", \"ADR\", \"WD\", \"EF\", \"INF\", \"SSI\", \"DI\"], axis=1)\n",
    "\n",
    "# df_word_label = df_word_label[['transformed_sentences', 'drug_name']]\n",
    "\n",
    "# # Split data\n",
    "# df_train, df_temp = train_test_split(df_word_label, random_state=42, test_size=0.55, shuffle=True)\n",
    "\n",
    "# df_valid, df_test = train_test_split(df_temp, random_state=42, test_size=(1/11), shuffle=True)\n"
   ]
  },
  {
   "cell_type": "code",
   "execution_count": 1107,
   "metadata": {},
   "outputs": [],
   "source": [
    "# # ## This one is just for the text without transformed sentences -- Task 2 Feature 2\n",
    "# df_word_label=df\n",
    "\n",
    "# # x = df_word_label['sentences'].values\n",
    "# # y = df_word_label['drug_name'].astype('category').cat.codes.values\n",
    "# df_word_label.drop(columns=[\"id\", \"comment_id\", \"drug_id\", \"sentence_index\", \"Findings\", \"others\", \"rating\", \"category\", \"ADR\", \"WD\", \"EF\", \"INF\", \"SSI\", \"DI\"], axis=1)\n",
    "# df_word_label = df_word_label[['sentences', 'drug_name']]\n",
    "\n",
    "# # Split data\n",
    "# df_train, df_temp = train_test_split(df_word_label, random_state=42, test_size=0.55, shuffle=True)\n",
    "\n",
    "# df_valid, df_test = train_test_split(df_temp, random_state=42, test_size=(1/11), shuffle=True)"
   ]
  },
  {
   "cell_type": "code",
   "execution_count": 1131,
   "metadata": {},
   "outputs": [
    {
     "name": "stdout",
     "output_type": "stream",
     "text": [
      "0       [POS] adverse drug reaction [NEG] withdrawal s...\n",
      "1       [NEG] adverse drug reaction [NEG] withdrawal s...\n",
      "2       [NEG] adverse drug reaction [NEG] withdrawal s...\n",
      "3       [NEG] adverse drug reaction [NEG] withdrawal s...\n",
      "4       [NEG] adverse drug reaction [POS] withdrawal s...\n",
      "                              ...                        \n",
      "6004    [NEG] adverse drug reaction [NEG] withdrawal s...\n",
      "6005    [NEG] adverse drug reaction [NEG] withdrawal s...\n",
      "6006    [NEG] adverse drug reaction [NEG] withdrawal s...\n",
      "6007    [NEG] adverse drug reaction [NEG] withdrawal s...\n",
      "6008    [NEG] adverse drug reaction [NEG] withdrawal s...\n",
      "Name: transformed_labels, Length: 6009, dtype: object\n"
     ]
    }
   ],
   "source": [
    "## This one is just for the annotated dataset -- Task 2 Feature 3\n",
    "\n",
    "df_word_label = df\n",
    "\n",
    "df_word_label['transformed_labels'] = df_word_label.apply(transform_labels, axis=1)\n",
    "print(df_word_label['transformed_labels'])\n",
    "\n",
    "df_word_label.drop(columns=[\"id\", \"comment_id\", \"drug_id\", \"sentence_index\", \"Findings\", \"others\", \"rating\", \"category\",\"sentences\", \"ADR\", \"WD\", \"EF\", \"INF\", \"SSI\", \"DI\"], axis=1)\n",
    "df_word_label = df_word_label[['transformed_labels', 'drug_name']]\n",
    "\n",
    "# x = df_word_label['transformed_labels'].values\n",
    "# y = df_word_label['drug_name'].astype('category').cat.codes.values\n",
    "\n",
    "#Split data\n",
    "df_train, df_temp = train_test_split(df_word_label, random_state=42, test_size=0.55, shuffle=True)\n",
    "\n",
    "df_valid, df_test = train_test_split(df_temp, random_state=42, test_size=(1/11), shuffle=True)"
   ]
  },
  {
   "cell_type": "code",
   "execution_count": 1132,
   "metadata": {},
   "outputs": [
    {
     "name": "stdout",
     "output_type": "stream",
     "text": [
      "                                     transformed_labels  drug_name\n",
      "0     [POS] adverse drug reaction [NEG] withdrawal s...    lexapro\n",
      "1     [NEG] adverse drug reaction [NEG] withdrawal s...    lexapro\n",
      "2     [NEG] adverse drug reaction [NEG] withdrawal s...    lexapro\n",
      "3     [NEG] adverse drug reaction [NEG] withdrawal s...    lexapro\n",
      "4     [NEG] adverse drug reaction [POS] withdrawal s...    lexapro\n",
      "...                                                 ...        ...\n",
      "6004  [NEG] adverse drug reaction [NEG] withdrawal s...  effexorxr\n",
      "6005  [NEG] adverse drug reaction [NEG] withdrawal s...  effexorxr\n",
      "6006  [NEG] adverse drug reaction [NEG] withdrawal s...  effexorxr\n",
      "6007  [NEG] adverse drug reaction [NEG] withdrawal s...  effexorxr\n",
      "6008  [NEG] adverse drug reaction [NEG] withdrawal s...  effexorxr\n",
      "\n",
      "[6009 rows x 2 columns]\n"
     ]
    }
   ],
   "source": [
    "print(df_word_label)"
   ]
  },
  {
   "cell_type": "code",
   "execution_count": 1133,
   "metadata": {},
   "outputs": [
    {
     "name": "stdout",
     "output_type": "stream",
     "text": [
      "Train: (2704, 2), Test: (301, 2), Valid: (3004, 2)\n"
     ]
    }
   ],
   "source": [
    "print(f\"Train: {df_train.shape}, Test: {df_test.shape}, Valid: {df_valid.shape}\")"
   ]
  },
  {
   "cell_type": "code",
   "execution_count": 1134,
   "metadata": {},
   "outputs": [
    {
     "name": "stdout",
     "output_type": "stream",
     "text": [
      "['lexapro', 'zoloft', 'cymbalta', 'effexorxr']\n"
     ]
    }
   ],
   "source": [
    "print(df['drug_name'].unique().tolist())"
   ]
  },
  {
   "cell_type": "markdown",
   "metadata": {},
   "source": [
    "#### come here to change the label df['']"
   ]
  },
  {
   "cell_type": "code",
   "execution_count": 1135,
   "metadata": {},
   "outputs": [
    {
     "name": "stderr",
     "output_type": "stream",
     "text": [
      "c:\\Users\\julev\\anaconda3\\envs\\cudaEnv\\Lib\\site-packages\\huggingface_hub\\file_download.py:1132: FutureWarning: `resume_download` is deprecated and will be removed in version 1.0.0. Downloads always resume when possible. If you want to force a new download, use `force_download=True`.\n",
      "  warnings.warn(\n"
     ]
    }
   ],
   "source": [
    "tokenizer = BertTokenizer.from_pretrained('bert-base-cased')\n",
    "labels = {'lexapro':0,\n",
    "          'zoloft':1,\n",
    "          'cymbalta':2,\n",
    "          'effexorxr':3\n",
    "          }\n",
    "\n",
    "class Dataset(torch.utils.data.Dataset):\n",
    "\n",
    "    def __init__(self, df):\n",
    "\n",
    "        self.labels = [labels[label] for label in df['drug_name']]\n",
    "        self.texts = [tokenizer(text, \n",
    "                               padding='max_length', max_length = 512, truncation=True,\n",
    "                                return_tensors=\"pt\") for text in df['transformed_labels']]\n",
    "                                ## change the df[''] depending on the feature\n",
    "#transformed_sentences, sentences, transformed_labels - f1, f2, and f3\n",
    "    def classes(self):\n",
    "        return self.labels\n",
    "\n",
    "    def __len__(self):\n",
    "        return len(self.labels)\n",
    "\n",
    "    def get_batch_labels(self, idx):\n",
    "        return np.array(self.labels[idx])\n",
    "\n",
    "    def get_batch_texts(self, idx):\n",
    "        return self.texts[idx]\n",
    "\n",
    "    def __getitem__(self, idx):\n",
    "\n",
    "        batch_texts = self.get_batch_texts(idx)\n",
    "        batch_y = self.get_batch_labels(idx)\n",
    "\n",
    "        return batch_texts, batch_y"
   ]
  },
  {
   "cell_type": "code",
   "execution_count": 1136,
   "metadata": {},
   "outputs": [],
   "source": [
    "from torch import nn\n",
    "\n",
    "class BertClassifier(nn.Module):\n",
    "\n",
    "    def __init__(self, dropout=0.5):\n",
    "\n",
    "        super(BertClassifier, self).__init__()\n",
    "\n",
    "        self.bert = BertModel.from_pretrained('bert-base-cased')\n",
    "        self.dropout = nn.Dropout(dropout)\n",
    "        self.linear = nn.Linear(768, 5)\n",
    "        self.relu = nn.ReLU()\n",
    "\n",
    "    def forward(self, input_id, mask):\n",
    "\n",
    "        _, pooled_output = self.bert(input_ids= input_id, attention_mask=mask,return_dict=False)\n",
    "        dropout_output = self.dropout(pooled_output)\n",
    "        linear_output = self.linear(dropout_output)\n",
    "        final_layer = self.relu(linear_output)\n",
    "\n",
    "        return final_layer"
   ]
  },
  {
   "cell_type": "code",
   "execution_count": 1137,
   "metadata": {},
   "outputs": [],
   "source": [
    "from torch.optim import Adam\n",
    "from tqdm import tqdm"
   ]
  },
  {
   "cell_type": "code",
   "execution_count": 1138,
   "metadata": {},
   "outputs": [],
   "source": [
    "\n",
    "\n",
    "history = defaultdict(list)\n",
    "torch.cuda.empty_cache()\n",
    "# def train(model, train_data, val_data, learning_rate, epochs, model_save_path):\n",
    "\n",
    "#     train, val = Dataset(train_data), Dataset(val_data)\n",
    "\n",
    "#     train_dataloader = torch.utils.data.DataLoader(train, batch_size=2, shuffle=True)\n",
    "#     val_dataloader = torch.utils.data.DataLoader(val, batch_size=2, shuffle=True)\n",
    "\n",
    "#     use_cuda = torch.cuda.is_available()\n",
    "#     device = torch.device('cuda') if torch.cuda.is_available() else torch.device('cpu')\n",
    "\n",
    "#     criterion = nn.CrossEntropyLoss()\n",
    "#     optimizer = Adam(model.parameters(), lr=learning_rate)\n",
    "\n",
    "#     if use_cuda:\n",
    "#         model = model.cuda()\n",
    "#         criterion = criterion.cuda()\n",
    "#     best_accuracy = 0\n",
    "\n",
    "#     start_time = time.time()\n",
    "\n",
    "#     for epoch_num in range(epochs):\n",
    "\n",
    "#         total_acc_train = 0\n",
    "#         total_loss_train = 0\n",
    "\n",
    "#         for train_input, train_label in tqdm(train_dataloader):\n",
    "\n",
    "#             train_label = train_label.to(device)\n",
    "#             mask = train_input['attention_mask'].to(device)\n",
    "#             input_id = train_input['input_ids'].squeeze(1).to(device)\n",
    "\n",
    "#             output = model(input_id, mask)\n",
    "            \n",
    "#             batch_loss = criterion(output, train_label.long())\n",
    "#             total_loss_train += batch_loss.item()\n",
    "            \n",
    "#             acc = (output.argmax(dim=1) == train_label).sum().item()\n",
    "#             total_acc_train += acc\n",
    "\n",
    "#             model.zero_grad()\n",
    "#             batch_loss.backward()\n",
    "#             optimizer.step()\n",
    "        \n",
    "#         total_acc_val = 0\n",
    "#         total_loss_val = 0\n",
    "\n",
    "#         with torch.no_grad():\n",
    "\n",
    "#             for val_input, val_label in val_dataloader:\n",
    "\n",
    "#                 val_label = val_label.to(device)\n",
    "#                 mask = val_input['attention_mask'].to(device)\n",
    "#                 input_id = val_input['input_ids'].squeeze(1).to(device)\n",
    "\n",
    "#                 output = model(input_id, mask)\n",
    "\n",
    "#                 batch_loss = criterion(output, val_label.long())\n",
    "#                 total_loss_val += batch_loss.item()\n",
    "                \n",
    "#                 acc = (output.argmax(dim=1) == val_label).sum().item()\n",
    "#                 total_acc_val += acc\n",
    "        \n",
    "#         train_acc = total_acc_train / len(train_data)\n",
    "#         train_loss = total_loss_train / len(train_data)\n",
    "#         val_acc = total_acc_val / len(val_data)\n",
    "#         val_loss = total_loss_val / len(val_data)\n",
    "\n",
    "#         history['train_acc'].append(train_acc)\n",
    "#         history['train_loss'].append(train_loss)\n",
    "#         history['val_acc'].append(val_acc)\n",
    "#         history['val_loss'].append(val_loss)\n",
    "\n",
    "#         if val_acc > best_accuracy:\n",
    "#             if not os.path.exists(model_save_path):\n",
    "#                 os.makedirs(model_save_path)\n",
    "#             torch.save(model.state_dict(), os.path.join(model_save_path, 'model_state.bin'))\n",
    "#             print(f\"Model saved to {model_save_path}\")\n",
    "#             best_accuracy = val_acc\n",
    "        \n",
    "#         print(f'Epochs: {epoch_num + 1} | Train Loss: {train_loss: .3f} | Train Accuracy: {train_acc: .3f} | Val Loss: {val_loss: .3f} | Val Accuracy: {val_acc: .3f}')\n",
    "\n",
    "#     end_time = time.time()\n",
    "#     total_train_time = end_time - start_time\n",
    "\n",
    "#     print(f\"Total training time: {total_train_time:.2f} seconds\")\n",
    "#     torch.cuda.empty_cache()\n",
    "#     return history\n",
    "\n",
    "EPOCHS = 15\n",
    "model = BertClassifier()\n",
    "LR = 1e-6\n",
    "# model_save_path = './model2_task2_feature1_model(unfrozen)'\n",
    "\n",
    "# train(model, df_train, df_valid, LR, EPOCHS, model_save_path)\n",
    "# torch.cuda.empty_cache()"
   ]
  },
  {
   "cell_type": "code",
   "execution_count": 1139,
   "metadata": {},
   "outputs": [],
   "source": [
    "import matplotlib.pyplot as plt\n",
    "\n",
    "# plt.rcParams[\"figure.figsize\"] = (10,7)\n",
    "# plt.plot(history['train_acc'], label='train accuracy')\n",
    "# plt.plot(history['val_acc'], label='validation accuracy')\n",
    "# plt.title('Training history')\n",
    "# plt.ylabel('Accuracy')\n",
    "# plt.xlabel('Epoch')\n",
    "# plt.legend()\n",
    "# plt.ylim([0, 1])\n",
    "# plt.grid()"
   ]
  },
  {
   "cell_type": "markdown",
   "metadata": {},
   "source": [
    "#### Load models"
   ]
  },
  {
   "cell_type": "code",
   "execution_count": 1140,
   "metadata": {},
   "outputs": [],
   "source": [
    "# feature 1 model\n",
    "# model_load_path = './model2_task2_feature1_model(unfrozen)'\n",
    "# model_save_path = model_load_path\n",
    "# model = BertClassifier()\n",
    "# model.load_state_dict(torch.load(os.path.join(model_load_path, 'model_state.bin')))\n",
    "# model = model.to(device)\n",
    "\n",
    "# # # feature 2 model\n",
    "# model_load_path = './model2_task2_feature2_model(unfrozen)'\n",
    "# model_save_path = model_load_path\n",
    "# model = BertClassifier()\n",
    "# model.load_state_dict(torch.load(os.path.join(model_load_path, 'model_state.bin')))\n",
    "# model = model.to(device)\n",
    "\n",
    "# feature 3 model\n",
    "model_load_path = './model2_task2_feature3_model(unfrozen)'\n",
    "model_save_path = model_load_path\n",
    "model = BertClassifier()\n",
    "model.load_state_dict(torch.load(os.path.join(model_load_path, 'model_state.bin')))\n",
    "model = model.to(device)"
   ]
  },
  {
   "cell_type": "code",
   "execution_count": 1141,
   "metadata": {},
   "outputs": [],
   "source": [
    "test_data_loader = torch.utils.data.DataLoader(df_test, batch_size=8, shuffle=False)"
   ]
  },
  {
   "cell_type": "code",
   "execution_count": 1142,
   "metadata": {},
   "outputs": [
    {
     "name": "stderr",
     "output_type": "stream",
     "text": [
      "Evaluating: 100%|██████████| 151/151 [00:04<00:00, 30.95it/s]"
     ]
    },
    {
     "name": "stdout",
     "output_type": "stream",
     "text": [
      "Test Loss: 1.377 | Test Accuracy: 0.322\n"
     ]
    },
    {
     "name": "stderr",
     "output_type": "stream",
     "text": [
      "\n"
     ]
    }
   ],
   "source": [
    "torch.cuda.empty_cache()\n",
    "def evaluate(model, test_data):\n",
    "    test = Dataset(test_data)\n",
    "    test_dataloader = torch.utils.data.DataLoader(test, batch_size=2)\n",
    "\n",
    "    use_cuda = torch.cuda.is_available()\n",
    "    device = torch.device(\"cuda\" if use_cuda else \"cpu\")\n",
    "\n",
    "    if use_cuda:\n",
    "        model = model.cuda()\n",
    "\n",
    "    criterion = nn.CrossEntropyLoss()\n",
    "    total_acc_test = 0\n",
    "    total_loss_test = 0\n",
    "    model.eval()\n",
    "\n",
    "    with torch.no_grad():\n",
    "        for test_input, test_label in tqdm(test_dataloader, desc=\"Evaluating\"):\n",
    "            test_label = test_label.to(device, dtype=torch.long)\n",
    "            mask = test_input['attention_mask'].to(device)\n",
    "            input_id = test_input['input_ids'].squeeze(1).to(device)\n",
    "\n",
    "            output = model(input_id, mask)\n",
    "\n",
    "            loss = criterion(output, test_label)\n",
    "            total_loss_test += loss.item()\n",
    "\n",
    "            acc = (output.argmax(dim=1) == test_label).sum().item()\n",
    "            total_acc_test += acc\n",
    "\n",
    "    avg_loss_test = total_loss_test / len(test_dataloader)\n",
    "    avg_acc_test = total_acc_test / len(test_data)\n",
    "\n",
    "    print(f'Test Loss: {avg_loss_test:.3f} | Test Accuracy: {avg_acc_test:.3f}')\n",
    "evaluate(model, df_test)\n",
    "\n",
    "# labels = {'lexapro':0,\n",
    "#           'zoloft':1,\n",
    "#           'cymbalta':2,\n",
    "#           'effexorxr':3\n",
    "#           }"
   ]
  },
  {
   "cell_type": "code",
   "execution_count": 1143,
   "metadata": {},
   "outputs": [
    {
     "name": "stderr",
     "output_type": "stream",
     "text": [
      "100%|██████████| 151/151 [00:04<00:00, 32.88it/s]"
     ]
    },
    {
     "name": "stdout",
     "output_type": "stream",
     "text": [
      "              precision    recall  f1-score   support\n",
      "\n",
      "           0       0.27      0.64      0.38        72\n",
      "           1       0.00      0.00      0.00        63\n",
      "           2       0.33      0.45      0.38        84\n",
      "           3       0.72      0.16      0.26        82\n",
      "\n",
      "    accuracy                           0.32       301\n",
      "   macro avg       0.33      0.31      0.26       301\n",
      "weighted avg       0.35      0.32      0.27       301\n",
      "\n"
     ]
    },
    {
     "name": "stderr",
     "output_type": "stream",
     "text": [
      "\n",
      "c:\\Users\\julev\\anaconda3\\envs\\cudaEnv\\Lib\\site-packages\\sklearn\\metrics\\_classification.py:1509: UndefinedMetricWarning: Precision is ill-defined and being set to 0.0 in labels with no predicted samples. Use `zero_division` parameter to control this behavior.\n",
      "  _warn_prf(average, modifier, f\"{metric.capitalize()} is\", len(result))\n",
      "c:\\Users\\julev\\anaconda3\\envs\\cudaEnv\\Lib\\site-packages\\sklearn\\metrics\\_classification.py:1509: UndefinedMetricWarning: Precision is ill-defined and being set to 0.0 in labels with no predicted samples. Use `zero_division` parameter to control this behavior.\n",
      "  _warn_prf(average, modifier, f\"{metric.capitalize()} is\", len(result))\n",
      "c:\\Users\\julev\\anaconda3\\envs\\cudaEnv\\Lib\\site-packages\\sklearn\\metrics\\_classification.py:1509: UndefinedMetricWarning: Precision is ill-defined and being set to 0.0 in labels with no predicted samples. Use `zero_division` parameter to control this behavior.\n",
      "  _warn_prf(average, modifier, f\"{metric.capitalize()} is\", len(result))\n"
     ]
    }
   ],
   "source": [
    "from torch.utils.data import DataLoader\n",
    "\n",
    "def get_prediction(model, dataloader):\n",
    "    use_cuda = torch.cuda.is_available()\n",
    "    device = torch.device('cuda') if use_cuda else torch.device('cpu')\n",
    "\n",
    "    if use_cuda:\n",
    "        model = model.cuda()\n",
    "\n",
    "    model.eval()\n",
    "\n",
    "    predictions = []\n",
    "    true_labels = []\n",
    "\n",
    "    with torch.no_grad():\n",
    "        for data_input, data_label in tqdm(dataloader):\n",
    "            data_label = data_label.to(device)\n",
    "            mask = data_input['attention_mask'].squeeze(1).to(device)\n",
    "            input_id = data_input['input_ids'].squeeze(1).to(device)\n",
    "\n",
    "            output = model(input_id, mask)\n",
    "            preds = output.argmax(dim=1)\n",
    "\n",
    "            predictions.extend(preds.cpu().numpy())\n",
    "            true_labels.extend(data_label.cpu().numpy())\n",
    "\n",
    "    # Convert lists to numpy arrays\n",
    "    predictions = np.array(predictions)\n",
    "    true_labels = np.array(true_labels)\n",
    "\n",
    "    return predictions, true_labels\n",
    "\n",
    "test_dataset = Dataset(df_test)\n",
    "test_dataloader = DataLoader(test_dataset, batch_size=2, shuffle=False)\n",
    "\n",
    "model.load_state_dict(torch.load(os.path.join(model_save_path, 'model_state.bin')))\n",
    "\n",
    "predictions, true_labels = get_prediction(model, test_dataloader)\n",
    "\n",
    "from sklearn.metrics import classification_report\n",
    "\n",
    "print(classification_report(true_labels, predictions))"
   ]
  },
  {
   "cell_type": "markdown",
   "metadata": {},
   "source": [
    "#### Come here to change prediction variables"
   ]
  },
  {
   "cell_type": "code",
   "execution_count": 1154,
   "metadata": {},
   "outputs": [
    {
     "name": "stdout",
     "output_type": "stream",
     "text": [
      "['lexapro' 'cymbalta' 'lexapro' 'lexapro' 'cymbalta' 'cymbalta' 'lexapro'\n",
      " 'cymbalta' 'cymbalta' 'lexapro' 'cymbalta' 'lexapro' 'lexapro'\n",
      " 'effexorxr' 'lexapro' 'lexapro' 'lexapro' 'cymbalta' 'cymbalta'\n",
      " 'cymbalta' 'lexapro' 'lexapro' 'cymbalta' 'cymbalta' 'lexapro' 'lexapro'\n",
      " 'cymbalta' 'cymbalta' 'cymbalta' 'lexapro' 'lexapro' 'lexapro' 'cymbalta'\n",
      " 'lexapro' 'lexapro' 'cymbalta' 'cymbalta' 'lexapro' 'lexapro' 'lexapro'\n",
      " 'lexapro' 'lexapro' 'cymbalta' 'lexapro' 'lexapro' 'cymbalta' 'cymbalta'\n",
      " 'lexapro' 'lexapro' 'lexapro' 'lexapro' 'lexapro' 'lexapro' 'effexorxr'\n",
      " 'lexapro' 'cymbalta' 'lexapro' 'lexapro' 'lexapro' 'cymbalta' 'lexapro'\n",
      " 'cymbalta' 'cymbalta' 'lexapro' 'lexapro' 'cymbalta' 'effexorxr'\n",
      " 'lexapro' 'lexapro' 'cymbalta' 'lexapro' 'effexorxr' 'lexapro' 'lexapro'\n",
      " 'lexapro' 'cymbalta' 'lexapro' 'lexapro' 'cymbalta' 'cymbalta' 'lexapro'\n",
      " 'cymbalta' 'lexapro' 'lexapro' 'cymbalta' 'lexapro' 'cymbalta' 'cymbalta'\n",
      " 'cymbalta' 'lexapro' 'cymbalta' 'lexapro' 'lexapro' 'lexapro' 'cymbalta'\n",
      " 'lexapro' 'cymbalta' 'lexapro' 'lexapro' 'cymbalta' 'lexapro' 'lexapro'\n",
      " 'cymbalta' 'cymbalta' 'lexapro' 'lexapro' 'lexapro' 'lexapro' 'cymbalta'\n",
      " 'lexapro' 'lexapro' 'lexapro' 'lexapro' 'cymbalta' 'lexapro' 'cymbalta'\n",
      " 'lexapro' 'lexapro' 'lexapro' 'cymbalta' 'lexapro' 'cymbalta' 'lexapro'\n",
      " 'effexorxr' 'lexapro' 'cymbalta' 'cymbalta' 'lexapro' 'lexapro'\n",
      " 'cymbalta' 'lexapro' 'lexapro' 'lexapro' 'lexapro' 'cymbalta' 'cymbalta'\n",
      " 'lexapro' 'cymbalta' 'cymbalta' 'lexapro' 'lexapro' 'lexapro' 'lexapro'\n",
      " 'cymbalta' 'lexapro' 'cymbalta' 'effexorxr' 'lexapro' 'lexapro' 'lexapro'\n",
      " 'cymbalta' 'lexapro' 'lexapro' 'cymbalta' 'cymbalta' 'lexapro' 'lexapro'\n",
      " 'lexapro' 'cymbalta' 'cymbalta' 'cymbalta' 'cymbalta' 'cymbalta'\n",
      " 'cymbalta' 'cymbalta' 'effexorxr' 'cymbalta' 'lexapro' 'lexapro'\n",
      " 'cymbalta' 'lexapro' 'cymbalta' 'cymbalta' 'lexapro' 'lexapro' 'lexapro'\n",
      " 'cymbalta' 'lexapro' 'effexorxr' 'lexapro' 'lexapro' 'lexapro' 'lexapro'\n",
      " 'cymbalta' 'cymbalta' 'cymbalta' 'lexapro' 'cymbalta' 'lexapro'\n",
      " 'cymbalta' 'lexapro' 'lexapro' 'cymbalta' 'effexorxr' 'cymbalta'\n",
      " 'lexapro' 'cymbalta' 'cymbalta' 'lexapro' 'cymbalta' 'cymbalta' 'lexapro'\n",
      " 'effexorxr' 'lexapro' 'cymbalta' 'effexorxr' 'cymbalta' 'lexapro'\n",
      " 'lexapro' 'lexapro' 'cymbalta' 'lexapro' 'lexapro' 'lexapro' 'cymbalta'\n",
      " 'lexapro' 'lexapro' 'lexapro' 'cymbalta' 'lexapro' 'cymbalta' 'cymbalta'\n",
      " 'cymbalta' 'lexapro' 'lexapro' 'lexapro' 'cymbalta' 'effexorxr'\n",
      " 'cymbalta' 'cymbalta' 'cymbalta' 'effexorxr' 'lexapro' 'lexapro'\n",
      " 'lexapro' 'lexapro' 'cymbalta' 'cymbalta' 'lexapro' 'lexapro' 'cymbalta'\n",
      " 'lexapro' 'lexapro' 'effexorxr' 'lexapro' 'lexapro' 'cymbalta' 'lexapro'\n",
      " 'cymbalta' 'cymbalta' 'lexapro' 'cymbalta' 'cymbalta' 'cymbalta'\n",
      " 'lexapro' 'lexapro' 'cymbalta' 'lexapro' 'cymbalta' 'lexapro' 'cymbalta'\n",
      " 'lexapro' 'lexapro' 'cymbalta' 'lexapro' 'lexapro' 'cymbalta' 'lexapro'\n",
      " 'lexapro' 'effexorxr' 'cymbalta' 'effexorxr' 'lexapro' 'lexapro'\n",
      " 'lexapro' 'lexapro' 'cymbalta' 'cymbalta' 'cymbalta' 'lexapro'\n",
      " 'effexorxr' 'lexapro' 'lexapro' 'lexapro' 'lexapro' 'cymbalta' 'lexapro'\n",
      " 'effexorxr' 'cymbalta' 'lexapro' 'lexapro' 'cymbalta' 'lexapro' 'lexapro'\n",
      " 'cymbalta' 'lexapro' 'lexapro' 'lexapro' 'lexapro' 'cymbalta' 'lexapro']\n"
     ]
    }
   ],
   "source": [
    "# labels = {'lexapro':0,\n",
    "#           'zoloft':1,\n",
    "#           'cymbalta':2,\n",
    "#           'effexorxr':3\n",
    "#           }\n",
    "\n",
    "reverse_labels = {v: k for k, v in labels.items()}\n",
    "\n",
    "vectorized_reverse_labels = np.vectorize(reverse_labels.get)\n",
    "label_predictions = np.array(vectorized_reverse_labels(predictions))\n",
    "\n",
    "print(label_predictions)\n",
    "\n",
    "### adjust and comment out the predictions depending on what feature you are using\n",
    "######################\n",
    "# task_2_transformer_f1 = label_predictions\n",
    "\n",
    "# task_2_transformer_f2  = label_predictions\n",
    "\n",
    "# task_2_transformer_f3  = label_predictions\n",
    "######################"
   ]
  },
  {
   "cell_type": "code",
   "execution_count": 1155,
   "metadata": {},
   "outputs": [
    {
     "name": "stdout",
     "output_type": "stream",
     "text": [
      "['zoloft' 'effexorxr' 'effexorxr' 'zoloft' 'effexorxr' 'zoloft'\n",
      " 'effexorxr' 'effexorxr' 'effexorxr' 'lexapro' 'lexapro' 'lexapro'\n",
      " 'lexapro' 'effexorxr' 'cymbalta' 'effexorxr' 'cymbalta' 'cymbalta'\n",
      " 'cymbalta' 'zoloft' 'cymbalta' 'zoloft' 'cymbalta' 'cymbalta' 'lexapro'\n",
      " 'effexorxr' 'zoloft' 'cymbalta' 'cymbalta' 'cymbalta' 'cymbalta'\n",
      " 'lexapro' 'lexapro' 'zoloft' 'lexapro' 'effexorxr' 'lexapro' 'zoloft'\n",
      " 'zoloft' 'effexorxr' 'cymbalta' 'effexorxr' 'lexapro' 'cymbalta'\n",
      " 'lexapro' 'effexorxr' 'cymbalta' 'lexapro' 'cymbalta' 'cymbalta'\n",
      " 'lexapro' 'lexapro' 'lexapro' 'cymbalta' 'lexapro' 'zoloft' 'lexapro'\n",
      " 'effexorxr' 'cymbalta' 'effexorxr' 'zoloft' 'cymbalta' 'effexorxr'\n",
      " 'zoloft' 'lexapro' 'cymbalta' 'cymbalta' 'effexorxr' 'lexapro'\n",
      " 'effexorxr' 'lexapro' 'effexorxr' 'effexorxr' 'lexapro' 'zoloft'\n",
      " 'effexorxr' 'zoloft' 'zoloft' 'effexorxr' 'zoloft' 'cymbalta' 'cymbalta'\n",
      " 'cymbalta' 'effexorxr' 'effexorxr' 'cymbalta' 'effexorxr' 'cymbalta'\n",
      " 'zoloft' 'zoloft' 'effexorxr' 'effexorxr' 'cymbalta' 'cymbalta'\n",
      " 'effexorxr' 'lexapro' 'zoloft' 'effexorxr' 'effexorxr' 'effexorxr'\n",
      " 'lexapro' 'lexapro' 'cymbalta' 'cymbalta' 'zoloft' 'cymbalta' 'lexapro'\n",
      " 'lexapro' 'cymbalta' 'effexorxr' 'cymbalta' 'effexorxr' 'lexapro'\n",
      " 'effexorxr' 'lexapro' 'zoloft' 'effexorxr' 'zoloft' 'lexapro' 'zoloft'\n",
      " 'zoloft' 'cymbalta' 'cymbalta' 'effexorxr' 'lexapro' 'lexapro' 'lexapro'\n",
      " 'effexorxr' 'cymbalta' 'lexapro' 'cymbalta' 'zoloft' 'effexorxr'\n",
      " 'lexapro' 'cymbalta' 'cymbalta' 'cymbalta' 'cymbalta' 'lexapro'\n",
      " 'effexorxr' 'lexapro' 'effexorxr' 'zoloft' 'lexapro' 'lexapro' 'lexapro'\n",
      " 'effexorxr' 'effexorxr' 'effexorxr' 'lexapro' 'lexapro' 'effexorxr'\n",
      " 'cymbalta' 'cymbalta' 'effexorxr' 'cymbalta' 'zoloft' 'lexapro' 'lexapro'\n",
      " 'cymbalta' 'zoloft' 'lexapro' 'effexorxr' 'cymbalta' 'zoloft' 'effexorxr'\n",
      " 'lexapro' 'cymbalta' 'lexapro' 'lexapro' 'zoloft' 'effexorxr' 'zoloft'\n",
      " 'cymbalta' 'zoloft' 'zoloft' 'effexorxr' 'cymbalta' 'lexapro' 'lexapro'\n",
      " 'cymbalta' 'cymbalta' 'zoloft' 'cymbalta' 'cymbalta' 'cymbalta'\n",
      " 'cymbalta' 'cymbalta' 'cymbalta' 'cymbalta' 'zoloft' 'effexorxr'\n",
      " 'effexorxr' 'effexorxr' 'cymbalta' 'effexorxr' 'zoloft' 'lexapro'\n",
      " 'lexapro' 'cymbalta' 'effexorxr' 'cymbalta' 'effexorxr' 'effexorxr'\n",
      " 'zoloft' 'effexorxr' 'lexapro' 'lexapro' 'lexapro' 'effexorxr'\n",
      " 'effexorxr' 'zoloft' 'lexapro' 'cymbalta' 'zoloft' 'effexorxr' 'lexapro'\n",
      " 'effexorxr' 'cymbalta' 'cymbalta' 'lexapro' 'effexorxr' 'cymbalta'\n",
      " 'zoloft' 'effexorxr' 'lexapro' 'lexapro' 'zoloft' 'lexapro' 'effexorxr'\n",
      " 'lexapro' 'effexorxr' 'cymbalta' 'zoloft' 'effexorxr' 'zoloft'\n",
      " 'effexorxr' 'lexapro' 'lexapro' 'cymbalta' 'cymbalta' 'zoloft' 'lexapro'\n",
      " 'effexorxr' 'effexorxr' 'effexorxr' 'cymbalta' 'zoloft' 'cymbalta'\n",
      " 'lexapro' 'cymbalta' 'zoloft' 'zoloft' 'cymbalta' 'effexorxr' 'effexorxr'\n",
      " 'zoloft' 'zoloft' 'effexorxr' 'zoloft' 'cymbalta' 'effexorxr' 'lexapro'\n",
      " 'cymbalta' 'zoloft' 'cymbalta' 'zoloft' 'cymbalta' 'cymbalta' 'effexorxr'\n",
      " 'zoloft' 'effexorxr' 'zoloft' 'cymbalta' 'effexorxr' 'zoloft' 'zoloft'\n",
      " 'cymbalta' 'lexapro' 'effexorxr' 'effexorxr' 'cymbalta' 'lexapro'\n",
      " 'cymbalta' 'cymbalta' 'effexorxr' 'effexorxr' 'cymbalta' 'lexapro'\n",
      " 'zoloft' 'zoloft' 'effexorxr' 'lexapro' 'lexapro' 'zoloft' 'zoloft'\n",
      " 'zoloft' 'zoloft' 'zoloft' 'cymbalta' 'lexapro']\n"
     ]
    }
   ],
   "source": [
    "true_numpy_labels=np.array(df_test['drug_name'].to_numpy())\n",
    "print(true_numpy_labels)"
   ]
  },
  {
   "cell_type": "code",
   "execution_count": 1156,
   "metadata": {},
   "outputs": [
    {
     "name": "stdout",
     "output_type": "stream",
     "text": [
      "Confusion matrix for class 'lexapro':\n",
      "[[238   0]\n",
      " [ 63   0]]\n",
      "\n",
      "              precision    recall  f1-score   support\n",
      "\n",
      "   lexapro_0       0.79      1.00      0.88       238\n",
      "   lexapro_1       0.00      0.00      0.00        63\n",
      "\n",
      "    accuracy                           0.79       301\n",
      "   macro avg       0.40      0.50      0.44       301\n",
      "weighted avg       0.63      0.79      0.70       301\n",
      "\n",
      "Confusion matrix for class 'zoloft':\n",
      "[[214   5]\n",
      " [ 69  13]]\n",
      "\n",
      "              precision    recall  f1-score   support\n",
      "\n",
      "    zoloft_0       0.76      0.98      0.85       219\n",
      "    zoloft_1       0.72      0.16      0.26        82\n",
      "\n",
      "    accuracy                           0.75       301\n",
      "   macro avg       0.74      0.57      0.56       301\n",
      "weighted avg       0.75      0.75      0.69       301\n",
      "\n",
      "Confusion matrix for class 'cymbalta':\n",
      "[[107 122]\n",
      " [ 26  46]]\n",
      "\n",
      "              precision    recall  f1-score   support\n",
      "\n",
      "  cymbalta_0       0.80      0.47      0.59       229\n",
      "  cymbalta_1       0.27      0.64      0.38        72\n",
      "\n",
      "    accuracy                           0.51       301\n",
      "   macro avg       0.54      0.55      0.49       301\n",
      "weighted avg       0.68      0.51      0.54       301\n",
      "\n",
      "Confusion matrix for class 'effexorxr':\n",
      "[[140  77]\n",
      " [ 46  38]]\n",
      "\n",
      "              precision    recall  f1-score   support\n",
      "\n",
      " effexorxr_0       0.75      0.65      0.69       217\n",
      " effexorxr_1       0.33      0.45      0.38        84\n",
      "\n",
      "    accuracy                           0.59       301\n",
      "   macro avg       0.54      0.55      0.54       301\n",
      "weighted avg       0.63      0.59      0.61       301\n",
      "\n"
     ]
    },
    {
     "name": "stderr",
     "output_type": "stream",
     "text": [
      "c:\\Users\\julev\\anaconda3\\envs\\cudaEnv\\Lib\\site-packages\\sklearn\\metrics\\_classification.py:1509: UndefinedMetricWarning: Precision is ill-defined and being set to 0.0 in labels with no predicted samples. Use `zero_division` parameter to control this behavior.\n",
      "  _warn_prf(average, modifier, f\"{metric.capitalize()} is\", len(result))\n",
      "c:\\Users\\julev\\anaconda3\\envs\\cudaEnv\\Lib\\site-packages\\sklearn\\metrics\\_classification.py:1509: UndefinedMetricWarning: Precision is ill-defined and being set to 0.0 in labels with no predicted samples. Use `zero_division` parameter to control this behavior.\n",
      "  _warn_prf(average, modifier, f\"{metric.capitalize()} is\", len(result))\n",
      "c:\\Users\\julev\\anaconda3\\envs\\cudaEnv\\Lib\\site-packages\\sklearn\\metrics\\_classification.py:1509: UndefinedMetricWarning: Precision is ill-defined and being set to 0.0 in labels with no predicted samples. Use `zero_division` parameter to control this behavior.\n",
      "  _warn_prf(average, modifier, f\"{metric.capitalize()} is\", len(result))\n"
     ]
    }
   ],
   "source": [
    "from sklearn.metrics import multilabel_confusion_matrix\n",
    "from sklearn.preprocessing import MultiLabelBinarizer\n",
    "text_labels = [\"zoloft\", \"effexorxr\", \"lexapro\", \"cymbalta\"]\n",
    "\n",
    "mlb = MultiLabelBinarizer(classes=text_labels)\n",
    "true_binary_labels = mlb.fit_transform([[label] for label in true_numpy_labels])\n",
    "pred_binary_labels = mlb.transform([[label] for label in label_predictions])\n",
    "\n",
    "# Compute multilabel confusion matrix for all classes\n",
    "confusion_matrices = multilabel_confusion_matrix(true_binary_labels, pred_binary_labels)\n",
    "# print(confusion_matrices)\n",
    "\n",
    "# Iterate over each class\n",
    "for idx, class_name in enumerate(labels):\n",
    "    # Get the confusion matrix for the current class\n",
    "    cm = confusion_matrices[idx]\n",
    "    print(f\"Confusion matrix for class '{class_name}':\\n{cm}\\n\")\n",
    "    \n",
    "    # Generate classification report for the current class\n",
    "    report = classification_report(true_binary_labels[:, idx], pred_binary_labels[:, idx],\n",
    "                                   target_names=[f'{class_name}_0', f'{class_name}_1'])\n",
    "    print(report)"
   ]
  },
  {
   "cell_type": "code",
   "execution_count": 1157,
   "metadata": {},
   "outputs": [],
   "source": [
    "from sklearn.metrics import confusion_matrix\n",
    "\n",
    "all_confusion_matrix=confusion_matrix(np.array(true_numpy_labels), np.array(label_predictions))"
   ]
  },
  {
   "cell_type": "code",
   "execution_count": 1158,
   "metadata": {},
   "outputs": [
    {
     "name": "stdout",
     "output_type": "stream",
     "text": [
      "[[38  3 43  0]\n",
      " [30 13 39  0]\n",
      " [25  1 46  0]\n",
      " [22  1 40  0]]\n"
     ]
    },
    {
     "data": {
      "image/png": "[encoded data removed]",
      "text/plain": [
       "<Figure size 800x600 with 2 Axes>"
      ]
     },
     "metadata": {},
     "output_type": "display_data"
    }
   ],
   "source": [
    "import matplotlib.pyplot as plt\n",
    "import seaborn as sns\n",
    "\n",
    "print(all_confusion_matrix)\n",
    "\n",
    "plt.figure(figsize=(8, 6))\n",
    "sns.heatmap(all_confusion_matrix, annot=True, fmt='d', cmap='Blues', xticklabels=np.unique(true_numpy_labels), yticklabels=np.unique(true_numpy_labels))\n",
    "plt.xlabel('Predicted Labels')\n",
    "plt.ylabel('True Labels')\n",
    "plt.title('Confusion Matrix')\n",
    "plt.show()"
   ]
  },
  {
   "cell_type": "markdown",
   "metadata": {},
   "source": [
    "### Statistical Tests"
   ]
  },
  {
   "cell_type": "code",
   "execution_count": 1159,
   "metadata": {},
   "outputs": [
    {
     "name": "stdout",
     "output_type": "stream",
     "text": [
      "['zoloft' 'effexorxr' 'effexorxr' 'zoloft' 'effexorxr' 'zoloft'\n",
      " 'effexorxr' 'effexorxr' 'effexorxr' 'lexapro' 'lexapro' 'lexapro'\n",
      " 'lexapro' 'effexorxr' 'cymbalta' 'effexorxr' 'cymbalta' 'cymbalta'\n",
      " 'cymbalta' 'zoloft' 'cymbalta' 'zoloft' 'cymbalta' 'cymbalta' 'lexapro'\n",
      " 'effexorxr' 'zoloft' 'cymbalta' 'cymbalta' 'cymbalta' 'cymbalta'\n",
      " 'lexapro' 'lexapro' 'zoloft' 'lexapro' 'effexorxr' 'lexapro' 'zoloft'\n",
      " 'zoloft' 'effexorxr' 'cymbalta' 'effexorxr' 'lexapro' 'cymbalta'\n",
      " 'lexapro' 'effexorxr' 'cymbalta' 'lexapro' 'cymbalta' 'cymbalta'\n",
      " 'lexapro' 'lexapro' 'lexapro' 'cymbalta' 'lexapro' 'zoloft' 'lexapro'\n",
      " 'effexorxr' 'cymbalta' 'effexorxr' 'zoloft' 'cymbalta' 'effexorxr'\n",
      " 'zoloft' 'lexapro' 'cymbalta' 'cymbalta' 'effexorxr' 'lexapro'\n",
      " 'effexorxr' 'lexapro' 'effexorxr' 'effexorxr' 'lexapro' 'zoloft'\n",
      " 'effexorxr' 'zoloft' 'zoloft' 'effexorxr' 'zoloft' 'cymbalta' 'cymbalta'\n",
      " 'cymbalta' 'effexorxr' 'effexorxr' 'cymbalta' 'effexorxr' 'cymbalta'\n",
      " 'zoloft' 'zoloft' 'effexorxr' 'effexorxr' 'cymbalta' 'cymbalta'\n",
      " 'effexorxr' 'lexapro' 'zoloft' 'effexorxr' 'effexorxr' 'effexorxr'\n",
      " 'lexapro' 'lexapro' 'cymbalta' 'cymbalta' 'zoloft' 'cymbalta' 'lexapro'\n",
      " 'lexapro' 'cymbalta' 'effexorxr' 'cymbalta' 'effexorxr' 'lexapro'\n",
      " 'effexorxr' 'lexapro' 'zoloft' 'effexorxr' 'zoloft' 'lexapro' 'zoloft'\n",
      " 'zoloft' 'cymbalta' 'cymbalta' 'effexorxr' 'lexapro' 'lexapro' 'lexapro'\n",
      " 'effexorxr' 'cymbalta' 'lexapro' 'cymbalta' 'zoloft' 'effexorxr'\n",
      " 'lexapro' 'cymbalta' 'cymbalta' 'cymbalta' 'cymbalta' 'lexapro'\n",
      " 'effexorxr' 'lexapro' 'effexorxr' 'zoloft' 'lexapro' 'lexapro' 'lexapro'\n",
      " 'effexorxr' 'effexorxr' 'effexorxr' 'lexapro' 'lexapro' 'effexorxr'\n",
      " 'cymbalta' 'cymbalta' 'effexorxr' 'cymbalta' 'zoloft' 'lexapro' 'lexapro'\n",
      " 'cymbalta' 'zoloft' 'lexapro' 'effexorxr' 'cymbalta' 'zoloft' 'effexorxr'\n",
      " 'lexapro' 'cymbalta' 'lexapro' 'lexapro' 'zoloft' 'effexorxr' 'zoloft'\n",
      " 'cymbalta' 'zoloft' 'zoloft' 'effexorxr' 'cymbalta' 'lexapro' 'lexapro'\n",
      " 'cymbalta' 'cymbalta' 'zoloft' 'cymbalta' 'cymbalta' 'cymbalta'\n",
      " 'cymbalta' 'cymbalta' 'cymbalta' 'cymbalta' 'zoloft' 'effexorxr'\n",
      " 'effexorxr' 'effexorxr' 'cymbalta' 'effexorxr' 'zoloft' 'lexapro'\n",
      " 'lexapro' 'cymbalta' 'effexorxr' 'cymbalta' 'effexorxr' 'effexorxr'\n",
      " 'zoloft' 'effexorxr' 'lexapro' 'lexapro' 'lexapro' 'effexorxr'\n",
      " 'effexorxr' 'zoloft' 'lexapro' 'cymbalta' 'zoloft' 'effexorxr' 'lexapro'\n",
      " 'effexorxr' 'cymbalta' 'cymbalta' 'lexapro' 'effexorxr' 'cymbalta'\n",
      " 'zoloft' 'effexorxr' 'lexapro' 'lexapro' 'zoloft' 'lexapro' 'effexorxr'\n",
      " 'lexapro' 'effexorxr' 'cymbalta' 'zoloft' 'effexorxr' 'zoloft'\n",
      " 'effexorxr' 'lexapro' 'lexapro' 'cymbalta' 'cymbalta' 'zoloft' 'lexapro'\n",
      " 'effexorxr' 'effexorxr' 'effexorxr' 'cymbalta' 'zoloft' 'cymbalta'\n",
      " 'lexapro' 'cymbalta' 'zoloft' 'zoloft' 'cymbalta' 'effexorxr' 'effexorxr'\n",
      " 'zoloft' 'zoloft' 'effexorxr' 'zoloft' 'cymbalta' 'effexorxr' 'lexapro'\n",
      " 'cymbalta' 'zoloft' 'cymbalta' 'zoloft' 'cymbalta' 'cymbalta' 'effexorxr'\n",
      " 'zoloft' 'effexorxr' 'zoloft' 'cymbalta' 'effexorxr' 'zoloft' 'zoloft'\n",
      " 'cymbalta' 'lexapro' 'effexorxr' 'effexorxr' 'cymbalta' 'lexapro'\n",
      " 'cymbalta' 'cymbalta' 'effexorxr' 'effexorxr' 'cymbalta' 'lexapro'\n",
      " 'zoloft' 'zoloft' 'effexorxr' 'lexapro' 'lexapro' 'zoloft' 'zoloft'\n",
      " 'zoloft' 'zoloft' 'zoloft' 'cymbalta' 'lexapro']\n",
      "['cymbalta' 'zoloft' 'zoloft' 'cymbalta' 'zoloft' 'cymbalta' 'zoloft'\n",
      " 'cymbalta' 'zoloft' 'zoloft' 'zoloft' 'cymbalta' 'cymbalta' 'zoloft'\n",
      " 'cymbalta' 'cymbalta' 'zoloft' 'zoloft' 'zoloft' 'zoloft' 'lexapro'\n",
      " 'lexapro' 'zoloft' 'zoloft' 'cymbalta' 'lexapro' 'zoloft' 'zoloft'\n",
      " 'zoloft' 'zoloft' 'lexapro' 'zoloft' 'zoloft' 'cymbalta' 'cymbalta'\n",
      " 'cymbalta' 'cymbalta' 'cymbalta' 'zoloft' 'cymbalta' 'zoloft' 'zoloft'\n",
      " 'zoloft' 'zoloft' 'zoloft' 'zoloft' 'zoloft' 'cymbalta' 'lexapro'\n",
      " 'zoloft' 'zoloft' 'cymbalta' 'cymbalta' 'cymbalta' 'cymbalta' 'zoloft'\n",
      " 'zoloft' 'zoloft' 'cymbalta' 'lexapro' 'cymbalta' 'cymbalta' 'cymbalta'\n",
      " 'zoloft' 'lexapro' 'cymbalta' 'lexapro' 'cymbalta' 'cymbalta' 'cymbalta'\n",
      " 'cymbalta' 'lexapro' 'cymbalta' 'cymbalta' 'lexapro' 'zoloft' 'lexapro'\n",
      " 'zoloft' 'zoloft' 'zoloft' 'cymbalta' 'zoloft' 'cymbalta' 'cymbalta'\n",
      " 'cymbalta' 'zoloft' 'zoloft' 'zoloft' 'zoloft' 'zoloft' 'lexapro'\n",
      " 'zoloft' 'cymbalta' 'zoloft' 'cymbalta' 'cymbalta' 'cymbalta' 'zoloft'\n",
      " 'cymbalta' 'cymbalta' 'cymbalta' 'cymbalta' 'lexapro' 'lexapro'\n",
      " 'cymbalta' 'zoloft' 'zoloft' 'zoloft' 'zoloft' 'zoloft' 'cymbalta'\n",
      " 'cymbalta' 'cymbalta' 'zoloft' 'cymbalta' 'zoloft' 'zoloft' 'lexapro'\n",
      " 'zoloft' 'zoloft' 'zoloft' 'zoloft' 'cymbalta' 'zoloft' 'zoloft'\n",
      " 'cymbalta' 'cymbalta' 'zoloft' 'zoloft' 'cymbalta' 'zoloft' 'zoloft'\n",
      " 'lexapro' 'zoloft' 'zoloft' 'cymbalta' 'zoloft' 'zoloft' 'zoloft'\n",
      " 'cymbalta' 'lexapro' 'cymbalta' 'cymbalta' 'zoloft' 'zoloft' 'zoloft'\n",
      " 'cymbalta' 'zoloft' 'zoloft' 'cymbalta' 'zoloft' 'zoloft' 'zoloft'\n",
      " 'zoloft' 'zoloft' 'cymbalta' 'zoloft' 'cymbalta' 'zoloft' 'cymbalta'\n",
      " 'lexapro' 'cymbalta' 'zoloft' 'lexapro' 'zoloft' 'cymbalta' 'zoloft'\n",
      " 'lexapro' 'zoloft' 'cymbalta' 'cymbalta' 'zoloft' 'zoloft' 'cymbalta'\n",
      " 'lexapro' 'zoloft' 'cymbalta' 'cymbalta' 'zoloft' 'cymbalta' 'zoloft'\n",
      " 'zoloft' 'zoloft' 'zoloft' 'lexapro' 'zoloft' 'cymbalta' 'zoloft'\n",
      " 'zoloft' 'lexapro' 'zoloft' 'zoloft' 'cymbalta' 'cymbalta' 'zoloft'\n",
      " 'cymbalta' 'zoloft' 'cymbalta' 'zoloft' 'zoloft' 'zoloft' 'zoloft'\n",
      " 'zoloft' 'zoloft' 'zoloft' 'zoloft' 'zoloft' 'cymbalta' 'cymbalta'\n",
      " 'cymbalta' 'zoloft' 'cymbalta' 'cymbalta' 'zoloft' 'cymbalta' 'cymbalta'\n",
      " 'cymbalta' 'zoloft' 'lexapro' 'zoloft' 'zoloft' 'lexapro' 'zoloft'\n",
      " 'zoloft' 'cymbalta' 'zoloft' 'zoloft' 'cymbalta' 'zoloft' 'zoloft'\n",
      " 'lexapro' 'zoloft' 'zoloft' 'zoloft' 'zoloft' 'cymbalta' 'cymbalta'\n",
      " 'cymbalta' 'cymbalta' 'cymbalta' 'cymbalta' 'lexapro' 'zoloft' 'zoloft'\n",
      " 'zoloft' 'zoloft' 'cymbalta' 'zoloft' 'zoloft' 'cymbalta' 'cymbalta'\n",
      " 'lexapro' 'zoloft' 'zoloft' 'cymbalta' 'zoloft' 'cymbalta' 'lexapro'\n",
      " 'zoloft' 'zoloft' 'cymbalta' 'cymbalta' 'zoloft' 'zoloft' 'zoloft'\n",
      " 'cymbalta' 'zoloft' 'zoloft' 'zoloft' 'cymbalta' 'zoloft' 'zoloft'\n",
      " 'zoloft' 'zoloft' 'zoloft' 'cymbalta' 'zoloft' 'zoloft' 'cymbalta'\n",
      " 'lexapro' 'zoloft' 'cymbalta' 'cymbalta' 'zoloft' 'zoloft' 'zoloft'\n",
      " 'cymbalta' 'zoloft' 'lexapro' 'cymbalta' 'zoloft' 'zoloft' 'cymbalta'\n",
      " 'cymbalta' 'cymbalta' 'zoloft' 'zoloft' 'zoloft' 'zoloft' 'lexapro'\n",
      " 'zoloft']\n"
     ]
    }
   ],
   "source": [
    "## 6 Total ones\n",
    "# task_2_transformer_f1, task_2_transformer_f2, task_2_transformer_f3\n",
    "# task_2_logistic_f1, task_2_logistic _f2, task_2_logistic_f3\n",
    "\n",
    "print(true_numpy_labels)\n",
    "\n",
    "# print(task_2_logistic_f1)\n",
    "# print(task_2_transformer_f1)\n",
    "# print(task_2_logistic_f2)\n",
    "print(task_2_transformer_f2)\n",
    "# print(task_2_logistic_f3)\n",
    "# print(task_2_transformer_f3)"
   ]
  },
  {
   "cell_type": "code",
   "execution_count": 1160,
   "metadata": {},
   "outputs": [
    {
     "name": "stdout",
     "output_type": "stream",
     "text": [
      "Cohen's Kappa Score for logistic_1 vs logistic_2: 0.9907771973097605\n",
      "Cohen's Kappa Score for logistic_1 vs logistic_3: 0.0921565053113036\n",
      "Cohen's Kappa Score for logistic_2 vs logistic_3: 0.08796989977691205\n",
      "Cohen's Kappa Score for transformer_1 vs transformer_2: -0.011594689968072558\n",
      "Cohen's Kappa Score for transformer_1 vs transformer_3: 0.3870595919621932\n",
      "Cohen's Kappa Score for transformer_2 vs transformer_3: -0.04598585262001231\n",
      "Cohen's Kappa Score for logistic_1 vs transformer_1: 0.018608349900596455\n",
      "Cohen's Kappa Score for logistic_1 vs transformer_2: 0.0029711978618749413\n",
      "Cohen's Kappa Score for logistic_1 vs transformer_3: 0.06310512532734758\n",
      "Cohen's Kappa Score for logistic_2 vs transformer_1: 0.015256698744035457\n",
      "Cohen's Kappa Score for logistic_2 vs transformer_2: 0.005995237825273558\n",
      "Cohen's Kappa Score for logistic_2 vs transformer_3: 0.0612367300425839\n",
      "Cohen's Kappa Score for logistic_3 vs transformer_1: 0.33626538722496857\n",
      "Cohen's Kappa Score for logistic_3 vs transformer_2: -0.005325452894368254\n",
      "Cohen's Kappa Score for logistic_3 vs transformer_3: 0.25131827678837926\n",
      "Cohen's Kappa Score for logistic_1 vs ground truth: 0.1927168698036178\n",
      "Cohen's Kappa Score for logistic_2 vs ground truth: 0.19223544145272387\n",
      "Cohen's Kappa Score for logistic_3 vs ground truth: 0.09258667153884803\n",
      "Cohen's Kappa Score for transformer_1 vs ground truth: 0.05221845574387951\n",
      "Cohen's Kappa Score for transformer_2 vs ground truth: -0.03699950783127304\n",
      "Cohen's Kappa Score for transformer_3 vs ground truth: 0.08854220784040145\n"
     ]
    }
   ],
   "source": [
    "from sklearn.metrics import cohen_kappa_score\n",
    "\n",
    "def calculate_cohen_kappa_scores(logistic_f1, transformer_f1, logistic_f2, transformer_f2, logistic_f3, transformer_f3, true_labels):\n",
    "    combinations = [\n",
    "        ('logistic_1 vs logistic_2', logistic_f1, logistic_f2),\n",
    "        ('logistic_1 vs logistic_3', logistic_f1, logistic_f3),\n",
    "        ('logistic_2 vs logistic_3', logistic_f2, logistic_f3),\n",
    "        ('transformer_1 vs transformer_2', transformer_f1, transformer_f2),\n",
    "        ('transformer_1 vs transformer_3', transformer_f1, transformer_f3),\n",
    "        ('transformer_2 vs transformer_3', transformer_f2, transformer_f3),\n",
    "        ('logistic_1 vs transformer_1', logistic_f1, transformer_f1),\n",
    "        ('logistic_1 vs transformer_2', logistic_f1, transformer_f2),\n",
    "        ('logistic_1 vs transformer_3', logistic_f1, transformer_f3),\n",
    "        ('logistic_2 vs transformer_1', logistic_f2, transformer_f1),\n",
    "        ('logistic_2 vs transformer_2', logistic_f2, transformer_f2),\n",
    "        ('logistic_2 vs transformer_3', logistic_f2, transformer_f3),\n",
    "        ('logistic_3 vs transformer_1', logistic_f3, transformer_f1),\n",
    "        ('logistic_3 vs transformer_2', logistic_f3, transformer_f2),\n",
    "        ('logistic_3 vs transformer_3', logistic_f3, transformer_f3),\n",
    "        ('logistic_1 vs ground truth', logistic_f1, true_labels),\n",
    "        ('logistic_2 vs ground truth', logistic_f2, true_labels),\n",
    "        ('logistic_3 vs ground truth', logistic_f3, true_labels),\n",
    "        ('transformer_1 vs ground truth', transformer_f1, true_labels),\n",
    "        ('transformer_2 vs ground truth', transformer_f2, true_labels),\n",
    "        ('transformer_3 vs ground truth', transformer_f3, true_labels)\n",
    "    ]\n",
    "    \n",
    "    for name, array1, array2 in combinations:\n",
    "        score = cohen_kappa_score(array1, array2)\n",
    "        print(f\"Cohen's Kappa Score for {name}: {score}\")\n",
    "\n",
    "calculate_cohen_kappa_scores(\n",
    "    logistic_f1=task_2_logistic_f1,\n",
    "    transformer_f1=task_2_transformer_f1,\n",
    "    logistic_f2=task_2_logistic_f2,\n",
    "    transformer_f2=task_2_transformer_f2,\n",
    "    logistic_f3=task_2_logistic_f3,\n",
    "    transformer_f3=task_2_transformer_f3,\n",
    "    true_labels=true_numpy_labels\n",
    ")\n"
   ]
  },
  {
   "cell_type": "code",
   "execution_count": 1161,
   "metadata": {},
   "outputs": [
    {
     "data": {
      "text/plain": [
       "0.06650903780616059"
      ]
     },
     "execution_count": 1161,
     "metadata": {},
     "output_type": "execute_result"
    }
   ],
   "source": [
    "from sklearn.metrics import matthews_corrcoef\n",
    "\n",
    "matthews_corrcoef(true_numpy_labels,task_2_transformer_f1)"
   ]
  },
  {
   "cell_type": "code",
   "execution_count": 1164,
   "metadata": {},
   "outputs": [],
   "source": [
    "\n",
    "from sklearn.preprocessing import LabelEncoder\n",
    "\n",
    "all_words = task_2_logistic_f1 + task_2_transformer_f1 + task_2_logistic_f2 + task_2_transformer_f2 + task_2_logistic_f3 + task_2_transformer_f3 + true_numpy_labels\n",
    "\n",
    "model = LabelEncoder()\n",
    "\n",
    "model.fit(all_words)\n",
    "\n",
    "def words_to_numeric(words, encoder):\n",
    "    return encoder.transform(words)\n",
    "\n",
    "\n",
    "\n",
    "logistic_f1_vectors = words_to_numeric(task_2_logistic_f1, label_encoder)\n",
    "transformer_f1_vectors = words_to_numeric(task_2_transformer_f1, label_encoder)\n",
    "logistic_f2_vectors = words_to_numeric(task_2_logistic_f2, label_encoder)\n",
    "transformer_f2_vectors = words_to_numeric(task_2_transformer_f2, label_encoder)\n",
    "logistic_f3_vectors = words_to_numeric(task_2_logistic_f3, label_encoder)\n",
    "transformer_f3_vectors = words_to_numeric(task_2_transformer_f3, label_encoder)\n",
    "true_label_vectors = words_to_numeric(true_numpy_labels, label_encoder)\n"
   ]
  },
  {
   "cell_type": "code",
   "execution_count": 1165,
   "metadata": {},
   "outputs": [
    {
     "name": "stdout",
     "output_type": "stream",
     "text": [
      "Matthews Correlation Coefficient for logistic_1 vs logistic_2: 0.9908243011149059\n",
      "Matthews Correlation Coefficient for logistic_1 vs logistic_3: 0.11603360836444948\n",
      "Matthews Correlation Coefficient for logistic_2 vs logistic_3: 0.11044995801961668\n",
      "Matthews Correlation Coefficient for transformer_1 vs transformer_2: -0.01661564829025215\n",
      "Matthews Correlation Coefficient for transformer_1 vs transformer_3: 0.4551360657179037\n",
      "Matthews Correlation Coefficient for transformer_2 vs transformer_3: -0.06644812326256089\n",
      "Matthews Correlation Coefficient for logistic_1 vs transformer_1: 0.02283953478105437\n",
      "Matthews Correlation Coefficient for logistic_1 vs transformer_2: 0.0035845582243071495\n",
      "Matthews Correlation Coefficient for logistic_1 vs transformer_3: 0.0746322866284426\n",
      "Matthews Correlation Coefficient for logistic_2 vs transformer_1: 0.018695243554601594\n",
      "Matthews Correlation Coefficient for logistic_2 vs transformer_2: 0.007267776505058765\n",
      "Matthews Correlation Coefficient for logistic_2 vs transformer_3: 0.07240702830017491\n",
      "Matthews Correlation Coefficient for logistic_3 vs transformer_1: 0.3695835673178944\n",
      "Matthews Correlation Coefficient for logistic_3 vs transformer_2: -0.008096198075814411\n",
      "Matthews Correlation Coefficient for logistic_3 vs transformer_3: 0.3659514030761309\n",
      "Matthews Correlation Coefficient for logistic_1 vs ground truth: 0.19444590491905536\n",
      "Matthews Correlation Coefficient for logistic_2 vs ground truth: 0.19418937045783918\n",
      "Matthews Correlation Coefficient for logistic_3 vs ground truth: 0.12472589271449688\n",
      "Matthews Correlation Coefficient for transformer_1 vs ground truth: 0.06650903780616059\n",
      "Matthews Correlation Coefficient for transformer_2 vs ground truth: -0.043092423288888446\n",
      "Matthews Correlation Coefficient for transformer_3 vs ground truth: 0.10377298511197906\n"
     ]
    }
   ],
   "source": [
    "def calculate_mcc_scores(logistic_f1, transformer_f1, logistic_f2, transformer_f2, logistic_f3, transformer_f3, true_labels):\n",
    "    combinations = [\n",
    "        ('logistic_1 vs logistic_2', logistic_f1, logistic_f2),\n",
    "        ('logistic_1 vs logistic_3', logistic_f1, logistic_f3),\n",
    "        ('logistic_2 vs logistic_3', logistic_f2, logistic_f3),\n",
    "        ('transformer_1 vs transformer_2', transformer_f1, transformer_f2),\n",
    "        ('transformer_1 vs transformer_3', transformer_f1, transformer_f3),\n",
    "        ('transformer_2 vs transformer_3', transformer_f2, transformer_f3),\n",
    "        ('logistic_1 vs transformer_1', logistic_f1, transformer_f1),\n",
    "        ('logistic_1 vs transformer_2', logistic_f1, transformer_f2),\n",
    "        ('logistic_1 vs transformer_3', logistic_f1, transformer_f3),\n",
    "        ('logistic_2 vs transformer_1', logistic_f2, transformer_f1),\n",
    "        ('logistic_2 vs transformer_2', logistic_f2, transformer_f2),\n",
    "        ('logistic_2 vs transformer_3', logistic_f2, transformer_f3),\n",
    "        ('logistic_3 vs transformer_1', logistic_f3, transformer_f1),\n",
    "        ('logistic_3 vs transformer_2', logistic_f3, transformer_f2),\n",
    "        ('logistic_3 vs transformer_3', logistic_f3, transformer_f3),\n",
    "        ('logistic_1 vs ground truth', logistic_f1, true_labels),\n",
    "        ('logistic_2 vs ground truth', logistic_f2, true_labels),\n",
    "        ('logistic_3 vs ground truth', logistic_f3, true_labels),\n",
    "        ('transformer_1 vs ground truth', transformer_f1, true_labels),\n",
    "        ('transformer_2 vs ground truth', transformer_f2, true_labels),\n",
    "        ('transformer_3 vs ground truth', transformer_f3, true_labels)\n",
    "    ]\n",
    "    \n",
    "    for name, array1, array2 in combinations:\n",
    "        stat= matthews_corrcoef(array1, array2)\n",
    "        print(f\"Matthews Correlation Coefficient for {name}: {stat}\")\n",
    "\n",
    "calculate_mcc_scores(\n",
    "    logistic_f1=logistic_f1_vectors,\n",
    "    transformer_f1=transformer_f1_vectors,\n",
    "    logistic_f2=logistic_f2_vectors,\n",
    "    transformer_f2=transformer_f2_vectors,\n",
    "    logistic_f3=logistic_f3_vectors,\n",
    "    transformer_f3=transformer_f3_vectors,\n",
    "    true_labels=true_label_vectors\n",
    ")"
   ]
  }
 ],
 "metadata": {
  "kernelspec": {
   "display_name": "cudaEnv",
   "language": "python",
   "name": "python3"
  },
  "language_info": {
   "codemirror_mode": {
    "name": "ipython",
    "version": 3
   },
   "file_extension": ".py",
   "mimetype": "text/x-python",
   "name": "python",
   "nbconvert_exporter": "python",
   "pygments_lexer": "ipython3",
   "version": "3.11.9"
  }
 },
 "nbformat": 4,
 "nbformat_minor": 2
}
