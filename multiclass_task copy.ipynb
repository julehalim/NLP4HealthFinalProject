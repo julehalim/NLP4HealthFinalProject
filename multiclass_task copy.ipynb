{
 "cells": [
  {
   "cell_type": "code",
   "execution_count": 1,
   "metadata": {},
   "outputs": [],
   "source": [
    "## Packages\n",
    "##Imports\n",
    "import pandas as pd\n",
    "import transformers\n",
    "import openpyxl\n",
    "import numpy\n",
    "import torch\n",
    "import os\n",
    "import numpy as np\n",
    "import shutil\n",
    "import sys\n",
    "import tqdm.notebook as tq\n",
    "from collections import defaultdict\n",
    "import time\n",
    "\n",
    "import torch\n",
    "import torch.nn as nn\n",
    "\n",
    "# Does augmenting classifiers with structured data help?\n",
    "# Do it for both the baseline classical ML and transformers then compare\n",
    "# Try it with just structured data [0s and 1s]"
   ]
  },
  {
   "cell_type": "code",
   "execution_count": 2,
   "metadata": {},
   "outputs": [
    {
     "data": {
      "text/plain": [
       "True"
      ]
     },
     "execution_count": 2,
     "metadata": {},
     "output_type": "execute_result"
    }
   ],
   "source": [
    "torch.cuda.is_available()"
   ]
  },
  {
   "cell_type": "code",
   "execution_count": 3,
   "metadata": {},
   "outputs": [],
   "source": [
    "torch.cuda.get_device_name(0)\n",
    "device = torch.device('cuda') if torch.cuda.is_available() else torch.device('cpu')"
   ]
  },
  {
   "cell_type": "code",
   "execution_count": 4,
   "metadata": {},
   "outputs": [
    {
     "name": "stdout",
     "output_type": "stream",
     "text": [
      "Sheet Name: Sample\n",
      "Sheet Name: Sentence_Labeling\n",
      "Sheet Name: ADR_Identified\n",
      "Sheet Name: ADR_Mapped\n",
      "Sheet Name: WD_Identified\n",
      "Sheet Name: WD-Mapped \n",
      "Sheet Name: SSI_Identified\n",
      "Sheet Name: SSI_Mapped\n",
      "Sheet Name: DI_Identified\n",
      "Sheet Name: DI_Mapped\n"
     ]
    }
   ],
   "source": [
    "## Reading in the PSYTar data set and parsing it\n",
    "\n",
    "## Use sentence_labelling sheet\n",
    "\n",
    "fileName=\".\\ONLINE_FORA\\PsyTAR_dataset.xlsx\"\n",
    "data=pd.ExcelFile(fileName)\n",
    "sheets={}\n",
    "for sheet in data.sheet_names:\n",
    "    sheets[sheet]=data.parse(sheet)\n",
    "\n",
    "## Remove the first two sheets (License and read_me)\n",
    "sheets.pop('License',None)\n",
    "sheets.pop('read_me',None)\n",
    "\n",
    "## This will print out the sheet names for the whole excel\n",
    "for sheet in sheets.keys():\n",
    "    print(f\"Sheet Name: {sheet}\")\n",
    "\n",
    "#To access a sheet, perform sheet['Sheet_Name']; e.g., sheets['Sample']"
   ]
  },
  {
   "cell_type": "code",
   "execution_count": 5,
   "metadata": {},
   "outputs": [
    {
     "name": "stdout",
     "output_type": "stream",
     "text": [
      "  (0, 2183)\t0.3560733570424169\n",
      "  (0, 2858)\t0.5335210557775061\n",
      "  (0, 2980)\t0.33695305203929327\n",
      "  (0, 4715)\t0.3577130194209486\n",
      "  (0, 4193)\t0.36113778160835414\n",
      "  (0, 2071)\t0.2627216248356759\n",
      "  (0, 5156)\t0.2390135798252401\n",
      "  (0, 1829)\t0.30083291559032393\n",
      "  (1, 2765)\t0.4585168729312828\n",
      "  (1, 1351)\t0.8886857021677111\n",
      "  (2, 2263)\t0.2708094866549267\n",
      "  (2, 4586)\t0.4316846093641784\n",
      "  (2, 5071)\t0.44358904667953863\n",
      "  (2, 4827)\t0.2570546169681927\n",
      "  (2, 3078)\t0.23875893121623276\n",
      "  (2, 4151)\t0.3207489298964512\n",
      "  (2, 1492)\t0.29911785906957045\n",
      "  (2, 1201)\t0.35264280744022497\n",
      "  (2, 4287)\t0.3220996041881179\n",
      "  (3, 4012)\t0.534375375933816\n",
      "  (3, 3326)\t0.5729355939201095\n",
      "  (3, 1018)\t0.39488574070665183\n",
      "  (3, 1237)\t0.3054771887014283\n",
      "  (3, 5)\t0.3700495936825698\n",
      "  (4, 4801)\t0.3601630582861626\n",
      "  :\t:\n",
      "  (6006, 3810)\t0.266723700884449\n",
      "  (6006, 278)\t0.30278988091992165\n",
      "  (6006, 4033)\t0.24160419308016043\n",
      "  (6006, 1558)\t0.24160419308016043\n",
      "  (6006, 2821)\t0.21617383387506503\n",
      "  (6006, 3470)\t0.20987895271102364\n",
      "  (6006, 1390)\t0.23609327417139986\n",
      "  (6006, 2098)\t0.1721949331238259\n",
      "  (6006, 2792)\t0.15461917912599263\n",
      "  (6007, 5221)\t0.40690224630890753\n",
      "  (6007, 1388)\t0.36244934695018927\n",
      "  (6007, 2358)\t0.40690224630890753\n",
      "  (6007, 987)\t0.36244934695018927\n",
      "  (6007, 5165)\t0.28822766104713454\n",
      "  (6007, 2896)\t0.29736053264983103\n",
      "  (6007, 1619)\t0.26742602182403663\n",
      "  (6007, 1809)\t0.3151406469723878\n",
      "  (6007, 2777)\t0.25257333627086354\n",
      "  (6008, 3452)\t0.462967378880836\n",
      "  (6008, 4290)\t0.4133719291682648\n",
      "  (6008, 1695)\t0.41770974043639536\n",
      "  (6008, 3642)\t0.462967378880836\n",
      "  (6008, 186)\t0.3151272227530411\n",
      "  (6008, 2777)\t0.24953491233016006\n",
      "  (6008, 5269)\t0.25375538243161966\n",
      "Number of Drug Types: 4\n",
      "          id  comment_id        drug_id  sentence_index  \\\n",
      "0        1.0         1.0      lexapro.1             1.0   \n",
      "1        2.0         1.0      lexapro.1             2.0   \n",
      "2        3.0         1.0      lexapro.1             3.0   \n",
      "3        4.0         1.0      lexapro.1             4.0   \n",
      "4        5.0         1.0      lexapro.1             5.0   \n",
      "...      ...         ...            ...             ...   \n",
      "6004  1545.0       228.0  effexorxr.228            14.0   \n",
      "6005  1546.0       228.0  effexorxr.228            15.0   \n",
      "6006  1547.0       228.0  effexorxr.228            16.0   \n",
      "6007  1548.0       228.0  effexorxr.228            17.0   \n",
      "6008  1549.0       228.0  effexorxr.228            18.0   \n",
      "\n",
      "                                              sentences  ADR   WD   EF  INF  \\\n",
      "0     extreme weight gain short-term memory loss hai...  1.0  0.0  0.0  0.0   \n",
      "1                                      detoxing lexapro  0.0  0.0  0.0  0.0   \n",
      "2     slowly cut dosage several months took vitamin ...  0.0  0.0  0.0  0.0   \n",
      "3                          10 days completely omg rough  0.0  0.0  0.0  0.0   \n",
      "4     flu-like symptoms dizziness major mood swings ...  0.0  1.0  0.0  0.0   \n",
      "...                                                 ...  ...  ...  ...  ...   \n",
      "6004                                increase dosage yet  0.0  0.0  0.0  0.0   \n",
      "6005           'm hoping able stay 75 mgs long possible  0.0  0.0  0.0  0.0   \n",
      "6006  reading withdrawals little scarey like said pe...  0.0  0.0  0.0  0.0   \n",
      "6007  effexor made huge difference life come experie...  0.0  0.0  1.0  0.0   \n",
      "6008              would small price pay able enjoy life  0.0  0.0  1.0  0.0   \n",
      "\n",
      "      SSI DI  Findings  others  rating category  drug_name  \n",
      "0     0.0  0       0.0       0     1.0     ssri    lexapro  \n",
      "1     0.0  0       0.0       0     1.0     ssri    lexapro  \n",
      "2     0.0  0       0.0       1     1.0     ssri    lexapro  \n",
      "3     0.0  0       0.0       1     1.0     ssri    lexapro  \n",
      "4     0.0  0       0.0       0     1.0     ssri    lexapro  \n",
      "...   ... ..       ...     ...     ...      ...        ...  \n",
      "6004  0.0  0       0.0       1     5.0     snri  effexorxr  \n",
      "6005  0.0  0       0.0       1     5.0     snri  effexorxr  \n",
      "6006  0.0  0       0.0       1     5.0     snri  effexorxr  \n",
      "6007  0.0  0       0.0       0     5.0     snri  effexorxr  \n",
      "6008  0.0  0       0.0       0     5.0     snri  effexorxr  \n",
      "\n",
      "[6009 rows x 16 columns]\n"
     ]
    }
   ],
   "source": [
    "## Vectorize data into TF-IDF and preprocess data\n",
    "\n",
    "import nltk\n",
    "import string\n",
    "from sklearn.feature_extraction.text import TfidfVectorizer\n",
    "\n",
    "\n",
    "def preprocess(text):\n",
    "    text=str(text)\n",
    "    tokens=nltk.word_tokenize(text.lower())\n",
    "    tokens_clean=[t for t in tokens if (t not in stop_words) and (t not in punctuations)]\n",
    "    return ' '.join(tokens_clean)\n",
    "    \n",
    "stop_words=nltk.corpus.stopwords.words('english')\n",
    "punctuations=string.punctuation\n",
    "\n",
    "df=data.parse('Sentence_Labeling')\n",
    "df.drop(df.tail(1).index,inplace=True)\n",
    "df['drug_id']=df['drug_id'].str.lower()\n",
    "df['drug_name']=df['drug_id'].str.replace(r'\\.\\d+','',regex=True)\n",
    "df['sentences']=df['sentences'].apply(preprocess)\n",
    "df.fillna(0,inplace=True)\n",
    "unique_drug_count=df['drug_name'].nunique()\n",
    "\n",
    "tfidf=TfidfVectorizer()\n",
    "tfidfSentences=tfidf.fit_transform(df['sentences'])\n",
    "\n",
    "print(tfidfSentences)\n",
    "\n",
    "print('Number of Drug Types:',unique_drug_count)\n",
    "print(df)\n",
    "\n",
    "## ADR: adverse drug reaction\n",
    "## WD: withdrawal symptom\n",
    "## EF: effective\n",
    "## INF: ineffective\n",
    "## SSI: Sign/symptom/illness - if report contains explicit SSI that patient experienced that are not a result of the drug\n",
    "## DI: drug indication - shows SSI that explicitly mentioned as being resolved because of drug consumption"
   ]
  },
  {
   "cell_type": "code",
   "execution_count": 6,
   "metadata": {},
   "outputs": [],
   "source": [
    "from sklearn.model_selection import train_test_split"
   ]
  },
  {
   "cell_type": "code",
   "execution_count": 7,
   "metadata": {},
   "outputs": [],
   "source": [
    "# category_mapping = df['drug_name'].astype('category').cat.categories"
   ]
  },
  {
   "cell_type": "code",
   "execution_count": 8,
   "metadata": {},
   "outputs": [],
   "source": [
    "# code_to_drug = {code: drug for code, drug in enumerate(category_mapping)}\n",
    "# print(code_to_drug)"
   ]
  },
  {
   "cell_type": "code",
   "execution_count": 9,
   "metadata": {},
   "outputs": [],
   "source": [
    "def transform_labels(row):\n",
    "    labels = [\n",
    "        '[POS] adverse drug reaction' if row['ADR'] == 1 else '[NEG] adverse drug reaction',\n",
    "        '[POS] withdrawal symptom' if row['WD'] == 1 else '[NEG] withdrawal symptom',\n",
    "        '[POS] effective' if row['EF'] == 1 else '[NEG] effective',\n",
    "        '[POS] ineffective' if row['INF'] == 1 else '[NEG] ineffective',\n",
    "        '[POS] sign/symptom/illness' if row['SSI'] == 1 else '[NEG] sign/symptom/illness',\n",
    "        '[POS] drug indication' if row['DI'] == 1 else '[NEG] drug indication'\n",
    "    ]\n",
    "    return ' '.join(labels)\n",
    "\n",
    "# df['drug_name'] = df['drug_name'].astype('category').cat.codes"
   ]
  },
  {
   "cell_type": "code",
   "execution_count": 10,
   "metadata": {},
   "outputs": [],
   "source": [
    "# category_mapping = df['drug_name'].astype('category').cat.categories\n",
    "# print(category_mapping)"
   ]
  },
  {
   "cell_type": "code",
   "execution_count": 11,
   "metadata": {},
   "outputs": [],
   "source": [
    "#this one is for the combined sentences -- Task 2 Feature 1\n",
    "\n",
    "df_word_label = df\n",
    "\n",
    "df_word_label['transformed_sentences'] = df.apply(lambda row: f\"{row['sentences']} {transform_labels(row)}\", axis=1)\n",
    "#print(df_word_label)\n",
    "\n",
    "## ADR: adverse drug reaction\n",
    "## WD: withdrawal symptom\n",
    "## EF: effective\n",
    "## INF: ineffective\n",
    "## SSI: Sign/symptom/illness - if report contains explicit SSI that patient experienced that are not a result of the drug\n",
    "## DI: drug indication - shows SSI that explicitly mentioned as being resolved because of drug consumption\n",
    "df_word_label.drop(columns=[\"id\", \"comment_id\", \"drug_id\", \"sentence_index\", \"Findings\", \"others\", \"rating\", \"category\",\"sentences\", \"ADR\", \"WD\", \"EF\", \"INF\", \"SSI\", \"DI\"], axis=1, inplace=True)\n",
    "\n",
    "df_word_label = df_word_label[['transformed_sentences', 'drug_name']]\n",
    "\n",
    "df_train, df_test = train_test_split(df_word_label, random_state=42, test_size=0.10, shuffle=True)\n",
    "# split test into test and validation datasets\n",
    "df_test, df_valid = train_test_split(df_word_label, random_state=42, test_size=0.50, shuffle=True)"
   ]
  },
  {
   "cell_type": "code",
   "execution_count": 12,
   "metadata": {},
   "outputs": [],
   "source": [
    "# # ## This one is just for the text without transformed sentences -- Task 2 Feature 2\n",
    "# df_word_label=df\n",
    "\n",
    "\n",
    "# # x = df_word_label['sentences'].values\n",
    "# # y = df_word_label['drug_name'].astype('category').cat.codes.values\n",
    "# df_word_label.drop(columns=[\"id\", \"comment_id\", \"drug_id\", \"sentence_index\", \"Findings\", \"others\", \"rating\", \"category\", \"ADR\", \"WD\", \"EF\", \"INF\", \"SSI\", \"DI\"], axis=1, inplace=True)\n",
    "# df_word_label = df_word_label[['sentences', 'drug_name']]\n",
    "\n",
    "# # Split data\n",
    "# df_train, df_test = train_test_split(df_word_label, random_state=42, test_size=0.10, shuffle=True)\n",
    "# # split test into test and validation datasets\n",
    "# df_test, df_valid = train_test_split(df_word_label, random_state=42, test_size=0.50, shuffle=True)"
   ]
  },
  {
   "cell_type": "code",
   "execution_count": 13,
   "metadata": {},
   "outputs": [],
   "source": [
    "# ## This one is just for the annotated dataset -- Task 2 Feature 3\n",
    "\n",
    "# df_word_label = df\n",
    "\n",
    "# df_word_label['transformed_labels'] = df_word_label.apply(transform_labels, axis=1)\n",
    "# print(df_word_label['transformed_labels'])\n",
    "\n",
    "# df_word_label.drop(columns=[\"id\", \"comment_id\", \"drug_id\", \"sentence_index\", \"Findings\", \"others\", \"rating\", \"category\",\"sentences\", \"ADR\", \"WD\", \"EF\", \"INF\", \"SSI\", \"DI\"], axis=1, inplace=True)\n",
    "# df_word_label = df_word_label[['transformed_labels', 'drug_name']]\n",
    "\n",
    "# # x = df_word_label['transformed_labels'].values\n",
    "# # y = df_word_label['drug_name'].astype('category').cat.codes.values\n",
    "\n",
    "# #Split data\n",
    "# df_train, df_test = train_test_split(df_word_label, random_state=42, test_size=0.10, shuffle=True)\n",
    "# # split test into test and validation datasets\n",
    "# df_test, df_valid = train_test_split(df_word_label, random_state=42, test_size=0.50, shuffle=True)"
   ]
  },
  {
   "cell_type": "code",
   "execution_count": 14,
   "metadata": {},
   "outputs": [
    {
     "name": "stdout",
     "output_type": "stream",
     "text": [
      "                                  transformed_sentences  drug_name\n",
      "0     extreme weight gain short-term memory loss hai...    lexapro\n",
      "1     detoxing lexapro [NEG] adverse drug reaction [...    lexapro\n",
      "2     slowly cut dosage several months took vitamin ...    lexapro\n",
      "3     10 days completely omg rough [NEG] adverse dru...    lexapro\n",
      "4     flu-like symptoms dizziness major mood swings ...    lexapro\n",
      "...                                                 ...        ...\n",
      "6004  increase dosage yet [NEG] adverse drug reactio...  effexorxr\n",
      "6005  'm hoping able stay 75 mgs long possible [NEG]...  effexorxr\n",
      "6006  reading withdrawals little scarey like said pe...  effexorxr\n",
      "6007  effexor made huge difference life come experie...  effexorxr\n",
      "6008  would small price pay able enjoy life [NEG] ad...  effexorxr\n",
      "\n",
      "[6009 rows x 2 columns]\n"
     ]
    }
   ],
   "source": [
    "print(df_word_label)"
   ]
  },
  {
   "cell_type": "code",
   "execution_count": 15,
   "metadata": {},
   "outputs": [
    {
     "name": "stdout",
     "output_type": "stream",
     "text": [
      "Train: (5408, 2), Test: (3004, 2), Valid: (3005, 2)\n"
     ]
    }
   ],
   "source": [
    "print(f\"Train: {df_train.shape}, Test: {df_test.shape}, Valid: {df_valid.shape}\")"
   ]
  },
  {
   "cell_type": "code",
   "execution_count": 16,
   "metadata": {},
   "outputs": [],
   "source": [
    "from transformers import BertTokenizer\n"
   ]
  },
  {
   "cell_type": "code",
   "execution_count": 17,
   "metadata": {},
   "outputs": [
    {
     "name": "stdout",
     "output_type": "stream",
     "text": [
      "['lexapro', 'zoloft', 'cymbalta', 'effexorxr']\n"
     ]
    }
   ],
   "source": [
    "print(df['drug_name'].unique().tolist())"
   ]
  },
  {
   "cell_type": "code",
   "execution_count": 18,
   "metadata": {},
   "outputs": [
    {
     "name": "stderr",
     "output_type": "stream",
     "text": [
      "c:\\Users\\julev\\anaconda3\\envs\\cudaEnv\\Lib\\site-packages\\huggingface_hub\\file_download.py:1132: FutureWarning: `resume_download` is deprecated and will be removed in version 1.0.0. Downloads always resume when possible. If you want to force a new download, use `force_download=True`.\n",
      "  warnings.warn(\n"
     ]
    }
   ],
   "source": [
    "tokenizer = BertTokenizer.from_pretrained('bert-base-cased')\n",
    "labels = {'lexapro':0,\n",
    "          'zoloft':1,\n",
    "          'cymbalta':2,\n",
    "          'effexorxr':3\n",
    "          }\n",
    "\n",
    "class Dataset(torch.utils.data.Dataset):\n",
    "\n",
    "    def __init__(self, df):\n",
    "\n",
    "        self.labels = [labels[label] for label in df['drug_name']]\n",
    "        self.texts = [tokenizer(text, \n",
    "                               padding='max_length', max_length = 512, truncation=True,\n",
    "                                return_tensors=\"pt\") for text in df['transformed_sentences']]\n",
    "                                ## change the df[''] depending on the feature\n",
    "\n",
    "    def classes(self):\n",
    "        return self.labels\n",
    "\n",
    "    def __len__(self):\n",
    "        return len(self.labels)\n",
    "\n",
    "    def get_batch_labels(self, idx):\n",
    "        # Fetch a batch of labels\n",
    "        return np.array(self.labels[idx])\n",
    "\n",
    "    def get_batch_texts(self, idx):\n",
    "        # Fetch a batch of inputs\n",
    "        return self.texts[idx]\n",
    "\n",
    "    def __getitem__(self, idx):\n",
    "\n",
    "        batch_texts = self.get_batch_texts(idx)\n",
    "        batch_y = self.get_batch_labels(idx)\n",
    "\n",
    "        return batch_texts, batch_y"
   ]
  },
  {
   "cell_type": "code",
   "execution_count": 19,
   "metadata": {},
   "outputs": [],
   "source": [
    "from transformers import BertModel\n",
    "\n",
    "class BertClassifier(nn.Module):\n",
    "\n",
    "    def __init__(self, dropout=0.5):\n",
    "\n",
    "        super(BertClassifier, self).__init__()\n",
    "\n",
    "        self.bert = BertModel.from_pretrained('bert-base-cased')\n",
    "        self.dropout = nn.Dropout(dropout)\n",
    "        self.linear = nn.Linear(768, 5)\n",
    "        self.relu = nn.ReLU()\n",
    "\n",
    "    def forward(self, input_id, mask):\n",
    "\n",
    "        _, pooled_output = self.bert(input_ids= input_id, attention_mask=mask,return_dict=False)\n",
    "        dropout_output = self.dropout(pooled_output)\n",
    "        linear_output = self.linear(dropout_output)\n",
    "        final_layer = self.relu(linear_output)\n",
    "\n",
    "        return final_layer"
   ]
  },
  {
   "cell_type": "code",
   "execution_count": 20,
   "metadata": {},
   "outputs": [],
   "source": [
    "from torch.optim import Adam\n",
    "from tqdm import tqdm"
   ]
  },
  {
   "cell_type": "code",
   "execution_count": 21,
   "metadata": {},
   "outputs": [
    {
     "name": "stderr",
     "output_type": "stream",
     "text": [
      "c:\\Users\\julev\\anaconda3\\envs\\cudaEnv\\Lib\\site-packages\\huggingface_hub\\file_download.py:1132: FutureWarning: `resume_download` is deprecated and will be removed in version 1.0.0. Downloads always resume when possible. If you want to force a new download, use `force_download=True`.\n",
      "  warnings.warn(\n",
      "100%|██████████| 2704/2704 [04:45<00:00,  9.48it/s]\n"
     ]
    },
    {
     "name": "stdout",
     "output_type": "stream",
     "text": [
      "Model saved to ./model2_task2_feature1_model(unfrozen)\n",
      "Epochs: 1 | Train Loss:  0.791 | Train Accuracy:  0.263 | Val Loss:  0.769 | Val Accuracy:  0.261\n"
     ]
    },
    {
     "name": "stderr",
     "output_type": "stream",
     "text": [
      "100%|██████████| 2704/2704 [06:39<00:00,  6.76it/s]\n"
     ]
    },
    {
     "name": "stdout",
     "output_type": "stream",
     "text": [
      "Model saved to ./model2_task2_feature1_model(unfrozen)\n",
      "Epochs: 2 | Train Loss:  0.733 | Train Accuracy:  0.290 | Val Loss:  0.699 | Val Accuracy:  0.334\n"
     ]
    },
    {
     "name": "stderr",
     "output_type": "stream",
     "text": [
      "100%|██████████| 2704/2704 [06:37<00:00,  6.80it/s]\n"
     ]
    },
    {
     "name": "stdout",
     "output_type": "stream",
     "text": [
      "Model saved to ./model2_task2_feature1_model(unfrozen)\n",
      "Epochs: 3 | Train Loss:  0.680 | Train Accuracy:  0.363 | Val Loss:  0.657 | Val Accuracy:  0.389\n"
     ]
    },
    {
     "name": "stderr",
     "output_type": "stream",
     "text": [
      "100%|██████████| 2704/2704 [07:02<00:00,  6.40it/s]\n"
     ]
    },
    {
     "name": "stdout",
     "output_type": "stream",
     "text": [
      "Model saved to ./model2_task2_feature1_model(unfrozen)\n",
      "Epochs: 4 | Train Loss:  0.644 | Train Accuracy:  0.411 | Val Loss:  0.629 | Val Accuracy:  0.424\n"
     ]
    },
    {
     "name": "stderr",
     "output_type": "stream",
     "text": [
      "100%|██████████| 2704/2704 [06:56<00:00,  6.49it/s]\n"
     ]
    },
    {
     "name": "stdout",
     "output_type": "stream",
     "text": [
      "Model saved to ./model2_task2_feature1_model(unfrozen)\n",
      "Epochs: 5 | Train Loss:  0.604 | Train Accuracy:  0.471 | Val Loss:  0.583 | Val Accuracy:  0.505\n"
     ]
    },
    {
     "name": "stderr",
     "output_type": "stream",
     "text": [
      "100%|██████████| 2704/2704 [06:32<00:00,  6.88it/s]\n"
     ]
    },
    {
     "name": "stdout",
     "output_type": "stream",
     "text": [
      "Model saved to ./model2_task2_feature1_model(unfrozen)\n",
      "Epochs: 6 | Train Loss:  0.548 | Train Accuracy:  0.562 | Val Loss:  0.526 | Val Accuracy:  0.602\n"
     ]
    },
    {
     "name": "stderr",
     "output_type": "stream",
     "text": [
      "100%|██████████| 2704/2704 [06:41<00:00,  6.73it/s]\n"
     ]
    },
    {
     "name": "stdout",
     "output_type": "stream",
     "text": [
      "Model saved to ./model2_task2_feature1_model(unfrozen)\n",
      "Epochs: 7 | Train Loss:  0.470 | Train Accuracy:  0.652 | Val Loss:  0.458 | Val Accuracy:  0.665\n"
     ]
    },
    {
     "name": "stderr",
     "output_type": "stream",
     "text": [
      "100%|██████████| 2704/2704 [04:44<00:00,  9.52it/s]\n"
     ]
    },
    {
     "name": "stdout",
     "output_type": "stream",
     "text": [
      "Model saved to ./model2_task2_feature1_model(unfrozen)\n",
      "Epochs: 8 | Train Loss:  0.378 | Train Accuracy:  0.756 | Val Loss:  0.390 | Val Accuracy:  0.753\n"
     ]
    },
    {
     "name": "stderr",
     "output_type": "stream",
     "text": [
      "100%|██████████| 2704/2704 [04:40<00:00,  9.63it/s]\n"
     ]
    },
    {
     "name": "stdout",
     "output_type": "stream",
     "text": [
      "Model saved to ./model2_task2_feature1_model(unfrozen)\n",
      "Epochs: 9 | Train Loss:  0.287 | Train Accuracy:  0.840 | Val Loss:  0.338 | Val Accuracy:  0.793\n"
     ]
    },
    {
     "name": "stderr",
     "output_type": "stream",
     "text": [
      "100%|██████████| 2704/2704 [04:40<00:00,  9.65it/s]\n"
     ]
    },
    {
     "name": "stdout",
     "output_type": "stream",
     "text": [
      "Model saved to ./model2_task2_feature1_model(unfrozen)\n",
      "Epochs: 10 | Train Loss:  0.220 | Train Accuracy:  0.890 | Val Loss:  0.313 | Val Accuracy:  0.817\n"
     ]
    },
    {
     "name": "stderr",
     "output_type": "stream",
     "text": [
      "100%|██████████| 2704/2704 [04:37<00:00,  9.73it/s]\n"
     ]
    },
    {
     "name": "stdout",
     "output_type": "stream",
     "text": [
      "Model saved to ./model2_task2_feature1_model(unfrozen)\n",
      "Epochs: 11 | Train Loss:  0.167 | Train Accuracy:  0.927 | Val Loss:  0.293 | Val Accuracy:  0.827\n"
     ]
    },
    {
     "name": "stderr",
     "output_type": "stream",
     "text": [
      "100%|██████████| 2704/2704 [04:38<00:00,  9.70it/s]\n"
     ]
    },
    {
     "name": "stdout",
     "output_type": "stream",
     "text": [
      "Model saved to ./model2_task2_feature1_model(unfrozen)\n",
      "Epochs: 12 | Train Loss:  0.131 | Train Accuracy:  0.942 | Val Loss:  0.287 | Val Accuracy:  0.829\n"
     ]
    },
    {
     "name": "stderr",
     "output_type": "stream",
     "text": [
      "100%|██████████| 2704/2704 [04:42<00:00,  9.57it/s]\n"
     ]
    },
    {
     "name": "stdout",
     "output_type": "stream",
     "text": [
      "Model saved to ./model2_task2_feature1_model(unfrozen)\n",
      "Epochs: 13 | Train Loss:  0.105 | Train Accuracy:  0.958 | Val Loss:  0.277 | Val Accuracy:  0.842\n"
     ]
    },
    {
     "name": "stderr",
     "output_type": "stream",
     "text": [
      "100%|██████████| 2704/2704 [04:45<00:00,  9.47it/s]\n"
     ]
    },
    {
     "name": "stdout",
     "output_type": "stream",
     "text": [
      "Model saved to ./model2_task2_feature1_model(unfrozen)\n",
      "Epochs: 14 | Train Loss:  0.091 | Train Accuracy:  0.959 | Val Loss:  0.273 | Val Accuracy:  0.849\n"
     ]
    },
    {
     "name": "stderr",
     "output_type": "stream",
     "text": [
      "100%|██████████| 2704/2704 [04:41<00:00,  9.60it/s]\n"
     ]
    },
    {
     "name": "stdout",
     "output_type": "stream",
     "text": [
      "Model saved to ./model2_task2_feature1_model(unfrozen)\n",
      "Epochs: 15 | Train Loss:  0.075 | Train Accuracy:  0.964 | Val Loss:  0.264 | Val Accuracy:  0.851\n"
     ]
    },
    {
     "name": "stderr",
     "output_type": "stream",
     "text": [
      "100%|██████████| 2704/2704 [04:41<00:00,  9.61it/s]\n"
     ]
    },
    {
     "name": "stdout",
     "output_type": "stream",
     "text": [
      "Model saved to ./model2_task2_feature1_model(unfrozen)\n",
      "Epochs: 16 | Train Loss:  0.065 | Train Accuracy:  0.969 | Val Loss:  0.279 | Val Accuracy:  0.854\n"
     ]
    },
    {
     "name": "stderr",
     "output_type": "stream",
     "text": [
      "100%|██████████| 2704/2704 [04:41<00:00,  9.61it/s]\n"
     ]
    },
    {
     "name": "stdout",
     "output_type": "stream",
     "text": [
      "Model saved to ./model2_task2_feature1_model(unfrozen)\n",
      "Epochs: 17 | Train Loss:  0.059 | Train Accuracy:  0.974 | Val Loss:  0.273 | Val Accuracy:  0.860\n"
     ]
    },
    {
     "name": "stderr",
     "output_type": "stream",
     "text": [
      "100%|██████████| 2704/2704 [04:40<00:00,  9.63it/s]\n"
     ]
    },
    {
     "name": "stdout",
     "output_type": "stream",
     "text": [
      "Epochs: 18 | Train Loss:  0.053 | Train Accuracy:  0.976 | Val Loss:  0.279 | Val Accuracy:  0.857\n"
     ]
    },
    {
     "name": "stderr",
     "output_type": "stream",
     "text": [
      "100%|██████████| 2704/2704 [04:41<00:00,  9.61it/s]\n"
     ]
    },
    {
     "name": "stdout",
     "output_type": "stream",
     "text": [
      "Epochs: 19 | Train Loss:  0.050 | Train Accuracy:  0.974 | Val Loss:  0.267 | Val Accuracy:  0.859\n"
     ]
    },
    {
     "name": "stderr",
     "output_type": "stream",
     "text": [
      "100%|██████████| 2704/2704 [04:41<00:00,  9.61it/s]\n"
     ]
    },
    {
     "name": "stdout",
     "output_type": "stream",
     "text": [
      "Epochs: 20 | Train Loss:  0.044 | Train Accuracy:  0.976 | Val Loss:  0.286 | Val Accuracy:  0.856\n",
      "Total training time: 7471.89 seconds\n"
     ]
    }
   ],
   "source": [
    "import os\n",
    "from collections import defaultdict\n",
    "import time\n",
    "\n",
    "history = defaultdict(list)\n",
    "torch.cuda.empty_cache()\n",
    "def train(model, train_data, val_data, learning_rate, epochs, model_save_path):\n",
    "\n",
    "    train, val = Dataset(train_data), Dataset(val_data)\n",
    "\n",
    "    train_dataloader = torch.utils.data.DataLoader(train, batch_size=2, shuffle=True)\n",
    "    val_dataloader = torch.utils.data.DataLoader(val, batch_size=2, shuffle=True)\n",
    "\n",
    "    use_cuda = torch.cuda.is_available()\n",
    "    device = torch.device('cuda') if torch.cuda.is_available() else torch.device('cpu')\n",
    "\n",
    "    criterion = nn.CrossEntropyLoss()\n",
    "    optimizer = Adam(model.parameters(), lr=learning_rate)\n",
    "\n",
    "    if use_cuda:\n",
    "        model = model.cuda()\n",
    "        criterion = criterion.cuda()\n",
    "    best_accuracy = 0\n",
    "\n",
    "    start_time = time.time()\n",
    "\n",
    "    for epoch_num in range(epochs):\n",
    "\n",
    "        total_acc_train = 0\n",
    "        total_loss_train = 0\n",
    "\n",
    "        for train_input, train_label in tqdm(train_dataloader):\n",
    "\n",
    "            train_label = train_label.to(device)\n",
    "            mask = train_input['attention_mask'].to(device)\n",
    "            input_id = train_input['input_ids'].squeeze(1).to(device)\n",
    "\n",
    "            output = model(input_id, mask)\n",
    "            \n",
    "            batch_loss = criterion(output, train_label.long())\n",
    "            total_loss_train += batch_loss.item()\n",
    "            \n",
    "            acc = (output.argmax(dim=1) == train_label).sum().item()\n",
    "            total_acc_train += acc\n",
    "\n",
    "            model.zero_grad()\n",
    "            batch_loss.backward()\n",
    "            optimizer.step()\n",
    "        \n",
    "        total_acc_val = 0\n",
    "        total_loss_val = 0\n",
    "\n",
    "        with torch.no_grad():\n",
    "\n",
    "            for val_input, val_label in val_dataloader:\n",
    "\n",
    "                val_label = val_label.to(device)\n",
    "                mask = val_input['attention_mask'].to(device)\n",
    "                input_id = val_input['input_ids'].squeeze(1).to(device)\n",
    "\n",
    "                output = model(input_id, mask)\n",
    "\n",
    "                batch_loss = criterion(output, val_label.long())\n",
    "                total_loss_val += batch_loss.item()\n",
    "                \n",
    "                acc = (output.argmax(dim=1) == val_label).sum().item()\n",
    "                total_acc_val += acc\n",
    "        \n",
    "        train_acc = total_acc_train / len(train_data)\n",
    "        train_loss = total_loss_train / len(train_data)\n",
    "        val_acc = total_acc_val / len(val_data)\n",
    "        val_loss = total_loss_val / len(val_data)\n",
    "\n",
    "        history['train_acc'].append(train_acc)\n",
    "        history['train_loss'].append(train_loss)\n",
    "        history['val_acc'].append(val_acc)\n",
    "        history['val_loss'].append(val_loss)\n",
    "\n",
    "        if val_acc > best_accuracy:\n",
    "            if not os.path.exists(model_save_path):\n",
    "                os.makedirs(model_save_path)\n",
    "            torch.save(model.state_dict(), os.path.join(model_save_path, 'model_state.bin'))\n",
    "            print(f\"Model saved to {model_save_path}\")\n",
    "            best_accuracy = val_acc\n",
    "        \n",
    "        print(f'Epochs: {epoch_num + 1} | Train Loss: {train_loss: .3f} | Train Accuracy: {train_acc: .3f} | Val Loss: {val_loss: .3f} | Val Accuracy: {val_acc: .3f}')\n",
    "\n",
    "    end_time = time.time()\n",
    "    total_train_time = end_time - start_time\n",
    "\n",
    "    print(f\"Total training time: {total_train_time:.2f} seconds\")\n",
    "    torch.cuda.empty_cache()\n",
    "    return history\n",
    "\n",
    "EPOCHS = 20\n",
    "model = BertClassifier()\n",
    "LR = 1e-6\n",
    "model_save_path = './model2_task2_feature1_model(unfrozen)'\n",
    "\n",
    "train(model, df_train, df_valid, LR, EPOCHS, model_save_path)\n",
    "torch.cuda.empty_cache()"
   ]
  },
  {
   "cell_type": "code",
   "execution_count": 22,
   "metadata": {},
   "outputs": [
    {
     "data": {
      "image/png": "[encoded data removed]",
      "text/plain": [
       "<Figure size 1000x700 with 1 Axes>"
      ]
     },
     "metadata": {},
     "output_type": "display_data"
    }
   ],
   "source": [
    "import matplotlib.pyplot as plt\n",
    "\n",
    "plt.rcParams[\"figure.figsize\"] = (10,7)\n",
    "plt.plot(history['train_acc'], label='train accuracy')\n",
    "plt.plot(history['val_acc'], label='validation accuracy')\n",
    "plt.title('Training history')\n",
    "plt.ylabel('Accuracy')\n",
    "plt.xlabel('Epoch')\n",
    "plt.legend()\n",
    "plt.ylim([0, 1])\n",
    "plt.grid()"
   ]
  },
  {
   "cell_type": "code",
   "execution_count": 23,
   "metadata": {},
   "outputs": [
    {
     "name": "stderr",
     "output_type": "stream",
     "text": [
      "c:\\Users\\julev\\anaconda3\\envs\\cudaEnv\\Lib\\site-packages\\huggingface_hub\\file_download.py:1132: FutureWarning: `resume_download` is deprecated and will be removed in version 1.0.0. Downloads always resume when possible. If you want to force a new download, use `force_download=True`.\n",
      "  warnings.warn(\n"
     ]
    }
   ],
   "source": [
    "# Loading pretrained model (best model)\n",
    "model_load_path = './model2_task2_feature1_model(unfrozen)'\n",
    "model = BertClassifier()\n",
    "model.load_state_dict(torch.load(os.path.join(model_load_path, 'model_state.bin')))\n",
    "model = model.to(device)"
   ]
  },
  {
   "cell_type": "code",
   "execution_count": 24,
   "metadata": {},
   "outputs": [],
   "source": [
    "test_data_loader = torch.utils.data.DataLoader(df_test, batch_size=8, shuffle=False)\n"
   ]
  },
  {
   "cell_type": "code",
   "execution_count": 25,
   "metadata": {},
   "outputs": [
    {
     "name": "stderr",
     "output_type": "stream",
     "text": [
      "Evaluating: 100%|██████████| 1502/1502 [00:48<00:00, 30.87it/s]"
     ]
    },
    {
     "name": "stdout",
     "output_type": "stream",
     "text": [
      "Test Loss: 0.074 | Test Accuracy: 0.984\n"
     ]
    },
    {
     "name": "stderr",
     "output_type": "stream",
     "text": [
      "\n"
     ]
    }
   ],
   "source": [
    "torch.cuda.empty_cache()\n",
    "def evaluate(model, test_data):\n",
    "    test = Dataset(test_data)\n",
    "    test_dataloader = torch.utils.data.DataLoader(test, batch_size=2)\n",
    "\n",
    "    use_cuda = torch.cuda.is_available()\n",
    "    device = torch.device(\"cuda\" if use_cuda else \"cpu\")\n",
    "\n",
    "    if use_cuda:\n",
    "        model = model.cuda()\n",
    "\n",
    "    criterion = nn.CrossEntropyLoss()\n",
    "    total_acc_test = 0\n",
    "    total_loss_test = 0\n",
    "    model.eval()\n",
    "\n",
    "    with torch.no_grad():\n",
    "        for test_input, test_label in tqdm(test_dataloader, desc=\"Evaluating\"):\n",
    "            test_label = test_label.to(device, dtype=torch.long)  # Ensure labels are of type long\n",
    "            mask = test_input['attention_mask'].to(device)\n",
    "            input_id = test_input['input_ids'].squeeze(1).to(device)\n",
    "\n",
    "            output = model(input_id, mask)\n",
    "\n",
    "            loss = criterion(output, test_label)\n",
    "            total_loss_test += loss.item()\n",
    "\n",
    "            acc = (output.argmax(dim=1) == test_label).sum().item()\n",
    "            total_acc_test += acc\n",
    "\n",
    "    avg_loss_test = total_loss_test / len(test_dataloader)\n",
    "    avg_acc_test = total_acc_test / len(test_data)\n",
    "\n",
    "    print(f'Test Loss: {avg_loss_test:.3f} | Test Accuracy: {avg_acc_test:.3f}')\n",
    "evaluate(model, df_test)\n",
    "\n",
    "# labels = {'lexapro':0,\n",
    "#           'zoloft':1,\n",
    "#           'cymbalta':2,\n",
    "#           'effexorxr':3\n",
    "#           }"
   ]
  },
  {
   "cell_type": "code",
   "execution_count": 26,
   "metadata": {},
   "outputs": [
    {
     "name": "stderr",
     "output_type": "stream",
     "text": [
      "100%|██████████| 1502/1502 [00:48<00:00, 31.01it/s]"
     ]
    },
    {
     "name": "stdout",
     "output_type": "stream",
     "text": [
      "              precision    recall  f1-score   support\n",
      "\n",
      "           0       1.00      0.97      0.98       720\n",
      "           1       0.97      0.99      0.98       632\n",
      "           2       0.98      0.99      0.98       871\n",
      "           3       0.99      0.98      0.99       781\n",
      "\n",
      "    accuracy                           0.98      3004\n",
      "   macro avg       0.98      0.98      0.98      3004\n",
      "weighted avg       0.98      0.98      0.98      3004\n",
      "\n"
     ]
    },
    {
     "name": "stderr",
     "output_type": "stream",
     "text": [
      "\n"
     ]
    }
   ],
   "source": [
    "import torch\n",
    "from torch.utils.data import DataLoader\n",
    "from tqdm import tqdm\n",
    "\n",
    "def get_prediction(model, dataloader):\n",
    "    use_cuda = torch.cuda.is_available()\n",
    "    device = torch.device('cuda') if use_cuda else torch.device('cpu')\n",
    "\n",
    "    if use_cuda:\n",
    "        model = model.cuda()\n",
    "\n",
    "    model.eval()\n",
    "\n",
    "    predictions = []\n",
    "    true_labels = []\n",
    "\n",
    "    with torch.no_grad():\n",
    "        for data_input, data_label in tqdm(dataloader):\n",
    "            data_label = data_label.to(device)\n",
    "            mask = data_input['attention_mask'].squeeze(1).to(device)\n",
    "            input_id = data_input['input_ids'].squeeze(1).to(device)\n",
    "\n",
    "            output = model(input_id, mask)\n",
    "            preds = output.argmax(dim=1)\n",
    "\n",
    "            predictions.extend(preds.cpu().numpy())\n",
    "            true_labels.extend(data_label.cpu().numpy())\n",
    "\n",
    "    return predictions, true_labels\n",
    "\n",
    "# Example usage\n",
    "# Assuming df_test is a DataFrame containing test data with columns 'drug_name' and 'transformed_sentences'\n",
    "test_dataset = Dataset(df_test)\n",
    "test_dataloader = DataLoader(test_dataset, batch_size=2, shuffle=False)\n",
    "\n",
    "# Load the best saved model\n",
    "model.load_state_dict(torch.load(os.path.join(model_save_path, 'model_state.bin')))\n",
    "\n",
    "# Get predictions\n",
    "predictions, true_labels = get_prediction(model, test_dataloader)\n",
    "\n",
    "# You can then compare the predictions with the true labels or use them for further evaluation\n",
    "from sklearn.metrics import classification_report\n",
    "\n",
    "print(classification_report(true_labels, predictions))"
   ]
  },
  {
   "cell_type": "markdown",
   "metadata": {},
   "source": [
    "## Feature 2"
   ]
  },
  {
   "cell_type": "code",
   "execution_count": 27,
   "metadata": {},
   "outputs": [
    {
     "name": "stdout",
     "output_type": "stream",
     "text": [
      "  (0, 2183)\t0.3560733570424169\n",
      "  (0, 2858)\t0.5335210557775061\n",
      "  (0, 2980)\t0.33695305203929327\n",
      "  (0, 4715)\t0.3577130194209486\n",
      "  (0, 4193)\t0.36113778160835414\n",
      "  (0, 2071)\t0.2627216248356759\n",
      "  (0, 5156)\t0.2390135798252401\n",
      "  (0, 1829)\t0.30083291559032393\n",
      "  (1, 2765)\t0.4585168729312828\n",
      "  (1, 1351)\t0.8886857021677111\n",
      "  (2, 2263)\t0.2708094866549267\n",
      "  (2, 4586)\t0.4316846093641784\n",
      "  (2, 5071)\t0.44358904667953863\n",
      "  (2, 4827)\t0.2570546169681927\n",
      "  (2, 3078)\t0.23875893121623276\n",
      "  (2, 4151)\t0.3207489298964512\n",
      "  (2, 1492)\t0.29911785906957045\n",
      "  (2, 1201)\t0.35264280744022497\n",
      "  (2, 4287)\t0.3220996041881179\n",
      "  (3, 4012)\t0.534375375933816\n",
      "  (3, 3326)\t0.5729355939201095\n",
      "  (3, 1018)\t0.39488574070665183\n",
      "  (3, 1237)\t0.3054771887014283\n",
      "  (3, 5)\t0.3700495936825698\n",
      "  (4, 4801)\t0.3601630582861626\n",
      "  :\t:\n",
      "  (6006, 3810)\t0.266723700884449\n",
      "  (6006, 278)\t0.30278988091992165\n",
      "  (6006, 4033)\t0.24160419308016043\n",
      "  (6006, 1558)\t0.24160419308016043\n",
      "  (6006, 2821)\t0.21617383387506503\n",
      "  (6006, 3470)\t0.20987895271102364\n",
      "  (6006, 1390)\t0.23609327417139986\n",
      "  (6006, 2098)\t0.1721949331238259\n",
      "  (6006, 2792)\t0.15461917912599263\n",
      "  (6007, 5221)\t0.40690224630890753\n",
      "  (6007, 1388)\t0.36244934695018927\n",
      "  (6007, 2358)\t0.40690224630890753\n",
      "  (6007, 987)\t0.36244934695018927\n",
      "  (6007, 5165)\t0.28822766104713454\n",
      "  (6007, 2896)\t0.29736053264983103\n",
      "  (6007, 1619)\t0.26742602182403663\n",
      "  (6007, 1809)\t0.3151406469723878\n",
      "  (6007, 2777)\t0.25257333627086354\n",
      "  (6008, 3452)\t0.462967378880836\n",
      "  (6008, 4290)\t0.4133719291682648\n",
      "  (6008, 1695)\t0.41770974043639536\n",
      "  (6008, 3642)\t0.462967378880836\n",
      "  (6008, 186)\t0.3151272227530411\n",
      "  (6008, 2777)\t0.24953491233016006\n",
      "  (6008, 5269)\t0.25375538243161966\n",
      "Number of Drug Types: 4\n",
      "          id  comment_id        drug_id  sentence_index  \\\n",
      "0        1.0         1.0      lexapro.1             1.0   \n",
      "1        2.0         1.0      lexapro.1             2.0   \n",
      "2        3.0         1.0      lexapro.1             3.0   \n",
      "3        4.0         1.0      lexapro.1             4.0   \n",
      "4        5.0         1.0      lexapro.1             5.0   \n",
      "...      ...         ...            ...             ...   \n",
      "6004  1545.0       228.0  effexorxr.228            14.0   \n",
      "6005  1546.0       228.0  effexorxr.228            15.0   \n",
      "6006  1547.0       228.0  effexorxr.228            16.0   \n",
      "6007  1548.0       228.0  effexorxr.228            17.0   \n",
      "6008  1549.0       228.0  effexorxr.228            18.0   \n",
      "\n",
      "                                              sentences  ADR   WD   EF  INF  \\\n",
      "0     extreme weight gain short-term memory loss hai...  1.0  0.0  0.0  0.0   \n",
      "1                                      detoxing lexapro  0.0  0.0  0.0  0.0   \n",
      "2     slowly cut dosage several months took vitamin ...  0.0  0.0  0.0  0.0   \n",
      "3                          10 days completely omg rough  0.0  0.0  0.0  0.0   \n",
      "4     flu-like symptoms dizziness major mood swings ...  0.0  1.0  0.0  0.0   \n",
      "...                                                 ...  ...  ...  ...  ...   \n",
      "6004                                increase dosage yet  0.0  0.0  0.0  0.0   \n",
      "6005           'm hoping able stay 75 mgs long possible  0.0  0.0  0.0  0.0   \n",
      "6006  reading withdrawals little scarey like said pe...  0.0  0.0  0.0  0.0   \n",
      "6007  effexor made huge difference life come experie...  0.0  0.0  1.0  0.0   \n",
      "6008              would small price pay able enjoy life  0.0  0.0  1.0  0.0   \n",
      "\n",
      "      SSI DI  Findings  others  rating category  drug_name  \n",
      "0     0.0  0       0.0       0     1.0     ssri    lexapro  \n",
      "1     0.0  0       0.0       0     1.0     ssri    lexapro  \n",
      "2     0.0  0       0.0       1     1.0     ssri    lexapro  \n",
      "3     0.0  0       0.0       1     1.0     ssri    lexapro  \n",
      "4     0.0  0       0.0       0     1.0     ssri    lexapro  \n",
      "...   ... ..       ...     ...     ...      ...        ...  \n",
      "6004  0.0  0       0.0       1     5.0     snri  effexorxr  \n",
      "6005  0.0  0       0.0       1     5.0     snri  effexorxr  \n",
      "6006  0.0  0       0.0       1     5.0     snri  effexorxr  \n",
      "6007  0.0  0       0.0       0     5.0     snri  effexorxr  \n",
      "6008  0.0  0       0.0       0     5.0     snri  effexorxr  \n",
      "\n",
      "[6009 rows x 16 columns]\n"
     ]
    }
   ],
   "source": [
    "import nltk\n",
    "import string\n",
    "from sklearn.feature_extraction.text import TfidfVectorizer\n",
    "\n",
    "def preprocess(text):\n",
    "    text=str(text)\n",
    "    tokens=nltk.word_tokenize(text.lower())\n",
    "    tokens_clean=[t for t in tokens if (t not in stop_words) and (t not in punctuations)]\n",
    "    return ' '.join(tokens_clean)\n",
    "    \n",
    "stop_words=nltk.corpus.stopwords.words('english')\n",
    "punctuations=string.punctuation\n",
    "\n",
    "df=data.parse('Sentence_Labeling')\n",
    "df.drop(df.tail(1).index,inplace=True)\n",
    "df['drug_id']=df['drug_id'].str.lower()\n",
    "df['drug_name']=df['drug_id'].str.replace(r'\\.\\d+','',regex=True)\n",
    "df['sentences']=df['sentences'].apply(preprocess)\n",
    "df.fillna(0,inplace=True)\n",
    "unique_drug_count=df['drug_name'].nunique()\n",
    "\n",
    "tfidf=TfidfVectorizer()\n",
    "tfidfSentences=tfidf.fit_transform(df['sentences'])\n",
    "\n",
    "print(tfidfSentences)\n",
    "\n",
    "print('Number of Drug Types:',unique_drug_count)\n",
    "print(df)\n",
    "\n",
    "## ADR: adverse drug reaction\n",
    "## WD: withdrawal symptom\n",
    "## EF: effective\n",
    "## INF: ineffective\n",
    "## SSI: Sign/symptom/illness - if report contains explicit SSI that patient experienced that are not a result of the drug\n",
    "## DI: drug indication - shows SSI that explicitly mentioned as being resolved because of drug consumption\n",
    "\n",
    "# ## This one is just for the text without transformed sentences -- Task 2 Feature 2\n",
    "df_word_label=df\n",
    "\n",
    "\n",
    "# x = df_word_label['sentences'].values\n",
    "# y = df_word_label['drug_name'].astype('category').cat.codes.values\n",
    "df_word_label.drop(columns=[\"id\", \"comment_id\", \"drug_id\", \"sentence_index\", \"Findings\", \"others\", \"rating\", \"category\", \"ADR\", \"WD\", \"EF\", \"INF\", \"SSI\", \"DI\"], axis=1, inplace=True)\n",
    "df_word_label = df_word_label[['sentences', 'drug_name']]\n",
    "\n",
    "# Split data\n",
    "df_train, df_test = train_test_split(df_word_label, random_state=42, test_size=0.10, shuffle=True)\n",
    "# split test into test and validation datasets\n",
    "df_test, df_valid = train_test_split(df_word_label, random_state=42, test_size=0.50, shuffle=True)"
   ]
  },
  {
   "cell_type": "code",
   "execution_count": 28,
   "metadata": {},
   "outputs": [
    {
     "name": "stderr",
     "output_type": "stream",
     "text": [
      "c:\\Users\\julev\\anaconda3\\envs\\cudaEnv\\Lib\\site-packages\\huggingface_hub\\file_download.py:1132: FutureWarning: `resume_download` is deprecated and will be removed in version 1.0.0. Downloads always resume when possible. If you want to force a new download, use `force_download=True`.\n",
      "  warnings.warn(\n"
     ]
    }
   ],
   "source": [
    "tokenizer = BertTokenizer.from_pretrained('bert-base-cased')\n",
    "labels = {'lexapro':0,\n",
    "          'zoloft':1,\n",
    "          'cymbalta':2,\n",
    "          'effexorxr':3\n",
    "          }\n",
    "\n",
    "class Dataset(torch.utils.data.Dataset):\n",
    "\n",
    "    def __init__(self, df):\n",
    "\n",
    "        self.labels = [labels[label] for label in df['drug_name']]\n",
    "        self.texts = [tokenizer(text, \n",
    "                               padding='max_length', max_length = 512, truncation=True,\n",
    "                                return_tensors=\"pt\") for text in df['sentences']]\n",
    "                                ## change the df[''] depending on the feature\n",
    "\n",
    "    def classes(self):\n",
    "        return self.labels\n",
    "\n",
    "    def __len__(self):\n",
    "        return len(self.labels)\n",
    "\n",
    "    def get_batch_labels(self, idx):\n",
    "        # Fetch a batch of labels\n",
    "        return np.array(self.labels[idx])\n",
    "\n",
    "    def get_batch_texts(self, idx):\n",
    "        # Fetch a batch of inputs\n",
    "        return self.texts[idx]\n",
    "\n",
    "    def __getitem__(self, idx):\n",
    "\n",
    "        batch_texts = self.get_batch_texts(idx)\n",
    "        batch_y = self.get_batch_labels(idx)\n",
    "\n",
    "        return batch_texts, batch_y"
   ]
  },
  {
   "cell_type": "code",
   "execution_count": 29,
   "metadata": {},
   "outputs": [],
   "source": [
    "class BertClassifier(nn.Module):\n",
    "\n",
    "    def __init__(self, dropout=0.5):\n",
    "\n",
    "        super(BertClassifier, self).__init__()\n",
    "\n",
    "        self.bert = BertModel.from_pretrained('bert-base-cased')\n",
    "        self.dropout = nn.Dropout(dropout)\n",
    "        self.linear = nn.Linear(768, 5)\n",
    "        self.relu = nn.ReLU()\n",
    "\n",
    "    def forward(self, input_id, mask):\n",
    "\n",
    "        _, pooled_output = self.bert(input_ids= input_id, attention_mask=mask,return_dict=False)\n",
    "        dropout_output = self.dropout(pooled_output)\n",
    "        linear_output = self.linear(dropout_output)\n",
    "        final_layer = self.relu(linear_output)\n",
    "\n",
    "        return final_layer"
   ]
  },
  {
   "cell_type": "code",
   "execution_count": 30,
   "metadata": {},
   "outputs": [
    {
     "name": "stderr",
     "output_type": "stream",
     "text": [
      "100%|██████████| 2704/2704 [04:40<00:00,  9.65it/s]\n"
     ]
    },
    {
     "name": "stdout",
     "output_type": "stream",
     "text": [
      "Model saved to ./model2_task2_feature2_model(unfrozen)\n",
      "Epochs: 1 | Train Loss:  0.806 | Train Accuracy:  0.242 | Val Loss:  0.804 | Val Accuracy:  0.250\n"
     ]
    },
    {
     "name": "stderr",
     "output_type": "stream",
     "text": [
      "100%|██████████| 2704/2704 [04:40<00:00,  9.65it/s]\n"
     ]
    },
    {
     "name": "stdout",
     "output_type": "stream",
     "text": [
      "Model saved to ./model2_task2_feature2_model(unfrozen)\n",
      "Epochs: 2 | Train Loss:  0.792 | Train Accuracy:  0.267 | Val Loss:  0.774 | Val Accuracy:  0.310\n"
     ]
    },
    {
     "name": "stderr",
     "output_type": "stream",
     "text": [
      "100%|██████████| 2704/2704 [04:40<00:00,  9.64it/s]\n"
     ]
    },
    {
     "name": "stdout",
     "output_type": "stream",
     "text": [
      "Model saved to ./model2_task2_feature2_model(unfrozen)\n",
      "Epochs: 3 | Train Loss:  0.729 | Train Accuracy:  0.352 | Val Loss:  0.681 | Val Accuracy:  0.397\n"
     ]
    },
    {
     "name": "stderr",
     "output_type": "stream",
     "text": [
      "100%|██████████| 2704/2704 [04:40<00:00,  9.62it/s]\n"
     ]
    },
    {
     "name": "stdout",
     "output_type": "stream",
     "text": [
      "Model saved to ./model2_task2_feature2_model(unfrozen)\n",
      "Epochs: 4 | Train Loss:  0.649 | Train Accuracy:  0.429 | Val Loss:  0.625 | Val Accuracy:  0.460\n"
     ]
    },
    {
     "name": "stderr",
     "output_type": "stream",
     "text": [
      "100%|██████████| 2704/2704 [04:40<00:00,  9.62it/s]\n"
     ]
    },
    {
     "name": "stdout",
     "output_type": "stream",
     "text": [
      "Model saved to ./model2_task2_feature2_model(unfrozen)\n",
      "Epochs: 5 | Train Loss:  0.586 | Train Accuracy:  0.512 | Val Loss:  0.568 | Val Accuracy:  0.550\n"
     ]
    },
    {
     "name": "stderr",
     "output_type": "stream",
     "text": [
      "100%|██████████| 2704/2704 [04:40<00:00,  9.63it/s]\n"
     ]
    },
    {
     "name": "stdout",
     "output_type": "stream",
     "text": [
      "Model saved to ./model2_task2_feature2_model(unfrozen)\n",
      "Epochs: 6 | Train Loss:  0.512 | Train Accuracy:  0.612 | Val Loss:  0.492 | Val Accuracy:  0.650\n"
     ]
    },
    {
     "name": "stderr",
     "output_type": "stream",
     "text": [
      "100%|██████████| 2704/2704 [04:40<00:00,  9.64it/s]\n"
     ]
    },
    {
     "name": "stdout",
     "output_type": "stream",
     "text": [
      "Model saved to ./model2_task2_feature2_model(unfrozen)\n",
      "Epochs: 7 | Train Loss:  0.416 | Train Accuracy:  0.728 | Val Loss:  0.412 | Val Accuracy:  0.740\n"
     ]
    },
    {
     "name": "stderr",
     "output_type": "stream",
     "text": [
      "100%|██████████| 2704/2704 [04:40<00:00,  9.64it/s]\n"
     ]
    },
    {
     "name": "stdout",
     "output_type": "stream",
     "text": [
      "Model saved to ./model2_task2_feature2_model(unfrozen)\n",
      "Epochs: 8 | Train Loss:  0.314 | Train Accuracy:  0.826 | Val Loss:  0.359 | Val Accuracy:  0.787\n"
     ]
    },
    {
     "name": "stderr",
     "output_type": "stream",
     "text": [
      "100%|██████████| 2704/2704 [04:40<00:00,  9.64it/s]\n"
     ]
    },
    {
     "name": "stdout",
     "output_type": "stream",
     "text": [
      "Model saved to ./model2_task2_feature2_model(unfrozen)\n",
      "Epochs: 9 | Train Loss:  0.221 | Train Accuracy:  0.898 | Val Loss:  0.312 | Val Accuracy:  0.827\n"
     ]
    },
    {
     "name": "stderr",
     "output_type": "stream",
     "text": [
      "100%|██████████| 2704/2704 [04:40<00:00,  9.65it/s]\n"
     ]
    },
    {
     "name": "stdout",
     "output_type": "stream",
     "text": [
      "Model saved to ./model2_task2_feature2_model(unfrozen)\n",
      "Epochs: 10 | Train Loss:  0.155 | Train Accuracy:  0.936 | Val Loss:  0.279 | Val Accuracy:  0.845\n"
     ]
    },
    {
     "name": "stderr",
     "output_type": "stream",
     "text": [
      "100%|██████████| 2704/2704 [04:40<00:00,  9.64it/s]\n"
     ]
    },
    {
     "name": "stdout",
     "output_type": "stream",
     "text": [
      "Model saved to ./model2_task2_feature2_model(unfrozen)\n",
      "Epochs: 11 | Train Loss:  0.110 | Train Accuracy:  0.955 | Val Loss:  0.262 | Val Accuracy:  0.852\n"
     ]
    },
    {
     "name": "stderr",
     "output_type": "stream",
     "text": [
      "100%|██████████| 2704/2704 [04:40<00:00,  9.63it/s]\n"
     ]
    },
    {
     "name": "stdout",
     "output_type": "stream",
     "text": [
      "Model saved to ./model2_task2_feature2_model(unfrozen)\n",
      "Epochs: 12 | Train Loss:  0.082 | Train Accuracy:  0.966 | Val Loss:  0.263 | Val Accuracy:  0.854\n"
     ]
    },
    {
     "name": "stderr",
     "output_type": "stream",
     "text": [
      "100%|██████████| 2704/2704 [04:41<00:00,  9.62it/s]\n"
     ]
    },
    {
     "name": "stdout",
     "output_type": "stream",
     "text": [
      "Epochs: 13 | Train Loss:  0.064 | Train Accuracy:  0.971 | Val Loss:  0.268 | Val Accuracy:  0.854\n"
     ]
    },
    {
     "name": "stderr",
     "output_type": "stream",
     "text": [
      "100%|██████████| 2704/2704 [04:40<00:00,  9.63it/s]\n"
     ]
    },
    {
     "name": "stdout",
     "output_type": "stream",
     "text": [
      "Model saved to ./model2_task2_feature2_model(unfrozen)\n",
      "Epochs: 14 | Train Loss:  0.054 | Train Accuracy:  0.974 | Val Loss:  0.273 | Val Accuracy:  0.855\n"
     ]
    },
    {
     "name": "stderr",
     "output_type": "stream",
     "text": [
      "100%|██████████| 2704/2704 [04:40<00:00,  9.64it/s]\n"
     ]
    },
    {
     "name": "stdout",
     "output_type": "stream",
     "text": [
      "Epochs: 15 | Train Loss:  0.048 | Train Accuracy:  0.974 | Val Loss:  0.271 | Val Accuracy:  0.853\n"
     ]
    },
    {
     "name": "stderr",
     "output_type": "stream",
     "text": [
      "100%|██████████| 2704/2704 [04:40<00:00,  9.65it/s]\n"
     ]
    },
    {
     "name": "stdout",
     "output_type": "stream",
     "text": [
      "Model saved to ./model2_task2_feature2_model(unfrozen)\n",
      "Epochs: 16 | Train Loss:  0.041 | Train Accuracy:  0.978 | Val Loss:  0.275 | Val Accuracy:  0.857\n"
     ]
    },
    {
     "name": "stderr",
     "output_type": "stream",
     "text": [
      "100%|██████████| 2704/2704 [04:40<00:00,  9.64it/s]\n"
     ]
    },
    {
     "name": "stdout",
     "output_type": "stream",
     "text": [
      "Model saved to ./model2_task2_feature2_model(unfrozen)\n",
      "Epochs: 17 | Train Loss:  0.038 | Train Accuracy:  0.978 | Val Loss:  0.277 | Val Accuracy:  0.858\n"
     ]
    },
    {
     "name": "stderr",
     "output_type": "stream",
     "text": [
      "100%|██████████| 2704/2704 [04:40<00:00,  9.63it/s]\n"
     ]
    },
    {
     "name": "stdout",
     "output_type": "stream",
     "text": [
      "Model saved to ./model2_task2_feature2_model(unfrozen)\n",
      "Epochs: 18 | Train Loss:  0.038 | Train Accuracy:  0.977 | Val Loss:  0.277 | Val Accuracy:  0.861\n"
     ]
    },
    {
     "name": "stderr",
     "output_type": "stream",
     "text": [
      "100%|██████████| 2704/2704 [04:40<00:00,  9.62it/s]\n"
     ]
    },
    {
     "name": "stdout",
     "output_type": "stream",
     "text": [
      "Model saved to ./model2_task2_feature2_model(unfrozen)\n",
      "Epochs: 19 | Train Loss:  0.033 | Train Accuracy:  0.980 | Val Loss:  0.278 | Val Accuracy:  0.861\n"
     ]
    },
    {
     "name": "stderr",
     "output_type": "stream",
     "text": [
      "100%|██████████| 2704/2704 [04:40<00:00,  9.63it/s]\n"
     ]
    },
    {
     "name": "stdout",
     "output_type": "stream",
     "text": [
      "Epochs: 20 | Train Loss:  0.031 | Train Accuracy:  0.979 | Val Loss:  0.289 | Val Accuracy:  0.855\n",
      "Total training time: 6587.32 seconds\n"
     ]
    }
   ],
   "source": [
    "import os\n",
    "from collections import defaultdict\n",
    "import time\n",
    "\n",
    "history = defaultdict(list)\n",
    "torch.cuda.empty_cache()\n",
    "def train(model, train_data, val_data, learning_rate, epochs, model_save_path):\n",
    "\n",
    "    train, val = Dataset(train_data), Dataset(val_data)\n",
    "\n",
    "    train_dataloader = torch.utils.data.DataLoader(train, batch_size=2, shuffle=True)\n",
    "    val_dataloader = torch.utils.data.DataLoader(val, batch_size=2, shuffle=True)\n",
    "\n",
    "    use_cuda = torch.cuda.is_available()\n",
    "    device = torch.device('cuda') if torch.cuda.is_available() else torch.device('cpu')\n",
    "\n",
    "    criterion = nn.CrossEntropyLoss()\n",
    "    optimizer = Adam(model.parameters(), lr=learning_rate)\n",
    "\n",
    "    if use_cuda:\n",
    "        model = model.cuda()\n",
    "        criterion = criterion.cuda()\n",
    "    best_accuracy = 0\n",
    "\n",
    "    start_time = time.time()\n",
    "\n",
    "    for epoch_num in range(epochs):\n",
    "\n",
    "        total_acc_train = 0\n",
    "        total_loss_train = 0\n",
    "\n",
    "        for train_input, train_label in tqdm(train_dataloader):\n",
    "\n",
    "            train_label = train_label.to(device)\n",
    "            mask = train_input['attention_mask'].to(device)\n",
    "            input_id = train_input['input_ids'].squeeze(1).to(device)\n",
    "\n",
    "            output = model(input_id, mask)\n",
    "            \n",
    "            batch_loss = criterion(output, train_label.long())\n",
    "            total_loss_train += batch_loss.item()\n",
    "            \n",
    "            acc = (output.argmax(dim=1) == train_label).sum().item()\n",
    "            total_acc_train += acc\n",
    "\n",
    "            model.zero_grad()\n",
    "            batch_loss.backward()\n",
    "            optimizer.step()\n",
    "        \n",
    "        total_acc_val = 0\n",
    "        total_loss_val = 0\n",
    "\n",
    "        with torch.no_grad():\n",
    "\n",
    "            for val_input, val_label in val_dataloader:\n",
    "\n",
    "                val_label = val_label.to(device)\n",
    "                mask = val_input['attention_mask'].to(device)\n",
    "                input_id = val_input['input_ids'].squeeze(1).to(device)\n",
    "\n",
    "                output = model(input_id, mask)\n",
    "\n",
    "                batch_loss = criterion(output, val_label.long())\n",
    "                total_loss_val += batch_loss.item()\n",
    "                \n",
    "                acc = (output.argmax(dim=1) == val_label).sum().item()\n",
    "                total_acc_val += acc\n",
    "        \n",
    "        train_acc = total_acc_train / len(train_data)\n",
    "        train_loss = total_loss_train / len(train_data)\n",
    "        val_acc = total_acc_val / len(val_data)\n",
    "        val_loss = total_loss_val / len(val_data)\n",
    "\n",
    "        history['train_acc'].append(train_acc)\n",
    "        history['train_loss'].append(train_loss)\n",
    "        history['val_acc'].append(val_acc)\n",
    "        history['val_loss'].append(val_loss)\n",
    "\n",
    "        if val_acc > best_accuracy:\n",
    "            if not os.path.exists(model_save_path):\n",
    "                os.makedirs(model_save_path)\n",
    "            torch.save(model.state_dict(), os.path.join(model_save_path, 'model_state.bin'))\n",
    "            print(f\"Model saved to {model_save_path}\")\n",
    "            best_accuracy = val_acc\n",
    "        \n",
    "        print(f'Epochs: {epoch_num + 1} | Train Loss: {train_loss: .3f} | Train Accuracy: {train_acc: .3f} | Val Loss: {val_loss: .3f} | Val Accuracy: {val_acc: .3f}')\n",
    "\n",
    "    end_time = time.time()\n",
    "    total_train_time = end_time - start_time\n",
    "\n",
    "    print(f\"Total training time: {total_train_time:.2f} seconds\")\n",
    "    torch.cuda.empty_cache()\n",
    "    return history\n",
    "\n",
    "EPOCHS = 20\n",
    "model = BertClassifier()\n",
    "LR = 1e-6\n",
    "model_save_path = './model2_task2_feature2_model(unfrozen)'\n",
    "\n",
    "train(model, df_train, df_valid, LR, EPOCHS, model_save_path)\n",
    "torch.cuda.empty_cache()"
   ]
  },
  {
   "cell_type": "code",
   "execution_count": 31,
   "metadata": {},
   "outputs": [
    {
     "data": {
      "image/png": "[encoded data removed]",
      "text/plain": [
       "<Figure size 1000x700 with 1 Axes>"
      ]
     },
     "metadata": {},
     "output_type": "display_data"
    }
   ],
   "source": [
    "import matplotlib.pyplot as plt\n",
    "\n",
    "plt.rcParams[\"figure.figsize\"] = (10,7)\n",
    "plt.plot(history['train_acc'], label='train accuracy')\n",
    "plt.plot(history['val_acc'], label='validation accuracy')\n",
    "plt.title('Training history')\n",
    "plt.ylabel('Accuracy')\n",
    "plt.xlabel('Epoch')\n",
    "plt.legend()\n",
    "plt.ylim([0, 1])\n",
    "plt.grid()"
   ]
  },
  {
   "cell_type": "code",
   "execution_count": 32,
   "metadata": {},
   "outputs": [],
   "source": [
    "# Loading pretrained model (best model)\n",
    "model_load_path = './model2_task2_feature2_model(unfrozen)'\n",
    "model = BertClassifier()\n",
    "model.load_state_dict(torch.load(os.path.join(model_load_path, 'model_state.bin')))\n",
    "model = model.to(device)"
   ]
  },
  {
   "cell_type": "code",
   "execution_count": 33,
   "metadata": {},
   "outputs": [],
   "source": [
    "test_data_loader = torch.utils.data.DataLoader(df_test, batch_size=8, shuffle=False)\n"
   ]
  },
  {
   "cell_type": "code",
   "execution_count": 34,
   "metadata": {},
   "outputs": [
    {
     "name": "stderr",
     "output_type": "stream",
     "text": [
      "Evaluating: 100%|██████████| 1502/1502 [00:48<00:00, 30.86it/s]"
     ]
    },
    {
     "name": "stdout",
     "output_type": "stream",
     "text": [
      "Test Loss: 0.048 | Test Accuracy: 0.984\n"
     ]
    },
    {
     "name": "stderr",
     "output_type": "stream",
     "text": [
      "\n"
     ]
    }
   ],
   "source": [
    "torch.cuda.empty_cache()\n",
    "def evaluate(model, test_data):\n",
    "    test = Dataset(test_data)\n",
    "    test_dataloader = torch.utils.data.DataLoader(test, batch_size=2)\n",
    "\n",
    "    use_cuda = torch.cuda.is_available()\n",
    "    device = torch.device(\"cuda\" if use_cuda else \"cpu\")\n",
    "\n",
    "    if use_cuda:\n",
    "        model = model.cuda()\n",
    "\n",
    "    criterion = nn.CrossEntropyLoss()\n",
    "    total_acc_test = 0\n",
    "    total_loss_test = 0\n",
    "    model.eval()\n",
    "\n",
    "    with torch.no_grad():\n",
    "        for test_input, test_label in tqdm(test_dataloader, desc=\"Evaluating\"):\n",
    "            test_label = test_label.to(device, dtype=torch.long)  # Ensure labels are of type long\n",
    "            mask = test_input['attention_mask'].to(device)\n",
    "            input_id = test_input['input_ids'].squeeze(1).to(device)\n",
    "\n",
    "            output = model(input_id, mask)\n",
    "\n",
    "            loss = criterion(output, test_label)\n",
    "            total_loss_test += loss.item()\n",
    "\n",
    "            acc = (output.argmax(dim=1) == test_label).sum().item()\n",
    "            total_acc_test += acc\n",
    "\n",
    "    avg_loss_test = total_loss_test / len(test_dataloader)\n",
    "    avg_acc_test = total_acc_test / len(test_data)\n",
    "\n",
    "    print(f'Test Loss: {avg_loss_test:.3f} | Test Accuracy: {avg_acc_test:.3f}')\n",
    "evaluate(model, df_test)\n",
    "\n",
    "# labels = {'lexapro':0,\n",
    "#           'zoloft':1,\n",
    "#           'cymbalta':2,\n",
    "#           'effexorxr':3\n",
    "#           }"
   ]
  },
  {
   "cell_type": "code",
   "execution_count": 35,
   "metadata": {},
   "outputs": [
    {
     "name": "stderr",
     "output_type": "stream",
     "text": [
      "100%|██████████| 1502/1502 [00:48<00:00, 30.95it/s]"
     ]
    },
    {
     "name": "stdout",
     "output_type": "stream",
     "text": [
      "              precision    recall  f1-score   support\n",
      "\n",
      "           0       0.98      0.99      0.98       720\n",
      "           1       0.98      0.98      0.98       632\n",
      "           2       1.00      0.98      0.99       871\n",
      "           3       0.98      0.98      0.98       781\n",
      "\n",
      "    accuracy                           0.98      3004\n",
      "   macro avg       0.98      0.98      0.98      3004\n",
      "weighted avg       0.98      0.98      0.98      3004\n",
      "\n"
     ]
    },
    {
     "name": "stderr",
     "output_type": "stream",
     "text": [
      "\n"
     ]
    }
   ],
   "source": [
    "import torch\n",
    "from torch.utils.data import DataLoader\n",
    "from tqdm import tqdm\n",
    "\n",
    "def get_prediction(model, dataloader):\n",
    "    use_cuda = torch.cuda.is_available()\n",
    "    device = torch.device('cuda') if use_cuda else torch.device('cpu')\n",
    "\n",
    "    if use_cuda:\n",
    "        model = model.cuda()\n",
    "\n",
    "    model.eval()\n",
    "\n",
    "    predictions = []\n",
    "    true_labels = []\n",
    "\n",
    "    with torch.no_grad():\n",
    "        for data_input, data_label in tqdm(dataloader):\n",
    "            data_label = data_label.to(device)\n",
    "            mask = data_input['attention_mask'].squeeze(1).to(device)\n",
    "            input_id = data_input['input_ids'].squeeze(1).to(device)\n",
    "\n",
    "            output = model(input_id, mask)\n",
    "            preds = output.argmax(dim=1)\n",
    "\n",
    "            predictions.extend(preds.cpu().numpy())\n",
    "            true_labels.extend(data_label.cpu().numpy())\n",
    "\n",
    "    return predictions, true_labels\n",
    "\n",
    "# Example usage\n",
    "# Assuming df_test is a DataFrame containing test data with columns 'drug_name' and 'transformed_sentences'\n",
    "test_dataset = Dataset(df_test)\n",
    "test_dataloader = DataLoader(test_dataset, batch_size=2, shuffle=False)\n",
    "\n",
    "# Load the best saved model\n",
    "model.load_state_dict(torch.load(os.path.join(model_save_path, 'model_state.bin')))\n",
    "\n",
    "# Get predictions\n",
    "predictions, true_labels = get_prediction(model, test_dataloader)\n",
    "\n",
    "# You can then compare the predictions with the true labels or use them for further evaluation\n",
    "from sklearn.metrics import classification_report\n",
    "\n",
    "print(classification_report(true_labels, predictions))"
   ]
  },
  {
   "cell_type": "markdown",
   "metadata": {},
   "source": [
    "## Feature 3\n"
   ]
  },
  {
   "cell_type": "code",
   "execution_count": 36,
   "metadata": {},
   "outputs": [
    {
     "name": "stdout",
     "output_type": "stream",
     "text": [
      "  (0, 2183)\t0.3560733570424169\n",
      "  (0, 2858)\t0.5335210557775061\n",
      "  (0, 2980)\t0.33695305203929327\n",
      "  (0, 4715)\t0.3577130194209486\n",
      "  (0, 4193)\t0.36113778160835414\n",
      "  (0, 2071)\t0.2627216248356759\n",
      "  (0, 5156)\t0.2390135798252401\n",
      "  (0, 1829)\t0.30083291559032393\n",
      "  (1, 2765)\t0.4585168729312828\n",
      "  (1, 1351)\t0.8886857021677111\n",
      "  (2, 2263)\t0.2708094866549267\n",
      "  (2, 4586)\t0.4316846093641784\n",
      "  (2, 5071)\t0.44358904667953863\n",
      "  (2, 4827)\t0.2570546169681927\n",
      "  (2, 3078)\t0.23875893121623276\n",
      "  (2, 4151)\t0.3207489298964512\n",
      "  (2, 1492)\t0.29911785906957045\n",
      "  (2, 1201)\t0.35264280744022497\n",
      "  (2, 4287)\t0.3220996041881179\n",
      "  (3, 4012)\t0.534375375933816\n",
      "  (3, 3326)\t0.5729355939201095\n",
      "  (3, 1018)\t0.39488574070665183\n",
      "  (3, 1237)\t0.3054771887014283\n",
      "  (3, 5)\t0.3700495936825698\n",
      "  (4, 4801)\t0.3601630582861626\n",
      "  :\t:\n",
      "  (6006, 3810)\t0.266723700884449\n",
      "  (6006, 278)\t0.30278988091992165\n",
      "  (6006, 4033)\t0.24160419308016043\n",
      "  (6006, 1558)\t0.24160419308016043\n",
      "  (6006, 2821)\t0.21617383387506503\n",
      "  (6006, 3470)\t0.20987895271102364\n",
      "  (6006, 1390)\t0.23609327417139986\n",
      "  (6006, 2098)\t0.1721949331238259\n",
      "  (6006, 2792)\t0.15461917912599263\n",
      "  (6007, 5221)\t0.40690224630890753\n",
      "  (6007, 1388)\t0.36244934695018927\n",
      "  (6007, 2358)\t0.40690224630890753\n",
      "  (6007, 987)\t0.36244934695018927\n",
      "  (6007, 5165)\t0.28822766104713454\n",
      "  (6007, 2896)\t0.29736053264983103\n",
      "  (6007, 1619)\t0.26742602182403663\n",
      "  (6007, 1809)\t0.3151406469723878\n",
      "  (6007, 2777)\t0.25257333627086354\n",
      "  (6008, 3452)\t0.462967378880836\n",
      "  (6008, 4290)\t0.4133719291682648\n",
      "  (6008, 1695)\t0.41770974043639536\n",
      "  (6008, 3642)\t0.462967378880836\n",
      "  (6008, 186)\t0.3151272227530411\n",
      "  (6008, 2777)\t0.24953491233016006\n",
      "  (6008, 5269)\t0.25375538243161966\n",
      "Number of Drug Types: 4\n",
      "          id  comment_id        drug_id  sentence_index  \\\n",
      "0        1.0         1.0      lexapro.1             1.0   \n",
      "1        2.0         1.0      lexapro.1             2.0   \n",
      "2        3.0         1.0      lexapro.1             3.0   \n",
      "3        4.0         1.0      lexapro.1             4.0   \n",
      "4        5.0         1.0      lexapro.1             5.0   \n",
      "...      ...         ...            ...             ...   \n",
      "6004  1545.0       228.0  effexorxr.228            14.0   \n",
      "6005  1546.0       228.0  effexorxr.228            15.0   \n",
      "6006  1547.0       228.0  effexorxr.228            16.0   \n",
      "6007  1548.0       228.0  effexorxr.228            17.0   \n",
      "6008  1549.0       228.0  effexorxr.228            18.0   \n",
      "\n",
      "                                              sentences  ADR   WD   EF  INF  \\\n",
      "0     extreme weight gain short-term memory loss hai...  1.0  0.0  0.0  0.0   \n",
      "1                                      detoxing lexapro  0.0  0.0  0.0  0.0   \n",
      "2     slowly cut dosage several months took vitamin ...  0.0  0.0  0.0  0.0   \n",
      "3                          10 days completely omg rough  0.0  0.0  0.0  0.0   \n",
      "4     flu-like symptoms dizziness major mood swings ...  0.0  1.0  0.0  0.0   \n",
      "...                                                 ...  ...  ...  ...  ...   \n",
      "6004                                increase dosage yet  0.0  0.0  0.0  0.0   \n",
      "6005           'm hoping able stay 75 mgs long possible  0.0  0.0  0.0  0.0   \n",
      "6006  reading withdrawals little scarey like said pe...  0.0  0.0  0.0  0.0   \n",
      "6007  effexor made huge difference life come experie...  0.0  0.0  1.0  0.0   \n",
      "6008              would small price pay able enjoy life  0.0  0.0  1.0  0.0   \n",
      "\n",
      "      SSI DI  Findings  others  rating category  drug_name  \n",
      "0     0.0  0       0.0       0     1.0     ssri    lexapro  \n",
      "1     0.0  0       0.0       0     1.0     ssri    lexapro  \n",
      "2     0.0  0       0.0       1     1.0     ssri    lexapro  \n",
      "3     0.0  0       0.0       1     1.0     ssri    lexapro  \n",
      "4     0.0  0       0.0       0     1.0     ssri    lexapro  \n",
      "...   ... ..       ...     ...     ...      ...        ...  \n",
      "6004  0.0  0       0.0       1     5.0     snri  effexorxr  \n",
      "6005  0.0  0       0.0       1     5.0     snri  effexorxr  \n",
      "6006  0.0  0       0.0       1     5.0     snri  effexorxr  \n",
      "6007  0.0  0       0.0       0     5.0     snri  effexorxr  \n",
      "6008  0.0  0       0.0       0     5.0     snri  effexorxr  \n",
      "\n",
      "[6009 rows x 16 columns]\n",
      "0       [POS] adverse drug reaction [NEG] withdrawal s...\n",
      "1       [NEG] adverse drug reaction [NEG] withdrawal s...\n",
      "2       [NEG] adverse drug reaction [NEG] withdrawal s...\n",
      "3       [NEG] adverse drug reaction [NEG] withdrawal s...\n",
      "4       [NEG] adverse drug reaction [POS] withdrawal s...\n",
      "                              ...                        \n",
      "6004    [NEG] adverse drug reaction [NEG] withdrawal s...\n",
      "6005    [NEG] adverse drug reaction [NEG] withdrawal s...\n",
      "6006    [NEG] adverse drug reaction [NEG] withdrawal s...\n",
      "6007    [NEG] adverse drug reaction [NEG] withdrawal s...\n",
      "6008    [NEG] adverse drug reaction [NEG] withdrawal s...\n",
      "Name: transformed_labels, Length: 6009, dtype: object\n"
     ]
    }
   ],
   "source": [
    "## This one is just for the annotated dataset -- Task 2 Feature 3\n",
    "import nltk\n",
    "import string\n",
    "from sklearn.feature_extraction.text import TfidfVectorizer\n",
    "\n",
    "def preprocess(text):\n",
    "    text=str(text)\n",
    "    tokens=nltk.word_tokenize(text.lower())\n",
    "    tokens_clean=[t for t in tokens if (t not in stop_words) and (t not in punctuations)]\n",
    "    return ' '.join(tokens_clean)\n",
    "    \n",
    "stop_words=nltk.corpus.stopwords.words('english')\n",
    "punctuations=string.punctuation\n",
    "\n",
    "df=data.parse('Sentence_Labeling')\n",
    "df.drop(df.tail(1).index,inplace=True)\n",
    "df['drug_id']=df['drug_id'].str.lower()\n",
    "df['drug_name']=df['drug_id'].str.replace(r'\\.\\d+','',regex=True)\n",
    "df['sentences']=df['sentences'].apply(preprocess)\n",
    "df.fillna(0,inplace=True)\n",
    "unique_drug_count=df['drug_name'].nunique()\n",
    "\n",
    "tfidf=TfidfVectorizer()\n",
    "tfidfSentences=tfidf.fit_transform(df['sentences'])\n",
    "\n",
    "print(tfidfSentences)\n",
    "\n",
    "print('Number of Drug Types:',unique_drug_count)\n",
    "print(df)\n",
    "df_word_label = df\n",
    "\n",
    "df_word_label['transformed_labels'] = df_word_label.apply(transform_labels, axis=1)\n",
    "print(df_word_label['transformed_labels'])\n",
    "\n",
    "df_word_label.drop(columns=[\"id\", \"comment_id\", \"drug_id\", \"sentence_index\", \"Findings\", \"others\", \"rating\", \"category\",\"sentences\", \"ADR\", \"WD\", \"EF\", \"INF\", \"SSI\", \"DI\"], axis=1, inplace=True)\n",
    "df_word_label = df_word_label[['transformed_labels', 'drug_name']]\n",
    "\n",
    "# x = df_word_label['transformed_labels'].values\n",
    "# y = df_word_label['drug_name'].astype('category').cat.codes.values\n",
    "\n",
    "#Split data\n",
    "df_train, df_test = train_test_split(df_word_label, random_state=42, test_size=0.10, shuffle=True)\n",
    "# split test into test and validation datasets\n",
    "df_test, df_valid = train_test_split(df_word_label, random_state=42, test_size=0.50, shuffle=True)"
   ]
  },
  {
   "cell_type": "code",
   "execution_count": 37,
   "metadata": {},
   "outputs": [
    {
     "name": "stderr",
     "output_type": "stream",
     "text": [
      "c:\\Users\\julev\\anaconda3\\envs\\cudaEnv\\Lib\\site-packages\\huggingface_hub\\file_download.py:1132: FutureWarning: `resume_download` is deprecated and will be removed in version 1.0.0. Downloads always resume when possible. If you want to force a new download, use `force_download=True`.\n",
      "  warnings.warn(\n"
     ]
    }
   ],
   "source": [
    "tokenizer = BertTokenizer.from_pretrained('bert-base-cased')\n",
    "labels = {'lexapro':0,\n",
    "          'zoloft':1,\n",
    "          'cymbalta':2,\n",
    "          'effexorxr':3\n",
    "          }\n",
    "\n",
    "class Dataset(torch.utils.data.Dataset):\n",
    "\n",
    "    def __init__(self, df):\n",
    "\n",
    "        self.labels = [labels[label] for label in df['drug_name']]\n",
    "        self.texts = [tokenizer(text, \n",
    "                               padding='max_length', max_length = 512, truncation=True,\n",
    "                                return_tensors=\"pt\") for text in df['transformed_labels']]\n",
    "                                ## change the df[''] depending on the feature\n",
    "\n",
    "    def classes(self):\n",
    "        return self.labels\n",
    "\n",
    "    def __len__(self):\n",
    "        return len(self.labels)\n",
    "\n",
    "    def get_batch_labels(self, idx):\n",
    "        # Fetch a batch of labels\n",
    "        return np.array(self.labels[idx])\n",
    "\n",
    "    def get_batch_texts(self, idx):\n",
    "        # Fetch a batch of inputs\n",
    "        return self.texts[idx]\n",
    "\n",
    "    def __getitem__(self, idx):\n",
    "\n",
    "        batch_texts = self.get_batch_texts(idx)\n",
    "        batch_y = self.get_batch_labels(idx)\n",
    "\n",
    "        return batch_texts, batch_y"
   ]
  },
  {
   "cell_type": "code",
   "execution_count": 38,
   "metadata": {},
   "outputs": [],
   "source": [
    "from transformers import BertModel\n",
    "\n",
    "class BertClassifier(nn.Module):\n",
    "\n",
    "    def __init__(self, dropout=0.5):\n",
    "\n",
    "        super(BertClassifier, self).__init__()\n",
    "\n",
    "        self.bert = BertModel.from_pretrained('bert-base-cased')\n",
    "        self.dropout = nn.Dropout(dropout)\n",
    "        self.linear = nn.Linear(768, 5)\n",
    "        self.relu = nn.ReLU()\n",
    "\n",
    "    def forward(self, input_id, mask):\n",
    "\n",
    "        _, pooled_output = self.bert(input_ids= input_id, attention_mask=mask,return_dict=False)\n",
    "        dropout_output = self.dropout(pooled_output)\n",
    "        linear_output = self.linear(dropout_output)\n",
    "        final_layer = self.relu(linear_output)\n",
    "\n",
    "        return final_layer"
   ]
  },
  {
   "cell_type": "code",
   "execution_count": 39,
   "metadata": {},
   "outputs": [
    {
     "name": "stderr",
     "output_type": "stream",
     "text": [
      "100%|██████████| 2704/2704 [04:40<00:00,  9.63it/s]\n"
     ]
    },
    {
     "name": "stdout",
     "output_type": "stream",
     "text": [
      "Model saved to ./model2_task2_feature3_model(unfrozen)\n",
      "Epochs: 1 | Train Loss:  0.785 | Train Accuracy:  0.266 | Val Loss:  0.762 | Val Accuracy:  0.254\n"
     ]
    },
    {
     "name": "stderr",
     "output_type": "stream",
     "text": [
      "100%|██████████| 2704/2704 [04:40<00:00,  9.63it/s]\n"
     ]
    },
    {
     "name": "stdout",
     "output_type": "stream",
     "text": [
      "Model saved to ./model2_task2_feature3_model(unfrozen)\n",
      "Epochs: 2 | Train Loss:  0.733 | Train Accuracy:  0.262 | Val Loss:  0.728 | Val Accuracy:  0.268\n"
     ]
    },
    {
     "name": "stderr",
     "output_type": "stream",
     "text": [
      "100%|██████████| 2704/2704 [04:40<00:00,  9.63it/s]\n"
     ]
    },
    {
     "name": "stdout",
     "output_type": "stream",
     "text": [
      "Epochs: 3 | Train Loss:  0.721 | Train Accuracy:  0.271 | Val Loss:  0.716 | Val Accuracy:  0.262\n"
     ]
    },
    {
     "name": "stderr",
     "output_type": "stream",
     "text": [
      "100%|██████████| 2704/2704 [04:40<00:00,  9.63it/s]\n"
     ]
    },
    {
     "name": "stdout",
     "output_type": "stream",
     "text": [
      "Model saved to ./model2_task2_feature3_model(unfrozen)\n",
      "Epochs: 4 | Train Loss:  0.715 | Train Accuracy:  0.281 | Val Loss:  0.710 | Val Accuracy:  0.287\n"
     ]
    },
    {
     "name": "stderr",
     "output_type": "stream",
     "text": [
      "100%|██████████| 2704/2704 [04:40<00:00,  9.63it/s]\n"
     ]
    },
    {
     "name": "stdout",
     "output_type": "stream",
     "text": [
      "Epochs: 5 | Train Loss:  0.711 | Train Accuracy:  0.283 | Val Loss:  0.708 | Val Accuracy:  0.281\n"
     ]
    },
    {
     "name": "stderr",
     "output_type": "stream",
     "text": [
      "100%|██████████| 2704/2704 [04:40<00:00,  9.63it/s]\n"
     ]
    },
    {
     "name": "stdout",
     "output_type": "stream",
     "text": [
      "Model saved to ./model2_task2_feature3_model(unfrozen)\n",
      "Epochs: 6 | Train Loss:  0.707 | Train Accuracy:  0.281 | Val Loss:  0.708 | Val Accuracy:  0.292\n"
     ]
    },
    {
     "name": "stderr",
     "output_type": "stream",
     "text": [
      "100%|██████████| 2704/2704 [04:41<00:00,  9.61it/s]\n"
     ]
    },
    {
     "name": "stdout",
     "output_type": "stream",
     "text": [
      "Epochs: 7 | Train Loss:  0.705 | Train Accuracy:  0.285 | Val Loss:  0.705 | Val Accuracy:  0.282\n"
     ]
    },
    {
     "name": "stderr",
     "output_type": "stream",
     "text": [
      "100%|██████████| 2704/2704 [04:41<00:00,  9.61it/s]\n"
     ]
    },
    {
     "name": "stdout",
     "output_type": "stream",
     "text": [
      "Model saved to ./model2_task2_feature3_model(unfrozen)\n",
      "Epochs: 8 | Train Loss:  0.705 | Train Accuracy:  0.286 | Val Loss:  0.701 | Val Accuracy:  0.300\n"
     ]
    },
    {
     "name": "stderr",
     "output_type": "stream",
     "text": [
      "100%|██████████| 2704/2704 [04:40<00:00,  9.63it/s]\n"
     ]
    },
    {
     "name": "stdout",
     "output_type": "stream",
     "text": [
      "Epochs: 9 | Train Loss:  0.703 | Train Accuracy:  0.280 | Val Loss:  0.702 | Val Accuracy:  0.293\n"
     ]
    },
    {
     "name": "stderr",
     "output_type": "stream",
     "text": [
      "100%|██████████| 2704/2704 [04:40<00:00,  9.63it/s]\n"
     ]
    },
    {
     "name": "stdout",
     "output_type": "stream",
     "text": [
      "Model saved to ./model2_task2_feature3_model(unfrozen)\n",
      "Epochs: 10 | Train Loss:  0.700 | Train Accuracy:  0.287 | Val Loss:  0.699 | Val Accuracy:  0.309\n"
     ]
    },
    {
     "name": "stderr",
     "output_type": "stream",
     "text": [
      "100%|██████████| 2704/2704 [04:40<00:00,  9.63it/s]\n"
     ]
    },
    {
     "name": "stdout",
     "output_type": "stream",
     "text": [
      "Epochs: 11 | Train Loss:  0.700 | Train Accuracy:  0.286 | Val Loss:  0.697 | Val Accuracy:  0.292\n"
     ]
    },
    {
     "name": "stderr",
     "output_type": "stream",
     "text": [
      "100%|██████████| 2704/2704 [04:40<00:00,  9.63it/s]\n"
     ]
    },
    {
     "name": "stdout",
     "output_type": "stream",
     "text": [
      "Epochs: 12 | Train Loss:  0.696 | Train Accuracy:  0.297 | Val Loss:  0.699 | Val Accuracy:  0.282\n"
     ]
    },
    {
     "name": "stderr",
     "output_type": "stream",
     "text": [
      "100%|██████████| 2704/2704 [04:41<00:00,  9.61it/s]\n"
     ]
    },
    {
     "name": "stdout",
     "output_type": "stream",
     "text": [
      "Epochs: 13 | Train Loss:  0.696 | Train Accuracy:  0.296 | Val Loss:  0.697 | Val Accuracy:  0.302\n"
     ]
    },
    {
     "name": "stderr",
     "output_type": "stream",
     "text": [
      "100%|██████████| 2704/2704 [04:41<00:00,  9.61it/s]\n"
     ]
    },
    {
     "name": "stdout",
     "output_type": "stream",
     "text": [
      "Epochs: 14 | Train Loss:  0.699 | Train Accuracy:  0.294 | Val Loss:  0.696 | Val Accuracy:  0.288\n"
     ]
    },
    {
     "name": "stderr",
     "output_type": "stream",
     "text": [
      "100%|██████████| 2704/2704 [04:41<00:00,  9.61it/s]\n"
     ]
    },
    {
     "name": "stdout",
     "output_type": "stream",
     "text": [
      "Epochs: 15 | Train Loss:  0.697 | Train Accuracy:  0.292 | Val Loss:  0.698 | Val Accuracy:  0.289\n"
     ]
    },
    {
     "name": "stderr",
     "output_type": "stream",
     "text": [
      "100%|██████████| 2704/2704 [04:40<00:00,  9.63it/s]\n"
     ]
    },
    {
     "name": "stdout",
     "output_type": "stream",
     "text": [
      "Epochs: 16 | Train Loss:  0.697 | Train Accuracy:  0.281 | Val Loss:  0.693 | Val Accuracy:  0.295\n"
     ]
    },
    {
     "name": "stderr",
     "output_type": "stream",
     "text": [
      "100%|██████████| 2704/2704 [04:40<00:00,  9.63it/s]\n"
     ]
    },
    {
     "name": "stdout",
     "output_type": "stream",
     "text": [
      "Epochs: 17 | Train Loss:  0.695 | Train Accuracy:  0.293 | Val Loss:  0.696 | Val Accuracy:  0.286\n"
     ]
    },
    {
     "name": "stderr",
     "output_type": "stream",
     "text": [
      "100%|██████████| 2704/2704 [04:40<00:00,  9.63it/s]\n"
     ]
    },
    {
     "name": "stdout",
     "output_type": "stream",
     "text": [
      "Epochs: 18 | Train Loss:  0.699 | Train Accuracy:  0.295 | Val Loss:  0.695 | Val Accuracy:  0.288\n"
     ]
    },
    {
     "name": "stderr",
     "output_type": "stream",
     "text": [
      "100%|██████████| 2704/2704 [04:40<00:00,  9.63it/s]\n"
     ]
    },
    {
     "name": "stdout",
     "output_type": "stream",
     "text": [
      "Epochs: 19 | Train Loss:  0.695 | Train Accuracy:  0.298 | Val Loss:  0.699 | Val Accuracy:  0.292\n"
     ]
    },
    {
     "name": "stderr",
     "output_type": "stream",
     "text": [
      "100%|██████████| 2704/2704 [04:40<00:00,  9.63it/s]\n"
     ]
    },
    {
     "name": "stdout",
     "output_type": "stream",
     "text": [
      "Epochs: 20 | Train Loss:  0.696 | Train Accuracy:  0.290 | Val Loss:  0.696 | Val Accuracy:  0.297\n",
      "Total training time: 6590.17 seconds\n"
     ]
    }
   ],
   "source": [
    "import os\n",
    "from collections import defaultdict\n",
    "import time\n",
    "\n",
    "history = defaultdict(list)\n",
    "torch.cuda.empty_cache()\n",
    "def train(model, train_data, val_data, learning_rate, epochs, model_save_path):\n",
    "\n",
    "    train, val = Dataset(train_data), Dataset(val_data)\n",
    "\n",
    "    train_dataloader = torch.utils.data.DataLoader(train, batch_size=2, shuffle=True)\n",
    "    val_dataloader = torch.utils.data.DataLoader(val, batch_size=2, shuffle=True)\n",
    "\n",
    "    use_cuda = torch.cuda.is_available()\n",
    "    device = torch.device('cuda') if torch.cuda.is_available() else torch.device('cpu')\n",
    "\n",
    "    criterion = nn.CrossEntropyLoss()\n",
    "    optimizer = Adam(model.parameters(), lr=learning_rate)\n",
    "\n",
    "    if use_cuda:\n",
    "        model = model.cuda()\n",
    "        criterion = criterion.cuda()\n",
    "    best_accuracy = 0\n",
    "\n",
    "    start_time = time.time()\n",
    "\n",
    "    for epoch_num in range(epochs):\n",
    "\n",
    "        total_acc_train = 0\n",
    "        total_loss_train = 0\n",
    "\n",
    "        for train_input, train_label in tqdm(train_dataloader):\n",
    "\n",
    "            train_label = train_label.to(device)\n",
    "            mask = train_input['attention_mask'].to(device)\n",
    "            input_id = train_input['input_ids'].squeeze(1).to(device)\n",
    "\n",
    "            output = model(input_id, mask)\n",
    "            \n",
    "            batch_loss = criterion(output, train_label.long())\n",
    "            total_loss_train += batch_loss.item()\n",
    "            \n",
    "            acc = (output.argmax(dim=1) == train_label).sum().item()\n",
    "            total_acc_train += acc\n",
    "\n",
    "            model.zero_grad()\n",
    "            batch_loss.backward()\n",
    "            optimizer.step()\n",
    "        \n",
    "        total_acc_val = 0\n",
    "        total_loss_val = 0\n",
    "\n",
    "        with torch.no_grad():\n",
    "\n",
    "            for val_input, val_label in val_dataloader:\n",
    "\n",
    "                val_label = val_label.to(device)\n",
    "                mask = val_input['attention_mask'].to(device)\n",
    "                input_id = val_input['input_ids'].squeeze(1).to(device)\n",
    "\n",
    "                output = model(input_id, mask)\n",
    "\n",
    "                batch_loss = criterion(output, val_label.long())\n",
    "                total_loss_val += batch_loss.item()\n",
    "                \n",
    "                acc = (output.argmax(dim=1) == val_label).sum().item()\n",
    "                total_acc_val += acc\n",
    "        \n",
    "        train_acc = total_acc_train / len(train_data)\n",
    "        train_loss = total_loss_train / len(train_data)\n",
    "        val_acc = total_acc_val / len(val_data)\n",
    "        val_loss = total_loss_val / len(val_data)\n",
    "\n",
    "        history['train_acc'].append(train_acc)\n",
    "        history['train_loss'].append(train_loss)\n",
    "        history['val_acc'].append(val_acc)\n",
    "        history['val_loss'].append(val_loss)\n",
    "\n",
    "        if val_acc > best_accuracy:\n",
    "            if not os.path.exists(model_save_path):\n",
    "                os.makedirs(model_save_path)\n",
    "            torch.save(model.state_dict(), os.path.join(model_save_path, 'model_state.bin'))\n",
    "            print(f\"Model saved to {model_save_path}\")\n",
    "            best_accuracy = val_acc\n",
    "        \n",
    "        print(f'Epochs: {epoch_num + 1} | Train Loss: {train_loss: .3f} | Train Accuracy: {train_acc: .3f} | Val Loss: {val_loss: .3f} | Val Accuracy: {val_acc: .3f}')\n",
    "\n",
    "    end_time = time.time()\n",
    "    total_train_time = end_time - start_time\n",
    "\n",
    "    print(f\"Total training time: {total_train_time:.2f} seconds\")\n",
    "    torch.cuda.empty_cache()\n",
    "    return history\n",
    "\n",
    "EPOCHS = 20\n",
    "model = BertClassifier()\n",
    "LR = 1e-6\n",
    "model_save_path = './model2_task2_feature3_model(unfrozen)'\n",
    "\n",
    "train(model, df_train, df_valid, LR, EPOCHS, model_save_path)\n",
    "torch.cuda.empty_cache()"
   ]
  },
  {
   "cell_type": "code",
   "execution_count": 40,
   "metadata": {},
   "outputs": [
    {
     "data": {
      "image/png": "[encoded data removed]",
      "text/plain": [
       "<Figure size 1000x700 with 1 Axes>"
      ]
     },
     "metadata": {},
     "output_type": "display_data"
    }
   ],
   "source": [
    "import matplotlib.pyplot as plt\n",
    "\n",
    "plt.rcParams[\"figure.figsize\"] = (10,7)\n",
    "plt.plot(history['train_acc'], label='train accuracy')\n",
    "plt.plot(history['val_acc'], label='validation accuracy')\n",
    "plt.title('Training history')\n",
    "plt.ylabel('Accuracy')\n",
    "plt.xlabel('Epoch')\n",
    "plt.legend()\n",
    "plt.ylim([0, 1])\n",
    "plt.grid()"
   ]
  },
  {
   "cell_type": "code",
   "execution_count": 41,
   "metadata": {},
   "outputs": [],
   "source": [
    "# Loading pretrained model (best model)\n",
    "model_load_path = './model2_task2_feature3_model(unfrozen)'\n",
    "model = BertClassifier()\n",
    "model.load_state_dict(torch.load(os.path.join(model_load_path, 'model_state.bin')))\n",
    "model = model.to(device)"
   ]
  },
  {
   "cell_type": "code",
   "execution_count": 42,
   "metadata": {},
   "outputs": [],
   "source": [
    "test_data_loader = torch.utils.data.DataLoader(df_test, batch_size=8, shuffle=False)\n"
   ]
  },
  {
   "cell_type": "code",
   "execution_count": 43,
   "metadata": {},
   "outputs": [
    {
     "name": "stderr",
     "output_type": "stream",
     "text": [
      "Evaluating: 100%|██████████| 1502/1502 [00:48<00:00, 30.85it/s]"
     ]
    },
    {
     "name": "stdout",
     "output_type": "stream",
     "text": [
      "Test Loss: 1.384 | Test Accuracy: 0.302\n"
     ]
    },
    {
     "name": "stderr",
     "output_type": "stream",
     "text": [
      "\n"
     ]
    }
   ],
   "source": [
    "torch.cuda.empty_cache()\n",
    "def evaluate(model, test_data):\n",
    "    test = Dataset(test_data)\n",
    "    test_dataloader = torch.utils.data.DataLoader(test, batch_size=2)\n",
    "\n",
    "    use_cuda = torch.cuda.is_available()\n",
    "    device = torch.device(\"cuda\" if use_cuda else \"cpu\")\n",
    "\n",
    "    if use_cuda:\n",
    "        model = model.cuda()\n",
    "\n",
    "    criterion = nn.CrossEntropyLoss()\n",
    "    total_acc_test = 0\n",
    "    total_loss_test = 0\n",
    "    model.eval()\n",
    "\n",
    "    with torch.no_grad():\n",
    "        for test_input, test_label in tqdm(test_dataloader, desc=\"Evaluating\"):\n",
    "            test_label = test_label.to(device, dtype=torch.long)  # Ensure labels are of type long\n",
    "            mask = test_input['attention_mask'].to(device)\n",
    "            input_id = test_input['input_ids'].squeeze(1).to(device)\n",
    "\n",
    "            output = model(input_id, mask)\n",
    "\n",
    "            loss = criterion(output, test_label)\n",
    "            total_loss_test += loss.item()\n",
    "\n",
    "            acc = (output.argmax(dim=1) == test_label).sum().item()\n",
    "            total_acc_test += acc\n",
    "\n",
    "    avg_loss_test = total_loss_test / len(test_dataloader)\n",
    "    avg_acc_test = total_acc_test / len(test_data)\n",
    "\n",
    "    print(f'Test Loss: {avg_loss_test:.3f} | Test Accuracy: {avg_acc_test:.3f}')\n",
    "evaluate(model, df_test)\n",
    "\n",
    "# labels = {'lexapro':0,\n",
    "#           'zoloft':1,\n",
    "#           'cymbalta':2,\n",
    "#           'effexorxr':3\n",
    "#           }"
   ]
  },
  {
   "cell_type": "code",
   "execution_count": 44,
   "metadata": {},
   "outputs": [
    {
     "name": "stderr",
     "output_type": "stream",
     "text": [
      "100%|██████████| 1502/1502 [00:48<00:00, 30.98it/s]"
     ]
    },
    {
     "name": "stdout",
     "output_type": "stream",
     "text": [
      "              precision    recall  f1-score   support\n",
      "\n",
      "           0       0.26      0.61      0.37       720\n",
      "           1       0.00      0.00      0.00       632\n",
      "           2       0.32      0.41      0.36       871\n",
      "           3       0.51      0.14      0.21       781\n",
      "\n",
      "    accuracy                           0.30      3004\n",
      "   macro avg       0.27      0.29      0.24      3004\n",
      "weighted avg       0.29      0.30      0.25      3004\n",
      "\n"
     ]
    },
    {
     "name": "stderr",
     "output_type": "stream",
     "text": [
      "\n",
      "c:\\Users\\julev\\anaconda3\\envs\\cudaEnv\\Lib\\site-packages\\sklearn\\metrics\\_classification.py:1509: UndefinedMetricWarning: Precision is ill-defined and being set to 0.0 in labels with no predicted samples. Use `zero_division` parameter to control this behavior.\n",
      "  _warn_prf(average, modifier, f\"{metric.capitalize()} is\", len(result))\n",
      "c:\\Users\\julev\\anaconda3\\envs\\cudaEnv\\Lib\\site-packages\\sklearn\\metrics\\_classification.py:1509: UndefinedMetricWarning: Precision is ill-defined and being set to 0.0 in labels with no predicted samples. Use `zero_division` parameter to control this behavior.\n",
      "  _warn_prf(average, modifier, f\"{metric.capitalize()} is\", len(result))\n",
      "c:\\Users\\julev\\anaconda3\\envs\\cudaEnv\\Lib\\site-packages\\sklearn\\metrics\\_classification.py:1509: UndefinedMetricWarning: Precision is ill-defined and being set to 0.0 in labels with no predicted samples. Use `zero_division` parameter to control this behavior.\n",
      "  _warn_prf(average, modifier, f\"{metric.capitalize()} is\", len(result))\n"
     ]
    }
   ],
   "source": [
    "import torch\n",
    "from torch.utils.data import DataLoader\n",
    "from tqdm import tqdm\n",
    "\n",
    "def get_prediction(model, dataloader):\n",
    "    use_cuda = torch.cuda.is_available()\n",
    "    device = torch.device('cuda') if use_cuda else torch.device('cpu')\n",
    "\n",
    "    if use_cuda:\n",
    "        model = model.cuda()\n",
    "\n",
    "    model.eval()\n",
    "\n",
    "    predictions = []\n",
    "    true_labels = []\n",
    "\n",
    "    with torch.no_grad():\n",
    "        for data_input, data_label in tqdm(dataloader):\n",
    "            data_label = data_label.to(device)\n",
    "            mask = data_input['attention_mask'].squeeze(1).to(device)\n",
    "            input_id = data_input['input_ids'].squeeze(1).to(device)\n",
    "\n",
    "            output = model(input_id, mask)\n",
    "            preds = output.argmax(dim=1)\n",
    "\n",
    "            predictions.extend(preds.cpu().numpy())\n",
    "            true_labels.extend(data_label.cpu().numpy())\n",
    "\n",
    "    return predictions, true_labels\n",
    "\n",
    "# Example usage\n",
    "# Assuming df_test is a DataFrame containing test data with columns 'drug_name' and 'transformed_sentences'\n",
    "test_dataset = Dataset(df_test)\n",
    "test_dataloader = DataLoader(test_dataset, batch_size=2, shuffle=False)\n",
    "\n",
    "# Load the best saved model\n",
    "model.load_state_dict(torch.load(os.path.join(model_save_path, 'model_state.bin')))\n",
    "\n",
    "# Get predictions\n",
    "predictions, true_labels = get_prediction(model, test_dataloader)\n",
    "\n",
    "# You can then compare the predictions with the true labels or use them for further evaluation\n",
    "from sklearn.metrics import classification_report\n",
    "\n",
    "print(classification_report(true_labels, predictions))"
   ]
  }
 ],
 "metadata": {
  "kernelspec": {
   "display_name": "cudaEnv",
   "language": "python",
   "name": "python3"
  },
  "language_info": {
   "codemirror_mode": {
    "name": "ipython",
    "version": 3
   },
   "file_extension": ".py",
   "mimetype": "text/x-python",
   "name": "python",
   "nbconvert_exporter": "python",
   "pygments_lexer": "ipython3",
   "version": "3.11.9"
  }
 },
 "nbformat": 4,
 "nbformat_minor": 2
}
