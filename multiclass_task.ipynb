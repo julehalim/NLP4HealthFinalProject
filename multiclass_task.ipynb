{
 "cells": [
  {
   "cell_type": "code",
   "execution_count": 92,
   "metadata": {},
   "outputs": [],
   "source": [
    "## Packages\n",
    "##Imports\n",
    "import pandas as pd\n",
    "import transformers\n",
    "import openpyxl\n",
    "import numpy\n",
    "import torch\n",
    "import os\n",
    "import numpy as np\n",
    "import shutil\n",
    "import sys\n",
    "import tqdm.notebook as tq\n",
    "from collections import defaultdict\n",
    "import time\n",
    "\n",
    "import torch\n",
    "import torch.nn as nn\n",
    "\n",
    "# Does augmenting classifiers with structured data help?\n",
    "# Do it for both the baseline classical ML and transformers then compare\n",
    "# Try it with just structured data [0s and 1s]"
   ]
  },
  {
   "cell_type": "code",
   "execution_count": 93,
   "metadata": {},
   "outputs": [
    {
     "data": {
      "text/plain": [
       "True"
      ]
     },
     "execution_count": 93,
     "metadata": {},
     "output_type": "execute_result"
    }
   ],
   "source": [
    "torch.cuda.is_available()"
   ]
  },
  {
   "cell_type": "code",
   "execution_count": 94,
   "metadata": {},
   "outputs": [],
   "source": [
    "torch.cuda.get_device_name(0)\n",
    "device = torch.device('cuda') if torch.cuda.is_available() else torch.device('cpu')"
   ]
  },
  {
   "cell_type": "code",
   "execution_count": 95,
   "metadata": {},
   "outputs": [
    {
     "name": "stdout",
     "output_type": "stream",
     "text": [
      "Sheet Name: Sample\n",
      "Sheet Name: Sentence_Labeling\n",
      "Sheet Name: ADR_Identified\n",
      "Sheet Name: ADR_Mapped\n",
      "Sheet Name: WD_Identified\n",
      "Sheet Name: WD-Mapped \n",
      "Sheet Name: SSI_Identified\n",
      "Sheet Name: SSI_Mapped\n",
      "Sheet Name: DI_Identified\n",
      "Sheet Name: DI_Mapped\n"
     ]
    }
   ],
   "source": [
    "## Reading in the PSYTar data set and parsing it\n",
    "\n",
    "## Use sentence_labelling sheet\n",
    "\n",
    "fileName=\".\\ONLINE_FORA\\PsyTAR_dataset.xlsx\"\n",
    "data=pd.ExcelFile(fileName)\n",
    "sheets={}\n",
    "for sheet in data.sheet_names:\n",
    "    sheets[sheet]=data.parse(sheet)\n",
    "\n",
    "## Remove the first two sheets (License and read_me)\n",
    "sheets.pop('License',None)\n",
    "sheets.pop('read_me',None)\n",
    "\n",
    "## This will print out the sheet names for the whole excel\n",
    "for sheet in sheets.keys():\n",
    "    print(f\"Sheet Name: {sheet}\")\n",
    "\n",
    "#To access a sheet, perform sheet['Sheet_Name']; e.g., sheets['Sample']"
   ]
  },
  {
   "cell_type": "code",
   "execution_count": 96,
   "metadata": {},
   "outputs": [
    {
     "name": "stdout",
     "output_type": "stream",
     "text": [
      "  (0, 2183)\t0.3560733570424169\n",
      "  (0, 2858)\t0.5335210557775061\n",
      "  (0, 2980)\t0.33695305203929327\n",
      "  (0, 4715)\t0.3577130194209486\n",
      "  (0, 4193)\t0.36113778160835414\n",
      "  (0, 2071)\t0.2627216248356759\n",
      "  (0, 5156)\t0.2390135798252401\n",
      "  (0, 1829)\t0.30083291559032393\n",
      "  (1, 2765)\t0.4585168729312828\n",
      "  (1, 1351)\t0.8886857021677111\n",
      "  (2, 2263)\t0.2708094866549267\n",
      "  (2, 4586)\t0.4316846093641784\n",
      "  (2, 5071)\t0.44358904667953863\n",
      "  (2, 4827)\t0.2570546169681927\n",
      "  (2, 3078)\t0.23875893121623276\n",
      "  (2, 4151)\t0.3207489298964512\n",
      "  (2, 1492)\t0.29911785906957045\n",
      "  (2, 1201)\t0.35264280744022497\n",
      "  (2, 4287)\t0.3220996041881179\n",
      "  (3, 4012)\t0.534375375933816\n",
      "  (3, 3326)\t0.5729355939201095\n",
      "  (3, 1018)\t0.39488574070665183\n",
      "  (3, 1237)\t0.3054771887014283\n",
      "  (3, 5)\t0.3700495936825698\n",
      "  (4, 4801)\t0.3601630582861626\n",
      "  :\t:\n",
      "  (6006, 3810)\t0.266723700884449\n",
      "  (6006, 278)\t0.30278988091992165\n",
      "  (6006, 4033)\t0.24160419308016043\n",
      "  (6006, 1558)\t0.24160419308016043\n",
      "  (6006, 2821)\t0.21617383387506503\n",
      "  (6006, 3470)\t0.20987895271102364\n",
      "  (6006, 1390)\t0.23609327417139986\n",
      "  (6006, 2098)\t0.1721949331238259\n",
      "  (6006, 2792)\t0.15461917912599263\n",
      "  (6007, 5221)\t0.40690224630890753\n",
      "  (6007, 1388)\t0.36244934695018927\n",
      "  (6007, 2358)\t0.40690224630890753\n",
      "  (6007, 987)\t0.36244934695018927\n",
      "  (6007, 5165)\t0.28822766104713454\n",
      "  (6007, 2896)\t0.29736053264983103\n",
      "  (6007, 1619)\t0.26742602182403663\n",
      "  (6007, 1809)\t0.3151406469723878\n",
      "  (6007, 2777)\t0.25257333627086354\n",
      "  (6008, 3452)\t0.462967378880836\n",
      "  (6008, 4290)\t0.4133719291682648\n",
      "  (6008, 1695)\t0.41770974043639536\n",
      "  (6008, 3642)\t0.462967378880836\n",
      "  (6008, 186)\t0.3151272227530411\n",
      "  (6008, 2777)\t0.24953491233016006\n",
      "  (6008, 5269)\t0.25375538243161966\n",
      "Number of Drug Types: 4\n",
      "          id  comment_id        drug_id  sentence_index  \\\n",
      "0        1.0         1.0      lexapro.1             1.0   \n",
      "1        2.0         1.0      lexapro.1             2.0   \n",
      "2        3.0         1.0      lexapro.1             3.0   \n",
      "3        4.0         1.0      lexapro.1             4.0   \n",
      "4        5.0         1.0      lexapro.1             5.0   \n",
      "...      ...         ...            ...             ...   \n",
      "6004  1545.0       228.0  effexorxr.228            14.0   \n",
      "6005  1546.0       228.0  effexorxr.228            15.0   \n",
      "6006  1547.0       228.0  effexorxr.228            16.0   \n",
      "6007  1548.0       228.0  effexorxr.228            17.0   \n",
      "6008  1549.0       228.0  effexorxr.228            18.0   \n",
      "\n",
      "                                              sentences  ADR   WD   EF  INF  \\\n",
      "0     extreme weight gain short-term memory loss hai...  1.0  0.0  0.0  0.0   \n",
      "1                                      detoxing lexapro  0.0  0.0  0.0  0.0   \n",
      "2     slowly cut dosage several months took vitamin ...  0.0  0.0  0.0  0.0   \n",
      "3                          10 days completely omg rough  0.0  0.0  0.0  0.0   \n",
      "4     flu-like symptoms dizziness major mood swings ...  0.0  1.0  0.0  0.0   \n",
      "...                                                 ...  ...  ...  ...  ...   \n",
      "6004                                increase dosage yet  0.0  0.0  0.0  0.0   \n",
      "6005           'm hoping able stay 75 mgs long possible  0.0  0.0  0.0  0.0   \n",
      "6006  reading withdrawals little scarey like said pe...  0.0  0.0  0.0  0.0   \n",
      "6007  effexor made huge difference life come experie...  0.0  0.0  1.0  0.0   \n",
      "6008              would small price pay able enjoy life  0.0  0.0  1.0  0.0   \n",
      "\n",
      "      SSI DI  Findings  others  rating category  drug_name  \n",
      "0     0.0  0       0.0       0     1.0     ssri    lexapro  \n",
      "1     0.0  0       0.0       0     1.0     ssri    lexapro  \n",
      "2     0.0  0       0.0       1     1.0     ssri    lexapro  \n",
      "3     0.0  0       0.0       1     1.0     ssri    lexapro  \n",
      "4     0.0  0       0.0       0     1.0     ssri    lexapro  \n",
      "...   ... ..       ...     ...     ...      ...        ...  \n",
      "6004  0.0  0       0.0       1     5.0     snri  effexorxr  \n",
      "6005  0.0  0       0.0       1     5.0     snri  effexorxr  \n",
      "6006  0.0  0       0.0       1     5.0     snri  effexorxr  \n",
      "6007  0.0  0       0.0       0     5.0     snri  effexorxr  \n",
      "6008  0.0  0       0.0       0     5.0     snri  effexorxr  \n",
      "\n",
      "[6009 rows x 16 columns]\n"
     ]
    }
   ],
   "source": [
    "## Vectorize data into TF-IDF and preprocess data\n",
    "\n",
    "import nltk\n",
    "import string\n",
    "from sklearn.feature_extraction.text import TfidfVectorizer\n",
    "\n",
    "\n",
    "def preprocess(text):\n",
    "    text=str(text)\n",
    "    tokens=nltk.word_tokenize(text.lower())\n",
    "    tokens_clean=[t for t in tokens if (t not in stop_words) and (t not in punctuations)]\n",
    "    return ' '.join(tokens_clean)\n",
    "    \n",
    "stop_words=nltk.corpus.stopwords.words('english')\n",
    "punctuations=string.punctuation\n",
    "\n",
    "df=data.parse('Sentence_Labeling')\n",
    "df.drop(df.tail(1).index,inplace=True)\n",
    "df['drug_id']=df['drug_id'].str.lower()\n",
    "df['drug_name']=df['drug_id'].str.replace(r'\\.\\d+','',regex=True)\n",
    "df['sentences']=df['sentences'].apply(preprocess)\n",
    "df.fillna(0,inplace=True)\n",
    "unique_drug_count=df['drug_name'].nunique()\n",
    "\n",
    "tfidf=TfidfVectorizer()\n",
    "tfidfSentences=tfidf.fit_transform(df['sentences'])\n",
    "\n",
    "print(tfidfSentences)\n",
    "\n",
    "print('Number of Drug Types:',unique_drug_count)\n",
    "print(df)\n",
    "\n",
    "## ADR: adverse drug reaction\n",
    "## WD: withdrawal symptom\n",
    "## EF: effective\n",
    "## INF: ineffective\n",
    "## SSI: Sign/symptom/illness - if report contains explicit SSI that patient experienced that are not a result of the drug\n",
    "## DI: drug indication - shows SSI that explicitly mentioned as being resolved because of drug consumption"
   ]
  },
  {
   "cell_type": "code",
   "execution_count": 97,
   "metadata": {},
   "outputs": [],
   "source": [
    "from sklearn.model_selection import train_test_split"
   ]
  },
  {
   "cell_type": "code",
   "execution_count": 98,
   "metadata": {},
   "outputs": [],
   "source": [
    "# category_mapping = df['drug_name'].astype('category').cat.categories"
   ]
  },
  {
   "cell_type": "code",
   "execution_count": 99,
   "metadata": {},
   "outputs": [],
   "source": [
    "# code_to_drug = {code: drug for code, drug in enumerate(category_mapping)}\n",
    "# print(code_to_drug)"
   ]
  },
  {
   "cell_type": "code",
   "execution_count": 100,
   "metadata": {},
   "outputs": [],
   "source": [
    "def transform_labels(row):\n",
    "    labels = [\n",
    "        '[POS] adverse drug reaction' if row['ADR'] == 1 else '[NEG] adverse drug reaction',\n",
    "        '[POS] withdrawal symptom' if row['WD'] == 1 else '[NEG] withdrawal symptom',\n",
    "        '[POS] effective' if row['EF'] == 1 else '[NEG] effective',\n",
    "        '[POS] ineffective' if row['INF'] == 1 else '[NEG] ineffective',\n",
    "        '[POS] sign/symptom/illness' if row['SSI'] == 1 else '[NEG] sign/symptom/illness',\n",
    "        '[POS] drug indication' if row['DI'] == 1 else '[NEG] drug indication'\n",
    "    ]\n",
    "    return ' '.join(labels)\n",
    "\n",
    "# df['drug_name'] = df['drug_name'].astype('category').cat.codes"
   ]
  },
  {
   "cell_type": "code",
   "execution_count": 101,
   "metadata": {},
   "outputs": [],
   "source": [
    "# category_mapping = df['drug_name'].astype('category').cat.categories\n",
    "# print(category_mapping)"
   ]
  },
  {
   "cell_type": "code",
   "execution_count": 102,
   "metadata": {},
   "outputs": [],
   "source": [
    "#this one is for the combined sentences -- Task 2 Feature 1\n",
    "\n",
    "df_word_label = df\n",
    "\n",
    "df_word_label['transformed_sentences'] = df.apply(lambda row: f\"{row['sentences']} {transform_labels(row)}\", axis=1)\n",
    "#print(df_word_label)\n",
    "\n",
    "## ADR: adverse drug reaction\n",
    "## WD: withdrawal symptom\n",
    "## EF: effective\n",
    "## INF: ineffective\n",
    "## SSI: Sign/symptom/illness - if report contains explicit SSI that patient experienced that are not a result of the drug\n",
    "## DI: drug indication - shows SSI that explicitly mentioned as being resolved because of drug consumption\n",
    "df_word_label.drop(columns=[\"id\", \"comment_id\", \"drug_id\", \"sentence_index\", \"Findings\", \"others\", \"rating\", \"category\",\"sentences\", \"ADR\", \"WD\", \"EF\", \"INF\", \"SSI\", \"DI\"], axis=1, inplace=True)\n",
    "\n",
    "df_word_label = df_word_label[['transformed_sentences', 'drug_name']]\n",
    "\n",
    "# Split data\n",
    "df_train, df_temp = train_test_split(df_word_label, random_state=42, test_size=0.55, shuffle=True)\n",
    "\n",
    "df_valid, df_test = train_test_split(df_temp, random_state=42, test_size=(1/11), shuffle=True)\n"
   ]
  },
  {
   "cell_type": "code",
   "execution_count": 103,
   "metadata": {},
   "outputs": [],
   "source": [
    "# # ## This one is just for the text without transformed sentences -- Task 2 Feature 2\n",
    "# df_word_label=df\n",
    "\n",
    "\n",
    "# # x = df_word_label['sentences'].values\n",
    "# # y = df_word_label['drug_name'].astype('category').cat.codes.values\n",
    "# df_word_label.drop(columns=[\"id\", \"comment_id\", \"drug_id\", \"sentence_index\", \"Findings\", \"others\", \"rating\", \"category\", \"ADR\", \"WD\", \"EF\", \"INF\", \"SSI\", \"DI\"], axis=1, inplace=True)\n",
    "# df_word_label = df_word_label[['sentences', 'drug_name']]\n",
    "\n",
    "# # Split data\n",
    "# df_train, df_temp = train_test_split(df_word_label, random_state=42, test_size=0.55, shuffle=True)\n",
    "\n",
    "# df_valid, df_test = train_test_split(df_temp, random_state=42, test_size=(1/11), shuffle=True)\n",
    "# )"
   ]
  },
  {
   "cell_type": "code",
   "execution_count": 104,
   "metadata": {},
   "outputs": [],
   "source": [
    "# ## This one is just for the annotated dataset -- Task 2 Feature 3\n",
    "\n",
    "# df_word_label = df\n",
    "\n",
    "# df_word_label['transformed_labels'] = df_word_label.apply(transform_labels, axis=1)\n",
    "# print(df_word_label['transformed_labels'])\n",
    "\n",
    "# df_word_label.drop(columns=[\"id\", \"comment_id\", \"drug_id\", \"sentence_index\", \"Findings\", \"others\", \"rating\", \"category\",\"sentences\", \"ADR\", \"WD\", \"EF\", \"INF\", \"SSI\", \"DI\"], axis=1, inplace=True)\n",
    "# df_word_label = df_word_label[['transformed_labels', 'drug_name']]\n",
    "\n",
    "# # x = df_word_label['transformed_labels'].values\n",
    "# # y = df_word_label['drug_name'].astype('category').cat.codes.values\n",
    "\n",
    "# #Split data\n",
    "# df_train, df_temp = train_test_split(df_word_label, random_state=42, test_size=0.55, shuffle=True)\n",
    "\n",
    "# df_valid, df_test = train_test_split(df_temp, random_state=42, test_size=(1/11), shuffle=True)"
   ]
  },
  {
   "cell_type": "code",
   "execution_count": 105,
   "metadata": {},
   "outputs": [
    {
     "name": "stdout",
     "output_type": "stream",
     "text": [
      "                                  transformed_sentences  drug_name\n",
      "0     extreme weight gain short-term memory loss hai...    lexapro\n",
      "1     detoxing lexapro [NEG] adverse drug reaction [...    lexapro\n",
      "2     slowly cut dosage several months took vitamin ...    lexapro\n",
      "3     10 days completely omg rough [NEG] adverse dru...    lexapro\n",
      "4     flu-like symptoms dizziness major mood swings ...    lexapro\n",
      "...                                                 ...        ...\n",
      "6004  increase dosage yet [NEG] adverse drug reactio...  effexorxr\n",
      "6005  'm hoping able stay 75 mgs long possible [NEG]...  effexorxr\n",
      "6006  reading withdrawals little scarey like said pe...  effexorxr\n",
      "6007  effexor made huge difference life come experie...  effexorxr\n",
      "6008  would small price pay able enjoy life [NEG] ad...  effexorxr\n",
      "\n",
      "[6009 rows x 2 columns]\n"
     ]
    }
   ],
   "source": [
    "print(df_word_label)"
   ]
  },
  {
   "cell_type": "code",
   "execution_count": 106,
   "metadata": {},
   "outputs": [
    {
     "name": "stdout",
     "output_type": "stream",
     "text": [
      "Train: (2704, 2), Test: (301, 2), Valid: (3004, 2)\n"
     ]
    }
   ],
   "source": [
    "print(f\"Train: {df_train.shape}, Test: {df_test.shape}, Valid: {df_valid.shape}\")"
   ]
  },
  {
   "cell_type": "code",
   "execution_count": 107,
   "metadata": {},
   "outputs": [],
   "source": [
    "from transformers import BertTokenizer\n"
   ]
  },
  {
   "cell_type": "code",
   "execution_count": 108,
   "metadata": {},
   "outputs": [
    {
     "name": "stdout",
     "output_type": "stream",
     "text": [
      "['lexapro', 'zoloft', 'cymbalta', 'effexorxr']\n"
     ]
    }
   ],
   "source": [
    "print(df['drug_name'].unique().tolist())"
   ]
  },
  {
   "cell_type": "code",
   "execution_count": 109,
   "metadata": {},
   "outputs": [
    {
     "name": "stderr",
     "output_type": "stream",
     "text": [
      "c:\\Users\\julev\\anaconda3\\envs\\cudaEnv\\Lib\\site-packages\\huggingface_hub\\file_download.py:1132: FutureWarning: `resume_download` is deprecated and will be removed in version 1.0.0. Downloads always resume when possible. If you want to force a new download, use `force_download=True`.\n",
      "  warnings.warn(\n"
     ]
    }
   ],
   "source": [
    "tokenizer = BertTokenizer.from_pretrained('bert-base-cased')\n",
    "labels = {'lexapro':0,\n",
    "          'zoloft':1,\n",
    "          'cymbalta':2,\n",
    "          'effexorxr':3\n",
    "          }\n",
    "\n",
    "class Dataset(torch.utils.data.Dataset):\n",
    "\n",
    "    def __init__(self, df):\n",
    "\n",
    "        self.labels = [labels[label] for label in df['drug_name']]\n",
    "        self.texts = [tokenizer(text, \n",
    "                               padding='max_length', max_length = 512, truncation=True,\n",
    "                                return_tensors=\"pt\") for text in df['transformed_sentences']]\n",
    "                                ## change the df[''] depending on the feature\n",
    "\n",
    "    def classes(self):\n",
    "        return self.labels\n",
    "\n",
    "    def __len__(self):\n",
    "        return len(self.labels)\n",
    "\n",
    "    def get_batch_labels(self, idx):\n",
    "        # Fetch a batch of labels\n",
    "        return np.array(self.labels[idx])\n",
    "\n",
    "    def get_batch_texts(self, idx):\n",
    "        # Fetch a batch of inputs\n",
    "        return self.texts[idx]\n",
    "\n",
    "    def __getitem__(self, idx):\n",
    "\n",
    "        batch_texts = self.get_batch_texts(idx)\n",
    "        batch_y = self.get_batch_labels(idx)\n",
    "\n",
    "        return batch_texts, batch_y"
   ]
  },
  {
   "cell_type": "code",
   "execution_count": 110,
   "metadata": {},
   "outputs": [],
   "source": [
    "from transformers import BertModel\n",
    "\n",
    "class BertClassifier(nn.Module):\n",
    "\n",
    "    def __init__(self, dropout=0.5):\n",
    "\n",
    "        super(BertClassifier, self).__init__()\n",
    "\n",
    "        self.bert = BertModel.from_pretrained('bert-base-cased')\n",
    "        self.dropout = nn.Dropout(dropout)\n",
    "        self.linear = nn.Linear(768, 5)\n",
    "        self.relu = nn.ReLU()\n",
    "\n",
    "    def forward(self, input_id, mask):\n",
    "\n",
    "        _, pooled_output = self.bert(input_ids= input_id, attention_mask=mask,return_dict=False)\n",
    "        dropout_output = self.dropout(pooled_output)\n",
    "        linear_output = self.linear(dropout_output)\n",
    "        final_layer = self.relu(linear_output)\n",
    "\n",
    "        return final_layer"
   ]
  },
  {
   "cell_type": "code",
   "execution_count": 111,
   "metadata": {},
   "outputs": [],
   "source": [
    "from torch.optim import Adam\n",
    "from tqdm import tqdm"
   ]
  },
  {
   "cell_type": "code",
   "execution_count": 112,
   "metadata": {},
   "outputs": [],
   "source": [
    "import os\n",
    "from collections import defaultdict\n",
    "import time\n",
    "\n",
    "history = defaultdict(list)\n",
    "torch.cuda.empty_cache()\n",
    "def train(model, train_data, val_data, learning_rate, epochs, model_save_path):\n",
    "\n",
    "    train, val = Dataset(train_data), Dataset(val_data)\n",
    "\n",
    "    train_dataloader = torch.utils.data.DataLoader(train, batch_size=2, shuffle=True)\n",
    "    val_dataloader = torch.utils.data.DataLoader(val, batch_size=2, shuffle=True)\n",
    "\n",
    "    use_cuda = torch.cuda.is_available()\n",
    "    device = torch.device('cuda') if torch.cuda.is_available() else torch.device('cpu')\n",
    "\n",
    "    criterion = nn.CrossEntropyLoss()\n",
    "    optimizer = Adam(model.parameters(), lr=learning_rate)\n",
    "\n",
    "    if use_cuda:\n",
    "        model = model.cuda()\n",
    "        criterion = criterion.cuda()\n",
    "    best_accuracy = 0\n",
    "\n",
    "    start_time = time.time()\n",
    "\n",
    "    for epoch_num in range(epochs):\n",
    "\n",
    "        total_acc_train = 0\n",
    "        total_loss_train = 0\n",
    "\n",
    "        for train_input, train_label in tqdm(train_dataloader):\n",
    "\n",
    "            train_label = train_label.to(device)\n",
    "            mask = train_input['attention_mask'].to(device)\n",
    "            input_id = train_input['input_ids'].squeeze(1).to(device)\n",
    "\n",
    "            output = model(input_id, mask)\n",
    "            \n",
    "            batch_loss = criterion(output, train_label.long())\n",
    "            total_loss_train += batch_loss.item()\n",
    "            \n",
    "            acc = (output.argmax(dim=1) == train_label).sum().item()\n",
    "            total_acc_train += acc\n",
    "\n",
    "            model.zero_grad()\n",
    "            batch_loss.backward()\n",
    "            optimizer.step()\n",
    "        \n",
    "        total_acc_val = 0\n",
    "        total_loss_val = 0\n",
    "\n",
    "        with torch.no_grad():\n",
    "\n",
    "            for val_input, val_label in val_dataloader:\n",
    "\n",
    "                val_label = val_label.to(device)\n",
    "                mask = val_input['attention_mask'].to(device)\n",
    "                input_id = val_input['input_ids'].squeeze(1).to(device)\n",
    "\n",
    "                output = model(input_id, mask)\n",
    "\n",
    "                batch_loss = criterion(output, val_label.long())\n",
    "                total_loss_val += batch_loss.item()\n",
    "                \n",
    "                acc = (output.argmax(dim=1) == val_label).sum().item()\n",
    "                total_acc_val += acc\n",
    "        \n",
    "        train_acc = total_acc_train / len(train_data)\n",
    "        train_loss = total_loss_train / len(train_data)\n",
    "        val_acc = total_acc_val / len(val_data)\n",
    "        val_loss = total_loss_val / len(val_data)\n",
    "\n",
    "        history['train_acc'].append(train_acc)\n",
    "        history['train_loss'].append(train_loss)\n",
    "        history['val_acc'].append(val_acc)\n",
    "        history['val_loss'].append(val_loss)\n",
    "\n",
    "        if val_acc > best_accuracy:\n",
    "            if not os.path.exists(model_save_path):\n",
    "                os.makedirs(model_save_path)\n",
    "            torch.save(model.state_dict(), os.path.join(model_save_path, 'model_state.bin'))\n",
    "            print(f\"Model saved to {model_save_path}\")\n",
    "            best_accuracy = val_acc\n",
    "        \n",
    "        print(f'Epochs: {epoch_num + 1} | Train Loss: {train_loss: .3f} | Train Accuracy: {train_acc: .3f} | Val Loss: {val_loss: .3f} | Val Accuracy: {val_acc: .3f}')\n",
    "\n",
    "    end_time = time.time()\n",
    "    total_train_time = end_time - start_time\n",
    "\n",
    "    print(f\"Total training time: {total_train_time:.2f} seconds\")\n",
    "    torch.cuda.empty_cache()\n",
    "    return history\n",
    "\n",
    "EPOCHS = 15\n",
    "model = BertClassifier()\n",
    "LR = 1e-6\n",
    "model_save_path = './model2_task2_feature1_model(unfrozen)'\n",
    "\n",
    "# train(model, df_train, df_valid, LR, EPOCHS, model_save_path)\n",
    "# torch.cuda.empty_cache()"
   ]
  },
  {
   "cell_type": "code",
   "execution_count": 113,
   "metadata": {},
   "outputs": [
    {
     "data": {
      "image/png": "[encoded data removed]",
      "text/plain": [
       "<Figure size 1000x700 with 1 Axes>"
      ]
     },
     "metadata": {},
     "output_type": "display_data"
    }
   ],
   "source": [
    "import matplotlib.pyplot as plt\n",
    "\n",
    "plt.rcParams[\"figure.figsize\"] = (10,7)\n",
    "plt.plot(history['train_acc'], label='train accuracy')\n",
    "plt.plot(history['val_acc'], label='validation accuracy')\n",
    "plt.title('Training history')\n",
    "plt.ylabel('Accuracy')\n",
    "plt.xlabel('Epoch')\n",
    "plt.legend()\n",
    "plt.ylim([0, 1])\n",
    "plt.grid()"
   ]
  },
  {
   "cell_type": "code",
   "execution_count": 114,
   "metadata": {},
   "outputs": [],
   "source": [
    "# Loading pretrained model (best model)\n",
    "model_load_path = './model2_task2_feature1_model(unfrozen)'\n",
    "model = BertClassifier()\n",
    "model.load_state_dict(torch.load(os.path.join(model_load_path, 'model_state.bin')))\n",
    "model = model.to(device)"
   ]
  },
  {
   "cell_type": "code",
   "execution_count": 115,
   "metadata": {},
   "outputs": [],
   "source": [
    "test_data_loader = torch.utils.data.DataLoader(df_test, batch_size=8, shuffle=False)\n"
   ]
  },
  {
   "cell_type": "code",
   "execution_count": 116,
   "metadata": {},
   "outputs": [
    {
     "name": "stderr",
     "output_type": "stream",
     "text": [
      "Evaluating: 100%|██████████| 151/151 [00:04<00:00, 31.36it/s]"
     ]
    },
    {
     "name": "stdout",
     "output_type": "stream",
     "text": [
      "Test Loss: 0.618 | Test Accuracy: 0.837\n"
     ]
    },
    {
     "name": "stderr",
     "output_type": "stream",
     "text": [
      "\n"
     ]
    }
   ],
   "source": [
    "torch.cuda.empty_cache()\n",
    "def evaluate(model, test_data):\n",
    "    test = Dataset(test_data)\n",
    "    test_dataloader = torch.utils.data.DataLoader(test, batch_size=2)\n",
    "\n",
    "    use_cuda = torch.cuda.is_available()\n",
    "    device = torch.device(\"cuda\" if use_cuda else \"cpu\")\n",
    "\n",
    "    if use_cuda:\n",
    "        model = model.cuda()\n",
    "\n",
    "    criterion = nn.CrossEntropyLoss()\n",
    "    total_acc_test = 0\n",
    "    total_loss_test = 0\n",
    "    model.eval()\n",
    "\n",
    "    with torch.no_grad():\n",
    "        for test_input, test_label in tqdm(test_dataloader, desc=\"Evaluating\"):\n",
    "            test_label = test_label.to(device, dtype=torch.long)  # Ensure labels are of type long\n",
    "            mask = test_input['attention_mask'].to(device)\n",
    "            input_id = test_input['input_ids'].squeeze(1).to(device)\n",
    "\n",
    "            output = model(input_id, mask)\n",
    "\n",
    "            loss = criterion(output, test_label)\n",
    "            total_loss_test += loss.item()\n",
    "\n",
    "            acc = (output.argmax(dim=1) == test_label).sum().item()\n",
    "            total_acc_test += acc\n",
    "\n",
    "    avg_loss_test = total_loss_test / len(test_dataloader)\n",
    "    avg_acc_test = total_acc_test / len(test_data)\n",
    "\n",
    "    print(f'Test Loss: {avg_loss_test:.3f} | Test Accuracy: {avg_acc_test:.3f}')\n",
    "evaluate(model, df_test)\n",
    "\n",
    "# labels = {'lexapro':0,\n",
    "#           'zoloft':1,\n",
    "#           'cymbalta':2,\n",
    "#           'effexorxr':3\n",
    "#           }"
   ]
  },
  {
   "cell_type": "code",
   "execution_count": 117,
   "metadata": {},
   "outputs": [
    {
     "name": "stderr",
     "output_type": "stream",
     "text": [
      "100%|██████████| 151/151 [00:04<00:00, 32.15it/s]"
     ]
    },
    {
     "name": "stdout",
     "output_type": "stream",
     "text": [
      "              precision    recall  f1-score   support\n",
      "\n",
      "           0       0.75      0.89      0.82        72\n",
      "           1       0.81      0.81      0.81        63\n",
      "           2       0.90      0.79      0.84        84\n",
      "           3       0.89      0.87      0.88        82\n",
      "\n",
      "    accuracy                           0.84       301\n",
      "   macro avg       0.84      0.84      0.84       301\n",
      "weighted avg       0.84      0.84      0.84       301\n",
      "\n"
     ]
    },
    {
     "name": "stderr",
     "output_type": "stream",
     "text": [
      "\n"
     ]
    }
   ],
   "source": [
    "import torch\n",
    "from torch.utils.data import DataLoader\n",
    "from tqdm import tqdm\n",
    "\n",
    "def get_prediction(model, dataloader):\n",
    "    use_cuda = torch.cuda.is_available()\n",
    "    device = torch.device('cuda') if use_cuda else torch.device('cpu')\n",
    "\n",
    "    if use_cuda:\n",
    "        model = model.cuda()\n",
    "\n",
    "    model.eval()\n",
    "\n",
    "    predictions = []\n",
    "    true_labels = []\n",
    "\n",
    "    with torch.no_grad():\n",
    "        for data_input, data_label in tqdm(dataloader):\n",
    "            data_label = data_label.to(device)\n",
    "            mask = data_input['attention_mask'].squeeze(1).to(device)\n",
    "            input_id = data_input['input_ids'].squeeze(1).to(device)\n",
    "\n",
    "            output = model(input_id, mask)\n",
    "            preds = output.argmax(dim=1)\n",
    "\n",
    "            predictions.extend(preds.cpu().numpy())\n",
    "            true_labels.extend(data_label.cpu().numpy())\n",
    "\n",
    "    # Convert lists to numpy arrays\n",
    "    predictions = np.array(predictions)\n",
    "    true_labels = np.array(true_labels)\n",
    "\n",
    "    return predictions, true_labels\n",
    "\n",
    "# Example usage\n",
    "# Assuming df_test is a DataFrame containing test data with columns 'drug_name' and 'transformed_sentences'\n",
    "test_dataset = Dataset(df_test)\n",
    "test_dataloader = DataLoader(test_dataset, batch_size=2, shuffle=False)\n",
    "\n",
    "# Load the best saved model\n",
    "model.load_state_dict(torch.load(os.path.join(model_save_path, 'model_state.bin')))\n",
    "\n",
    "# Get predictions\n",
    "predictions, true_labels = get_prediction(model, test_dataloader)\n",
    "\n",
    "# You can then compare the predictions with the true labels or use them for further evaluation\n",
    "from sklearn.metrics import classification_report\n",
    "\n",
    "print(classification_report(true_labels, predictions))"
   ]
  },
  {
   "cell_type": "code",
   "execution_count": 132,
   "metadata": {},
   "outputs": [
    {
     "name": "stdout",
     "output_type": "stream",
     "text": [
      "['zoloft' 'effexorxr' 'effexorxr' 'zoloft' 'cymbalta' 'zoloft' 'effexorxr'\n",
      " 'effexorxr' 'effexorxr' 'lexapro' 'lexapro' 'zoloft' 'lexapro'\n",
      " 'effexorxr' 'lexapro' 'effexorxr' 'cymbalta' 'cymbalta' 'cymbalta'\n",
      " 'zoloft' 'cymbalta' 'zoloft' 'cymbalta' 'cymbalta' 'lexapro' 'effexorxr'\n",
      " 'zoloft' 'cymbalta' 'cymbalta' 'cymbalta' 'cymbalta' 'lexapro' 'lexapro'\n",
      " 'effexorxr' 'lexapro' 'effexorxr' 'lexapro' 'zoloft' 'zoloft' 'effexorxr'\n",
      " 'cymbalta' 'effexorxr' 'zoloft' 'cymbalta' 'lexapro' 'effexorxr'\n",
      " 'cymbalta' 'lexapro' 'cymbalta' 'zoloft' 'lexapro' 'lexapro' 'lexapro'\n",
      " 'cymbalta' 'lexapro' 'zoloft' 'lexapro' 'effexorxr' 'cymbalta'\n",
      " 'effexorxr' 'zoloft' 'cymbalta' 'effexorxr' 'zoloft' 'lexapro' 'cymbalta'\n",
      " 'cymbalta' 'lexapro' 'lexapro' 'effexorxr' 'lexapro' 'effexorxr'\n",
      " 'effexorxr' 'lexapro' 'zoloft' 'effexorxr' 'zoloft' 'zoloft' 'effexorxr'\n",
      " 'effexorxr' 'cymbalta' 'lexapro' 'cymbalta' 'effexorxr' 'effexorxr'\n",
      " 'cymbalta' 'effexorxr' 'zoloft' 'zoloft' 'zoloft' 'effexorxr' 'effexorxr'\n",
      " 'cymbalta' 'cymbalta' 'effexorxr' 'lexapro' 'zoloft' 'effexorxr'\n",
      " 'lexapro' 'effexorxr' 'lexapro' 'cymbalta' 'effexorxr' 'zoloft' 'zoloft'\n",
      " 'cymbalta' 'zoloft' 'lexapro' 'cymbalta' 'effexorxr' 'lexapro' 'lexapro'\n",
      " 'lexapro' 'zoloft' 'lexapro' 'zoloft' 'cymbalta' 'zoloft' 'lexapro'\n",
      " 'cymbalta' 'zoloft' 'cymbalta' 'cymbalta' 'effexorxr' 'lexapro' 'lexapro'\n",
      " 'lexapro' 'effexorxr' 'zoloft' 'lexapro' 'cymbalta' 'zoloft' 'effexorxr'\n",
      " 'lexapro' 'cymbalta' 'zoloft' 'cymbalta' 'cymbalta' 'lexapro' 'effexorxr'\n",
      " 'lexapro' 'effexorxr' 'zoloft' 'lexapro' 'lexapro' 'lexapro' 'effexorxr'\n",
      " 'effexorxr' 'effexorxr' 'lexapro' 'lexapro' 'effexorxr' 'cymbalta'\n",
      " 'cymbalta' 'effexorxr' 'lexapro' 'zoloft' 'lexapro' 'lexapro' 'cymbalta'\n",
      " 'lexapro' 'zoloft' 'effexorxr' 'cymbalta' 'effexorxr' 'effexorxr'\n",
      " 'lexapro' 'cymbalta' 'lexapro' 'lexapro' 'lexapro' 'effexorxr' 'zoloft'\n",
      " 'cymbalta' 'zoloft' 'zoloft' 'effexorxr' 'cymbalta' 'effexorxr' 'lexapro'\n",
      " 'cymbalta' 'lexapro' 'lexapro' 'cymbalta' 'cymbalta' 'cymbalta'\n",
      " 'cymbalta' 'effexorxr' 'cymbalta' 'cymbalta' 'zoloft' 'cymbalta'\n",
      " 'effexorxr' 'effexorxr' 'cymbalta' 'effexorxr' 'lexapro' 'lexapro'\n",
      " 'lexapro' 'cymbalta' 'effexorxr' 'cymbalta' 'effexorxr' 'zoloft' 'zoloft'\n",
      " 'effexorxr' 'cymbalta' 'lexapro' 'lexapro' 'lexapro' 'effexorxr'\n",
      " 'lexapro' 'lexapro' 'lexapro' 'zoloft' 'effexorxr' 'lexapro' 'lexapro'\n",
      " 'cymbalta' 'cymbalta' 'lexapro' 'effexorxr' 'effexorxr' 'zoloft'\n",
      " 'effexorxr' 'lexapro' 'lexapro' 'zoloft' 'lexapro' 'effexorxr' 'lexapro'\n",
      " 'effexorxr' 'cymbalta' 'zoloft' 'effexorxr' 'zoloft' 'effexorxr'\n",
      " 'lexapro' 'effexorxr' 'cymbalta' 'cymbalta' 'zoloft' 'lexapro'\n",
      " 'effexorxr' 'effexorxr' 'effexorxr' 'cymbalta' 'zoloft' 'cymbalta'\n",
      " 'lexapro' 'cymbalta' 'zoloft' 'zoloft' 'cymbalta' 'effexorxr' 'effexorxr'\n",
      " 'zoloft' 'lexapro' 'effexorxr' 'zoloft' 'cymbalta' 'effexorxr' 'lexapro'\n",
      " 'lexapro' 'zoloft' 'zoloft' 'zoloft' 'cymbalta' 'lexapro' 'effexorxr'\n",
      " 'zoloft' 'effexorxr' 'zoloft' 'cymbalta' 'effexorxr' 'zoloft' 'zoloft'\n",
      " 'cymbalta' 'lexapro' 'lexapro' 'effexorxr' 'cymbalta' 'lexapro'\n",
      " 'effexorxr' 'cymbalta' 'effexorxr' 'effexorxr' 'cymbalta' 'lexapro'\n",
      " 'lexapro' 'zoloft' 'effexorxr' 'lexapro' 'lexapro' 'zoloft' 'zoloft'\n",
      " 'cymbalta' 'zoloft' 'zoloft' 'cymbalta' 'lexapro']\n"
     ]
    }
   ],
   "source": [
    "# labels = {'lexapro':0,\n",
    "#           'zoloft':1,\n",
    "#           'cymbalta':2,\n",
    "#           'effexorxr':3\n",
    "#           }\n",
    "\n",
    "reverse_labels = {v: k for k, v in labels.items()}\n",
    "\n",
    "vectorized_reverse_labels = np.vectorize(reverse_labels.get)\n",
    "label_predictions = np.array(vectorized_reverse_labels(predictions))\n",
    "\n",
    "print(label_predictions)"
   ]
  },
  {
   "cell_type": "code",
   "execution_count": 133,
   "metadata": {},
   "outputs": [
    {
     "name": "stdout",
     "output_type": "stream",
     "text": [
      "['zoloft' 'effexorxr' 'effexorxr' 'zoloft' 'effexorxr' 'zoloft'\n",
      " 'effexorxr' 'effexorxr' 'effexorxr' 'lexapro' 'lexapro' 'lexapro'\n",
      " 'lexapro' 'effexorxr' 'cymbalta' 'effexorxr' 'cymbalta' 'cymbalta'\n",
      " 'cymbalta' 'zoloft' 'cymbalta' 'zoloft' 'cymbalta' 'cymbalta' 'lexapro'\n",
      " 'effexorxr' 'zoloft' 'cymbalta' 'cymbalta' 'cymbalta' 'cymbalta'\n",
      " 'lexapro' 'lexapro' 'zoloft' 'lexapro' 'effexorxr' 'lexapro' 'zoloft'\n",
      " 'zoloft' 'effexorxr' 'cymbalta' 'effexorxr' 'lexapro' 'cymbalta'\n",
      " 'lexapro' 'effexorxr' 'cymbalta' 'lexapro' 'cymbalta' 'cymbalta'\n",
      " 'lexapro' 'lexapro' 'lexapro' 'cymbalta' 'lexapro' 'zoloft' 'lexapro'\n",
      " 'effexorxr' 'cymbalta' 'effexorxr' 'zoloft' 'cymbalta' 'effexorxr'\n",
      " 'zoloft' 'lexapro' 'cymbalta' 'cymbalta' 'effexorxr' 'lexapro'\n",
      " 'effexorxr' 'lexapro' 'effexorxr' 'effexorxr' 'lexapro' 'zoloft'\n",
      " 'effexorxr' 'zoloft' 'zoloft' 'effexorxr' 'zoloft' 'cymbalta' 'cymbalta'\n",
      " 'cymbalta' 'effexorxr' 'effexorxr' 'cymbalta' 'effexorxr' 'cymbalta'\n",
      " 'zoloft' 'zoloft' 'effexorxr' 'effexorxr' 'cymbalta' 'cymbalta'\n",
      " 'effexorxr' 'lexapro' 'zoloft' 'effexorxr' 'effexorxr' 'effexorxr'\n",
      " 'lexapro' 'lexapro' 'cymbalta' 'cymbalta' 'zoloft' 'cymbalta' 'lexapro'\n",
      " 'lexapro' 'cymbalta' 'effexorxr' 'cymbalta' 'effexorxr' 'lexapro'\n",
      " 'effexorxr' 'lexapro' 'zoloft' 'effexorxr' 'zoloft' 'lexapro' 'zoloft'\n",
      " 'zoloft' 'cymbalta' 'cymbalta' 'effexorxr' 'lexapro' 'lexapro' 'lexapro'\n",
      " 'effexorxr' 'cymbalta' 'lexapro' 'cymbalta' 'zoloft' 'effexorxr'\n",
      " 'lexapro' 'cymbalta' 'cymbalta' 'cymbalta' 'cymbalta' 'lexapro'\n",
      " 'effexorxr' 'lexapro' 'effexorxr' 'zoloft' 'lexapro' 'lexapro' 'lexapro'\n",
      " 'effexorxr' 'effexorxr' 'effexorxr' 'lexapro' 'lexapro' 'effexorxr'\n",
      " 'cymbalta' 'cymbalta' 'effexorxr' 'cymbalta' 'zoloft' 'lexapro' 'lexapro'\n",
      " 'cymbalta' 'zoloft' 'lexapro' 'effexorxr' 'cymbalta' 'zoloft' 'effexorxr'\n",
      " 'lexapro' 'cymbalta' 'lexapro' 'lexapro' 'zoloft' 'effexorxr' 'zoloft'\n",
      " 'cymbalta' 'zoloft' 'zoloft' 'effexorxr' 'cymbalta' 'lexapro' 'lexapro'\n",
      " 'cymbalta' 'cymbalta' 'zoloft' 'cymbalta' 'cymbalta' 'cymbalta'\n",
      " 'cymbalta' 'cymbalta' 'cymbalta' 'cymbalta' 'zoloft' 'effexorxr'\n",
      " 'effexorxr' 'effexorxr' 'cymbalta' 'effexorxr' 'zoloft' 'lexapro'\n",
      " 'lexapro' 'cymbalta' 'effexorxr' 'cymbalta' 'effexorxr' 'effexorxr'\n",
      " 'zoloft' 'effexorxr' 'lexapro' 'lexapro' 'lexapro' 'effexorxr'\n",
      " 'effexorxr' 'zoloft' 'lexapro' 'cymbalta' 'zoloft' 'effexorxr' 'lexapro'\n",
      " 'effexorxr' 'cymbalta' 'cymbalta' 'lexapro' 'effexorxr' 'cymbalta'\n",
      " 'zoloft' 'effexorxr' 'lexapro' 'lexapro' 'zoloft' 'lexapro' 'effexorxr'\n",
      " 'lexapro' 'effexorxr' 'cymbalta' 'zoloft' 'effexorxr' 'zoloft'\n",
      " 'effexorxr' 'lexapro' 'lexapro' 'cymbalta' 'cymbalta' 'zoloft' 'lexapro'\n",
      " 'effexorxr' 'effexorxr' 'effexorxr' 'cymbalta' 'zoloft' 'cymbalta'\n",
      " 'lexapro' 'cymbalta' 'zoloft' 'zoloft' 'cymbalta' 'effexorxr' 'effexorxr'\n",
      " 'zoloft' 'zoloft' 'effexorxr' 'zoloft' 'cymbalta' 'effexorxr' 'lexapro'\n",
      " 'cymbalta' 'zoloft' 'cymbalta' 'zoloft' 'cymbalta' 'cymbalta' 'effexorxr'\n",
      " 'zoloft' 'effexorxr' 'zoloft' 'cymbalta' 'effexorxr' 'zoloft' 'zoloft'\n",
      " 'cymbalta' 'lexapro' 'effexorxr' 'effexorxr' 'cymbalta' 'lexapro'\n",
      " 'cymbalta' 'cymbalta' 'effexorxr' 'effexorxr' 'cymbalta' 'lexapro'\n",
      " 'zoloft' 'zoloft' 'effexorxr' 'lexapro' 'lexapro' 'zoloft' 'zoloft'\n",
      " 'zoloft' 'zoloft' 'zoloft' 'cymbalta' 'lexapro']\n"
     ]
    }
   ],
   "source": [
    "true_numpy_labels=np.array(df_test['drug_name'].to_numpy())\n",
    "print(true_numpy_labels)"
   ]
  },
  {
   "cell_type": "code",
   "execution_count": 137,
   "metadata": {},
   "outputs": [
    {
     "name": "stdout",
     "output_type": "stream",
     "text": [
      "Confusion matrix for class 'lexapro':\n",
      "[[226  12]\n",
      " [ 12  51]]\n",
      "\n",
      "              precision    recall  f1-score   support\n",
      "\n",
      "   lexapro_0       0.95      0.95      0.95       238\n",
      "   lexapro_1       0.81      0.81      0.81        63\n",
      "\n",
      "    accuracy                           0.92       301\n",
      "   macro avg       0.88      0.88      0.88       301\n",
      "weighted avg       0.92      0.92      0.92       301\n",
      "\n",
      "Confusion matrix for class 'zoloft':\n",
      "[[210   9]\n",
      " [ 11  71]]\n",
      "\n",
      "              precision    recall  f1-score   support\n",
      "\n",
      "    zoloft_0       0.95      0.96      0.95       219\n",
      "    zoloft_1       0.89      0.87      0.88        82\n",
      "\n",
      "    accuracy                           0.93       301\n",
      "   macro avg       0.92      0.91      0.92       301\n",
      "weighted avg       0.93      0.93      0.93       301\n",
      "\n",
      "Confusion matrix for class 'cymbalta':\n",
      "[[208  21]\n",
      " [  8  64]]\n",
      "\n",
      "              precision    recall  f1-score   support\n",
      "\n",
      "  cymbalta_0       0.96      0.91      0.93       229\n",
      "  cymbalta_1       0.75      0.89      0.82        72\n",
      "\n",
      "    accuracy                           0.90       301\n",
      "   macro avg       0.86      0.90      0.88       301\n",
      "weighted avg       0.91      0.90      0.91       301\n",
      "\n",
      "Confusion matrix for class 'effexorxr':\n",
      "[[210   7]\n",
      " [ 18  66]]\n",
      "\n",
      "              precision    recall  f1-score   support\n",
      "\n",
      " effexorxr_0       0.92      0.97      0.94       217\n",
      " effexorxr_1       0.90      0.79      0.84        84\n",
      "\n",
      "    accuracy                           0.92       301\n",
      "   macro avg       0.91      0.88      0.89       301\n",
      "weighted avg       0.92      0.92      0.92       301\n",
      "\n"
     ]
    }
   ],
   "source": [
    "from sklearn.metrics import multilabel_confusion_matrix\n",
    "from sklearn.preprocessing import MultiLabelBinarizer\n",
    "text_labels = [\"zoloft\", \"effexorxr\", \"lexapro\", \"cymbalta\"]\n",
    "\n",
    "mlb = MultiLabelBinarizer(classes=text_labels)\n",
    "true_binary_labels = mlb.fit_transform([[label] for label in true_numpy_labels])\n",
    "pred_binary_labels = mlb.transform([[label] for label in label_predictions])\n",
    "\n",
    "# Compute multilabel confusion matrix for all classes\n",
    "confusion_matrices = multilabel_confusion_matrix(true_binary_labels, pred_binary_labels)\n",
    "# print(confusion_matrices)\n",
    "\n",
    "# Iterate over each class\n",
    "for idx, class_name in enumerate(labels):\n",
    "    # Get the confusion matrix for the current class\n",
    "    cm = confusion_matrices[idx]\n",
    "    print(f\"Confusion matrix for class '{class_name}':\\n{cm}\\n\")\n",
    "    \n",
    "    # Generate classification report for the current class\n",
    "    report = classification_report(true_binary_labels[:, idx], pred_binary_labels[:, idx],\n",
    "                                   target_names=[f'{class_name}_0', f'{class_name}_1'])\n",
    "    print(report)"
   ]
  },
  {
   "cell_type": "code",
   "execution_count": 142,
   "metadata": {},
   "outputs": [],
   "source": [
    "from sklearn.metrics import confusion_matrix\n",
    "\n",
    "all_confusion_matrix=confusion_matrix(np.array(true_numpy_labels), np.array(label_predictions))"
   ]
  },
  {
   "cell_type": "code",
   "execution_count": 144,
   "metadata": {},
   "outputs": [
    {
     "name": "stdout",
     "output_type": "stream",
     "text": [
      "[[66  4  8  6]\n",
      " [ 3 71  6  2]\n",
      " [ 2  2 64  4]\n",
      " [ 2  3  7 51]]\n"
     ]
    },
    {
     "data": {
      "image/png": "[encoded data removed]",
      "text/plain": [
       "<Figure size 800x600 with 2 Axes>"
      ]
     },
     "metadata": {},
     "output_type": "display_data"
    }
   ],
   "source": [
    "import matplotlib.pyplot as plt\n",
    "import seaborn as sns\n",
    "\n",
    "print(all_confusion_matrix)\n",
    "\n",
    "plt.figure(figsize=(8, 6))\n",
    "sns.heatmap(all_confusion_matrix, annot=True, fmt='d', cmap='Blues', xticklabels=np.unique(true_numpy_labels), yticklabels=np.unique(true_numpy_labels))\n",
    "plt.xlabel('Predicted Labels')\n",
    "plt.ylabel('True Labels')\n",
    "plt.title('Confusion Matrix')\n",
    "plt.show()"
   ]
  }
 ],
 "metadata": {
  "kernelspec": {
   "display_name": "cudaEnv",
   "language": "python",
   "name": "python3"
  },
  "language_info": {
   "codemirror_mode": {
    "name": "ipython",
    "version": 3
   },
   "file_extension": ".py",
   "mimetype": "text/x-python",
   "name": "python",
   "nbconvert_exporter": "python",
   "pygments_lexer": "ipython3",
   "version": "3.11.9"
  }
 },
 "nbformat": 4,
 "nbformat_minor": 2
}
