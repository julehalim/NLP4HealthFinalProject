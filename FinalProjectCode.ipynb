{
 "cells": [
  {
   "cell_type": "code",
   "execution_count": 1,
   "metadata": {},
   "outputs": [
    {
     "name": "stdout",
     "output_type": "stream",
     "text": [
      "Requirement already satisfied: openpyxl in c:\\users\\julev\\anaconda3\\envs\\python38\\lib\\site-packages (3.1.2)\n",
      "Requirement already satisfied: transformers in c:\\users\\julev\\anaconda3\\envs\\python38\\lib\\site-packages (4.39.3)\n",
      "Requirement already satisfied: et-xmlfile in c:\\users\\julev\\anaconda3\\envs\\python38\\lib\\site-packages (from openpyxl) (1.1.0)\n",
      "Requirement already satisfied: filelock in c:\\users\\julev\\anaconda3\\envs\\python38\\lib\\site-packages (from transformers) (3.13.3)\n",
      "Requirement already satisfied: huggingface-hub<1.0,>=0.19.3 in c:\\users\\julev\\anaconda3\\envs\\python38\\lib\\site-packages (from transformers) (0.22.2)\n",
      "Requirement already satisfied: numpy>=1.17 in c:\\users\\julev\\anaconda3\\envs\\python38\\lib\\site-packages (from transformers) (1.24.3)\n",
      "Requirement already satisfied: packaging>=20.0 in c:\\users\\julev\\anaconda3\\envs\\python38\\lib\\site-packages (from transformers) (24.0)\n",
      "Requirement already satisfied: pyyaml>=5.1 in c:\\users\\julev\\anaconda3\\envs\\python38\\lib\\site-packages (from transformers) (6.0.1)\n",
      "Requirement already satisfied: regex!=2019.12.17 in c:\\users\\julev\\anaconda3\\envs\\python38\\lib\\site-packages (from transformers) (2023.12.25)\n",
      "Requirement already satisfied: requests in c:\\users\\julev\\anaconda3\\envs\\python38\\lib\\site-packages (from transformers) (2.31.0)\n",
      "Requirement already satisfied: tokenizers<0.19,>=0.14 in c:\\users\\julev\\anaconda3\\envs\\python38\\lib\\site-packages (from transformers) (0.15.2)\n",
      "Requirement already satisfied: safetensors>=0.4.1 in c:\\users\\julev\\anaconda3\\envs\\python38\\lib\\site-packages (from transformers) (0.4.3)\n",
      "Requirement already satisfied: tqdm>=4.27 in c:\\users\\julev\\anaconda3\\envs\\python38\\lib\\site-packages (from transformers) (4.66.2)\n",
      "Requirement already satisfied: fsspec>=2023.5.0 in c:\\users\\julev\\anaconda3\\envs\\python38\\lib\\site-packages (from huggingface-hub<1.0,>=0.19.3->transformers) (2024.3.1)\n",
      "Requirement already satisfied: typing-extensions>=3.7.4.3 in c:\\users\\julev\\anaconda3\\envs\\python38\\lib\\site-packages (from huggingface-hub<1.0,>=0.19.3->transformers) (4.11.0)\n",
      "Requirement already satisfied: colorama in c:\\users\\julev\\anaconda3\\envs\\python38\\lib\\site-packages (from tqdm>=4.27->transformers) (0.4.6)\n",
      "Requirement already satisfied: charset-normalizer<4,>=2 in c:\\users\\julev\\anaconda3\\envs\\python38\\lib\\site-packages (from requests->transformers) (3.3.2)\n",
      "Requirement already satisfied: idna<4,>=2.5 in c:\\users\\julev\\anaconda3\\envs\\python38\\lib\\site-packages (from requests->transformers) (3.6)\n",
      "Requirement already satisfied: urllib3<3,>=1.21.1 in c:\\users\\julev\\anaconda3\\envs\\python38\\lib\\site-packages (from requests->transformers) (2.2.1)\n",
      "Requirement already satisfied: certifi>=2017.4.17 in c:\\users\\julev\\anaconda3\\envs\\python38\\lib\\site-packages (from requests->transformers) (2024.2.2)\n"
     ]
    },
    {
     "name": "stderr",
     "output_type": "stream",
     "text": [
      "c:\\Users\\julev\\anaconda3\\envs\\python38\\lib\\site-packages\\tqdm\\auto.py:21: TqdmWarning: IProgress not found. Please update jupyter and ipywidgets. See https://ipywidgets.readthedocs.io/en/stable/user_install.html\n",
      "  from .autonotebook import tqdm as notebook_tqdm\n"
     ]
    }
   ],
   "source": [
    "## Packages\n",
    "\n",
    "# ##Installs\n",
    "!pip install openpyxl transformers\n",
    "\n",
    "##Imports\n",
    "import pandas as pd\n",
    "import transformers\n",
    "import openpyxl\n",
    "\n",
    "from sklearn.feature_extraction.text import TfidfVectorizer"
   ]
  },
  {
   "cell_type": "code",
   "execution_count": 2,
   "metadata": {},
   "outputs": [
    {
     "name": "stdout",
     "output_type": "stream",
     "text": [
      "Sheet_Name: Sample\n",
      "Sheet_Name: Sentence_Labeling\n",
      "Sheet_Name: ADR_Identified\n",
      "Sheet_Name: ADR_Mapped\n",
      "Sheet_Name: WD_Identified\n",
      "Sheet_Name: WD-Mapped \n",
      "Sheet_Name: SSI_Identified\n",
      "Sheet_Name: SSI_Mapped\n",
      "Sheet_Name: DI_Identified\n",
      "Sheet_Name: DI_Mapped\n"
     ]
    }
   ],
   "source": [
    "## Reading in the PSYTar data set and parsing it\n",
    "\n",
    "## Use sentence_labelling sheet\n",
    "\n",
    "fileName=\".\\ONLINE_FORA\\PsyTAR_dataset.xlsx\"\n",
    "data=pd.ExcelFile(fileName)\n",
    "sheets={}\n",
    "for sheet in data.sheet_names:\n",
    "    sheets[sheet]=data.parse(sheet)\n",
    "\n",
    "## Remove the first two sheets (License and read_me)\n",
    "sheets.pop('License',None)\n",
    "sheets.pop('read_me',None)\n",
    "\n",
    "## This will print out the sheet names for the whole excel\n",
    "for sheet in sheets.keys():\n",
    "    print(f\"Sheet_Name: {sheet}\")\n",
    "\n",
    "#To access a sheet, perform sheet['Sheet_Name']; e.g., sheets['Sample']"
   ]
  },
  {
   "cell_type": "code",
   "execution_count": 9,
   "metadata": {},
   "outputs": [
    {
     "name": "stdout",
     "output_type": "stream",
     "text": [
      "          id  comment_id        drug_id  sentence_index  \\\n",
      "0        1.0         1.0      lexapro.1             1.0   \n",
      "1        2.0         1.0      lexapro.1             2.0   \n",
      "2        3.0         1.0      lexapro.1             3.0   \n",
      "3        4.0         1.0      lexapro.1             4.0   \n",
      "4        5.0         1.0      lexapro.1             5.0   \n",
      "...      ...         ...            ...             ...   \n",
      "6005  1546.0       228.0  effexorXR.228            15.0   \n",
      "6006  1547.0       228.0  effexorXR.228            16.0   \n",
      "6007  1548.0       228.0  effexorXR.228            17.0   \n",
      "6008  1549.0       228.0  effexorXR.228            18.0   \n",
      "6009     0.0         0.0              0             0.0   \n",
      "\n",
      "                                              sentences     ADR     WD  \\\n",
      "0     extreme weight gain, short-term memory loss, h...     1.0    0.0   \n",
      "1                       I am detoxing from Lexapro now.     0.0    0.0   \n",
      "2     I slowly cut my dosage over several months and...     0.0    0.0   \n",
      "3     I am now 10 days completely off and OMG is it ...     0.0    0.0   \n",
      "4     I have flu-like symptoms, dizziness, major moo...     0.0    1.0   \n",
      "...                                                 ...     ...    ...   \n",
      "6005  I'm hoping to be able to stay on the 75 mgs fo...     0.0    0.0   \n",
      "6006  Reading about the withdrawals is a little scar...     0.0    0.0   \n",
      "6007  Effexor has made a huge difference in my life ...     0.0    0.0   \n",
      "6008  It would be a small price to pay for being abl...     0.0    0.0   \n",
      "6009                                                  0  2168.0  438.0   \n",
      "\n",
      "          EF    INF    SSI   DI  Findings  others  rating category  \n",
      "0        0.0    0.0    0.0    0       0.0       0     1.0     ssri  \n",
      "1        0.0    0.0    0.0    0       0.0       0     1.0     ssri  \n",
      "2        0.0    0.0    0.0    0       0.0       1     1.0     ssri  \n",
      "3        0.0    0.0    0.0    0       0.0       1     1.0     ssri  \n",
      "4        0.0    0.0    0.0    0       0.0       0     1.0     ssri  \n",
      "...      ...    ...    ...  ...       ...     ...     ...      ...  \n",
      "6005     0.0    0.0    0.0    0       0.0       1     5.0     snri  \n",
      "6006     0.0    0.0    0.0    0       0.0       1     5.0     snri  \n",
      "6007     1.0    0.0    0.0    0       0.0       0     5.0     snri  \n",
      "6008     1.0    0.0    0.0    0       0.0       0     5.0     snri  \n",
      "6009  1087.0  337.0  789.0  516      27.0    2107     0.0        0  \n",
      "\n",
      "[6010 rows x 15 columns]\n"
     ]
    }
   ],
   "source": [
    "## Vectorize data into TF-IDF\n",
    "\n",
    "sheets['Sentence_Labeling'].fillna(0,inplace=True)\n",
    "\n",
    "print(sheets['Sentence_Labeling'])"
   ]
  },
  {
   "cell_type": "code",
   "execution_count": 4,
   "metadata": {},
   "outputs": [],
   "source": [
    "## Investigate K-means clustering to see whether certain medicines have different side effects - use as baseline to see if there is a significant difference with the transformer model\n"
   ]
  },
  {
   "cell_type": "code",
   "execution_count": 5,
   "metadata": {},
   "outputs": [],
   "source": [
    "## Create a transformer"
   ]
  },
  {
   "cell_type": "code",
   "execution_count": 6,
   "metadata": {},
   "outputs": [],
   "source": [
    "## Testing some changes"
   ]
  }
 ],
 "metadata": {
  "kernelspec": {
   "display_name": "base",
   "language": "python",
   "name": "python3"
  },
  "language_info": {
   "codemirror_mode": {
    "name": "ipython",
    "version": 3
   },
   "file_extension": ".py",
   "mimetype": "text/x-python",
   "name": "python",
   "nbconvert_exporter": "python",
   "pygments_lexer": "ipython3",
   "version": "3.8.17"
  }
 },
 "nbformat": 4,
 "nbformat_minor": 2
}
